{
 "cells": [
  {
   "cell_type": "code",
   "execution_count": null,
   "metadata": {},
   "outputs": [],
   "source": [
    "from cell_paint_seg import utils\n",
    "import seaborn as sns\n",
    "import matplotlib.pyplot as plt\n",
    "import pandas as pd\n",
    "from skimage import exposure\n",
    "import numpy as np\n",
    "from skimage import measure"
   ]
  },
  {
   "cell_type": "code",
   "execution_count": null,
   "metadata": {},
   "outputs": [],
   "source": [
    "# List of channel names ordered by channel number\n",
    "channels = [\"Brightfield\", \"ER\", \"AGP\", \"Mito\", \"DNA\", \"RNA\"]\n",
    "\n",
    "# Directories where segmentation results are located\n",
    "path_dir_seg_cprof = \"/Users/thomasathey/Documents/shavit-lab/fraenkel/first-sample/Assay Dev 20230329/BR00142688__2024-03-29T19_57_13-Measurement 1/test-set/cell-profiler-segmentation/\"\n",
    "path_dir_seg_ilastik = \"/Users/thomasathey/Documents/shavit-lab/fraenkel/first-sample/Assay Dev 20230329/BR00142688__2024-03-29T19_57_13-Measurement 1/test-set/hdf5s/\"\n",
    "path_dir_seg_cpose = \"/Users/thomasathey/Documents/shavit-lab/fraenkel/first-sample/Assay Dev 20230329/BR00142688__2024-03-29T19_57_13-Measurement 1/test-set/tifs-2channel\"\n",
    "\n",
    "# Substrings that identify whether a file should be collected\n",
    "tag_gt = \"gt\"\n",
    "tag_seg_cprof = \"_label_nuc.tiff\"\n",
    "tag_seg_ilastik = \"Segmentation_hier\"\n",
    "tag_seg_cpose = \"_seg\"\n",
    "\n",
    "# Directories where images and ground truth segmentations are located\n",
    "path_dir_im = \"/Users/thomasathey/Documents/shavit-lab/fraenkel/first-sample/Assay Dev 20230329/BR00142688__2024-03-29T19_57_13-Measurement 1/test-set/tifs\"\n",
    "path_dir_gt = \"/Users/thomasathey/Documents/shavit-lab/fraenkel/first-sample/Assay Dev 20230329/BR00142688__2024-03-29T19_57_13-Measurement 1/test-set/hdf5s/\"\n",
    "\n",
    "# CellProfiler statistics which are used to filter segmented objects\n",
    "path_cp_stats_nuc = \"/Users/thomasathey/Documents/shavit-lab/fraenkel/first-sample/Assay Dev 20230329/BR00142688__2024-03-29T19_57_13-Measurement 1/test-set/test_setNuclei.csv\"\n",
    "path_cp_stats_cell = \"/Users/thomasathey/Documents/shavit-lab/fraenkel/first-sample/Assay Dev 20230329/BR00142688__2024-03-29T19_57_13-Measurement 1/test-set/test_setCells.csv\"\n",
    "\n",
    "# Filtering options where key is the attribute (CellProfiler statistic name or regionprops property name) and value is tuple of lower and upper limits (inclusive)\n",
    "cp_stat_limits = {\"AreaShape_Area\": (300, 4000), \"Neighbors_NumberOfNeighbors_Adjacent\": (-1, 5), \"Neighbors_PercentTouching_Adjacent\":(-1, 50)}\n",
    "reg_stat_limits = {\"area\": (-1, 4000)}\n",
    "\n",
    "# Collection of CellProfiler filtering options (for brevity)\n",
    "kwargs = {\"path_cp_stats_nuc\":path_cp_stats_nuc, \"path_cp_stats_cell\":path_cp_stats_cell, \"cp_stat_limits\":cp_stat_limits}"
   ]
  },
  {
   "cell_type": "markdown",
   "metadata": {},
   "source": [
    "# View results"
   ]
  },
  {
   "cell_type": "code",
   "execution_count": null,
   "metadata": {},
   "outputs": [],
   "source": [
    "id_to_path_im = utils.get_id_to_path(path_dir_im)\n",
    "id_to_path_gt = utils.get_id_to_path(path_dir_gt, tag_gt)\n",
    "id_to_path_seg_cprof = utils.get_id_to_path(path_dir_seg_cprof, tag_seg_cprof)\n",
    "id_to_path_seg_ilastik = utils.get_id_to_path(path_dir_seg_ilastik, tag_seg_ilastik)\n",
    "id_to_path_seg_cpose = utils.get_id_to_path(path_dir_seg_cpose, tag_seg_cpose)\n",
    "\n",
    "for id in id_to_path_gt.keys():\n",
    "    images = utils.read_ims(id_to_path_im[id])\n",
    "\n",
    "    seg_pred_cprof = utils.read_seg(id_to_path_seg_cprof[id])\n",
    "    regions = utils.cp_filter(id, measure.regionprops(seg_pred_cprof), **kwargs)\n",
    "    seg_pred_cprof_filtered = np.zeros_like(seg_pred_cprof)\n",
    "    for region in regions:\n",
    "        seg_pred_cprof_filtered[seg_pred_cprof == region.label] = region.label\n",
    "\n",
    "    seg_pred_ilastik = utils.read_seg(id_to_path_seg_ilastik[id])\n",
    "    regions = utils.reg_prop_filter(measure.regionprops(seg_pred_ilastik), reg_stat_limits)\n",
    "    seg_pred_ilastik_filtered = np.zeros_like(seg_pred_ilastik)\n",
    "    for region in regions:\n",
    "        seg_pred_ilastik_filtered[seg_pred_ilastik == region.label] = region.label\n",
    "\n",
    "    seg_pred_cpose = utils.read_seg(id_to_path_seg_cpose[id])\n",
    "    regions = utils.reg_prop_filter(measure.regionprops(seg_pred_cpose), reg_stat_limits)\n",
    "    seg_pred_cpose_filtered = np.zeros_like(seg_pred_cpose)\n",
    "    for region in regions:\n",
    "        seg_pred_cpose_filtered[seg_pred_cpose == region.label] = region.label\n",
    "\n",
    "    seg_gt = utils.read_seg(id_to_path_gt[id])\n",
    "\n",
    "\n",
    "    image_dna = images[channels.index(\"DNA\")]\n",
    "    image_dna = exposure.equalize_adapthist(image_dna, clip_limit=0.03)\n",
    "    image_rna = images[channels.index(\"RNA\")]\n",
    "    image_rna = exposure.equalize_adapthist(image_rna, clip_limit=0.03)\n",
    "\n",
    "    f, axs = plt.subplots(nrows=2, ncols=4)\n",
    "    for ax_col, seg in zip(axs.T, [np.zeros_like(image_dna), seg_pred_cprof_filtered, seg_pred_ilastik_filtered, seg_pred_cpose_filtered]):\n",
    "        seg_masked = np.ma.masked_array(seg, mask=seg == 0)\n",
    "\n",
    "        ax_col[0].imshow(image_dna, cmap=\"gray\")\n",
    "        ax_col[0].imshow(seg_masked % 20, cmap=\"tab20\", alpha=0.7)\n",
    "        ax_col[0].axis(\"off\")\n",
    "\n",
    "        ax_col[1].imshow(image_rna, cmap=\"gray\")\n",
    "        ax_col[1].imshow(seg_masked % 20, cmap=\"tab20\", alpha=0.7)\n",
    "        ax_col[1].axis(\"off\")\n",
    "\n",
    "    for ax_col, name in zip(axs.T, [\"DNA\", \"CellProfiler\", \"ilastik\", \"CellPose\"]):\n",
    "        ax_col[0].set_title(name)\n",
    "\n",
    "    axs[1,0].set_title(\"RNA\")\n",
    "    f.set_size_inches(16, 8)\n",
    "    f.tight_layout()\n",
    "    #plt.savefig(f\"./{id}.svg\")"
   ]
  },
  {
   "cell_type": "markdown",
   "metadata": {},
   "source": [
    "# False negatives"
   ]
  },
  {
   "cell_type": "code",
   "execution_count": null,
   "metadata": {},
   "outputs": [],
   "source": [
    "df_fn_cp = utils.get_fn_rates(path_dir_gt=path_dir_gt, path_dir_seg=path_dir_seg_cprof, tag_gt=tag_gt, tag_seg=tag_seg_cprof, **kwargs)\n",
    "df_fn_cp[\"Method\"] = \"CellProfiler\"\n",
    "\n",
    "df_fn_ilastik = utils.get_fn_rates(path_dir_gt=path_dir_gt, path_dir_seg=path_dir_seg_ilastik, tag_gt=tag_gt, tag_seg=tag_seg_ilastik, reg_stat_limits=reg_stat_limits)\n",
    "df_fn_ilastik[\"Method\"] = \"ilastik\"\n",
    "\n",
    "df_fn_cpose = utils.get_fn_rates(path_dir_gt=path_dir_gt, path_dir_seg=path_dir_seg_cpose, tag_gt=tag_gt, tag_seg=tag_seg_cpose, reg_stat_limits=reg_stat_limits)\n",
    "df_fn_cpose[\"Method\"] = \"CellPose\"\n",
    "\n",
    "df_fn_combined = pd.concat((df_fn_cp, df_fn_ilastik, df_fn_cpose))"
   ]
  },
  {
   "cell_type": "code",
   "execution_count": null,
   "metadata": {},
   "outputs": [],
   "source": [
    "sns.barplot(df_fn_combined, x=\"Sample ID\", y=\"Proportion of Cells Missed\", hue=\"Method\") \n",
    "plt.xticks(rotation=20)\n",
    "plt.savefig(\"./missed-cells.svg\")"
   ]
  },
  {
   "cell_type": "markdown",
   "metadata": {},
   "source": [
    "# Annotate predictions"
   ]
  },
  {
   "cell_type": "code",
   "execution_count": null,
   "metadata": {},
   "outputs": [],
   "source": [
    "out_dir = \"/Users/thomasathey/Documents/shavit-lab/fraenkel/first-sample/Assay Dev 20230329/BR00142688__2024-03-29T19_57_13-Measurement 1/test-set/ilastik-det-types-hier\""
   ]
  },
  {
   "cell_type": "code",
   "execution_count": null,
   "metadata": {},
   "outputs": [],
   "source": [
    "utils.eval_detections(path_dir_im=path_dir_im, channels=channels, path_dir_gt=path_dir_gt, path_dir_seg=path_dir_seg_ilastik, out_dir=out_dir, tag_gt=tag_gt, tag_seg=tag_seg_ilastik, reg_stat_limits=reg_stat_limits)"
   ]
  },
  {
   "cell_type": "markdown",
   "metadata": {},
   "source": [
    "# Detection Type"
   ]
  },
  {
   "cell_type": "code",
   "execution_count": null,
   "metadata": {},
   "outputs": [],
   "source": [
    "path_dettype_ilastik = \"/Users/thomasathey/Documents/shavit-lab/fraenkel/first-sample/all_data_ilastik.pickle\"\n",
    "#path_dettype_ilastik = \"/Users/thomasathey/Documents/shavit-lab/fraenkel/first-sample/Assay Dev 20230329/BR00142688__2024-03-29T19_57_13-Measurement 1/test-set/ilastik-det-types-hier/all_data.pickle\"\n",
    "path_dettype_cprof = \"/Users/thomasathey/Documents/shavit-lab/fraenkel/first-sample/all_data.pickle\"\n",
    "path_dettype_cpose = \"/Users/thomasathey/Documents/shavit-lab/fraenkel/first-sample/Assay Dev 20230329/BR00142688__2024-03-29T19_57_13-Measurement 1/test-set/tifs-2channel/all_data.pickle\"\n"
   ]
  },
  {
   "cell_type": "code",
   "execution_count": null,
   "metadata": {},
   "outputs": [],
   "source": [
    "df_cprof = utils.get_detection_types(path_dettype_cprof)\n",
    "df_cprof[\"Method\"] = \"CellProfiler\"\n",
    "\n",
    "df_ilastik = utils.get_detection_types(path_dettype_ilastik)\n",
    "df_ilastik[\"Method\"] = \"ilastik\"\n",
    "\n",
    "df_cpose = utils.get_detection_types(path_dettype_cpose)\n",
    "df_cpose[\"Method\"] = \"CellPose\"\n",
    "\n",
    "df_combined = pd.concat((df_cprof, df_ilastik, df_cpose))"
   ]
  },
  {
   "cell_type": "code",
   "execution_count": null,
   "metadata": {},
   "outputs": [],
   "source": [
    "sns.histplot(df_combined, x=\"Detection Type\", weights=\"count\", hue=\"Method\", multiple=\"dodge\", stat=\"probability\", common_norm=False, shrink=0.8)\n",
    "plt.title(f\"Types of detections\")"
   ]
  },
  {
   "cell_type": "code",
   "execution_count": null,
   "metadata": {},
   "outputs": [],
   "source": [
    "new_sampledid = []\n",
    "for i, row in df_combined.iterrows():\n",
    "    new_sampledid.append(row[\"Sample ID\"].split(\" \")[0])\n",
    "\n",
    "df_combined[\"Sample ID\"] = new_sampledid\n",
    "df_combined = df_combined.sort_values(by = [\"Sample ID\"])"
   ]
  },
  {
   "cell_type": "code",
   "execution_count": null,
   "metadata": {},
   "outputs": [],
   "source": [
    "\n",
    "sns.barplot(df_combined[df_combined[\"Detection Type\"] == \"True detection\"], x=\"Sample ID\", y=\"Proportion\", hue=\"Method\")\n",
    "plt.title(\"Proportion of Detections that are Correct\")\n",
    "plt.savefig(\"./det-types.svg\")"
   ]
  },
  {
   "cell_type": "code",
   "execution_count": null,
   "metadata": {},
   "outputs": [],
   "source": []
  }
 ],
 "metadata": {
  "kernelspec": {
   "display_name": ".venv",
   "language": "python",
   "name": "python3"
  },
  "language_info": {
   "codemirror_mode": {
    "name": "ipython",
    "version": 3
   },
   "file_extension": ".py",
   "mimetype": "text/x-python",
   "name": "python",
   "nbconvert_exporter": "python",
   "pygments_lexer": "ipython3",
   "version": "3.9.5"
  }
 },
 "nbformat": 4,
 "nbformat_minor": 2
}
