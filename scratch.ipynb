{
 "cells": [
  {
   "cell_type": "markdown",
   "metadata": {},
   "source": [
    "# Convert tifs to rgb"
   ]
  },
  {
   "cell_type": "code",
   "execution_count": 8,
   "metadata": {},
   "outputs": [],
   "source": [
    "from cell_paint_seg.image_io import write_visual_jpg\n",
    "from cell_paint_seg.utils import get_id_to_path\n",
    "from PIL import Image\n",
    "import numpy as np\n",
    "from pathlib import Path\n",
    "from tqdm import tqdm"
   ]
  },
  {
   "cell_type": "code",
   "execution_count": 11,
   "metadata": {},
   "outputs": [],
   "source": [
    "id_to_path_im = get_id_to_path(\n",
    "    \"/Users/thomasathey/Documents/shavit-lab/fraenkel/first-sample/Assay Dev 20230329/BR00142688__2024-03-29T19_57_13-Measurement 1/test-set/tifs/\",\n",
    "    tag=\".tif\",\n",
    ")\n",
    "out_dir = Path(\n",
    "    \"/Users/thomasathey/Documents/shavit-lab/fraenkel/coco-annotator/datasets/cell-paint-dev-p2-test\"\n",
    ")"
   ]
  },
  {
   "cell_type": "code",
   "execution_count": 12,
   "metadata": {},
   "outputs": [
    {
     "name": "stderr",
     "output_type": "stream",
     "text": [
      "100%|██████████| 5/5 [00:01<00:00,  2.65it/s]\n"
     ]
    }
   ],
   "source": [
    "for id in tqdm(id_to_path_im.keys()):\n",
    "    in_paths = id_to_path_im[id]\n",
    "    out_path = out_dir / f\"{id}.jpg\"\n",
    "\n",
    "    write_visual_jpg(out_path, in_paths)"
   ]
  },
  {
   "cell_type": "markdown",
   "metadata": {},
   "source": [
    "# test skimage vs PIL"
   ]
  },
  {
   "cell_type": "code",
   "execution_count": 6,
   "metadata": {},
   "outputs": [
    {
     "data": {
      "text/plain": [
       "(100, 100, 3)"
      ]
     },
     "execution_count": 6,
     "metadata": {},
     "output_type": "execute_result"
    }
   ],
   "source": [
    "ra.shape"
   ]
  },
  {
   "cell_type": "code",
   "execution_count": 8,
   "metadata": {},
   "outputs": [
    {
     "name": "stdout",
     "output_type": "stream",
     "text": [
      "(100, 100)\n",
      "uint16\n",
      "(100, 100, 3)\n",
      "uint16\n"
     ]
    },
    {
     "name": "stderr",
     "output_type": "stream",
     "text": [
      "/var/folders/gy/jk_d3cx54vj18w9sm6x3sg_80000gn/T/ipykernel_93954/2572607544.py:13: UserWarning: test.tif is a low contrast image\n",
      "  io.imsave(\"test.tif\", ra)\n"
     ]
    },
    {
     "data": {
      "text/plain": [
       "0"
      ]
     },
     "execution_count": 8,
     "metadata": {},
     "output_type": "execute_result"
    }
   ],
   "source": [
    "from skimage import io\n",
    "from PIL import Image\n",
    "import numpy as np\n",
    "from cell_paint_seg.image_io import read_seg\n",
    "\n",
    "ra = np.eye(100, dtype=np.uint16)\n",
    "print(ra.shape)\n",
    "print(ra.dtype)\n",
    "ra = np.stack([ra, ra, ra], axis=-1)\n",
    "print(ra.shape)\n",
    "print(ra.dtype)\n",
    "\n",
    "io.imsave(\"test.tif\", ra)\n",
    "ra_out = Image.open(\"test.tif\")\n",
    "#ra_out = read_seg(\"test.tif\")\n",
    "\n",
    "np.sum(ra_out)"
   ]
  },
  {
   "cell_type": "code",
   "execution_count": null,
   "metadata": {},
   "outputs": [],
   "source": []
  },
  {
   "cell_type": "code",
   "execution_count": null,
   "metadata": {},
   "outputs": [],
   "source": []
  }
 ],
 "metadata": {
  "kernelspec": {
   "display_name": ".venv",
   "language": "python",
   "name": "python3"
  },
  "language_info": {
   "codemirror_mode": {
    "name": "ipython",
    "version": 3
   },
   "file_extension": ".py",
   "mimetype": "text/x-python",
   "name": "python",
   "nbconvert_exporter": "python",
   "pygments_lexer": "ipython3",
   "version": "3.9.5"
  }
 },
 "nbformat": 4,
 "nbformat_minor": 2
}
