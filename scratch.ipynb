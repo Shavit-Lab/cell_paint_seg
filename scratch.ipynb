{
 "cells": [
  {
   "cell_type": "markdown",
   "metadata": {},
   "source": [
    "# Convert tifs to rgb"
   ]
  },
  {
   "cell_type": "code",
   "execution_count": 8,
   "metadata": {},
   "outputs": [],
   "source": [
    "from cell_paint_seg.image_io import write_visual_jpg\n",
    "from cell_paint_seg.utils import get_id_to_path\n",
    "from PIL import Image\n",
    "import numpy as np\n",
    "from pathlib import Path\n",
    "from tqdm import tqdm"
   ]
  },
  {
   "cell_type": "code",
   "execution_count": 11,
   "metadata": {},
   "outputs": [],
   "source": [
    "id_to_path_im = get_id_to_path(\n",
    "    \"/Users/thomasathey/Documents/shavit-lab/fraenkel/first-sample/Assay Dev 20230329/BR00142688__2024-03-29T19_57_13-Measurement 1/test-set/tifs/\",\n",
    "    tag=\".tif\",\n",
    ")\n",
    "out_dir = Path(\n",
    "    \"/Users/thomasathey/Documents/shavit-lab/fraenkel/coco-annotator/datasets/cell-paint-dev-p2-test\"\n",
    ")"
   ]
  },
  {
   "cell_type": "code",
   "execution_count": 12,
   "metadata": {},
   "outputs": [
    {
     "name": "stderr",
     "output_type": "stream",
     "text": [
      "100%|██████████| 5/5 [00:01<00:00,  2.65it/s]\n"
     ]
    }
   ],
   "source": [
    "for id in tqdm(id_to_path_im.keys()):\n",
    "    in_paths = id_to_path_im[id]\n",
    "    out_path = out_dir / f\"{id}.jpg\"\n",
    "\n",
    "    write_visual_jpg(out_path, in_paths)"
   ]
  },
  {
   "cell_type": "code",
   "execution_count": null,
   "metadata": {},
   "outputs": [],
   "source": []
  }
 ],
 "metadata": {
  "kernelspec": {
   "display_name": ".venv",
   "language": "python",
   "name": "python3"
  },
  "language_info": {
   "codemirror_mode": {
    "name": "ipython",
    "version": 3
   },
   "file_extension": ".py",
   "mimetype": "text/x-python",
   "name": "python",
   "nbconvert_exporter": "python",
   "pygments_lexer": "ipython3",
   "version": "3.9.5"
  }
 },
 "nbformat": 4,
 "nbformat_minor": 2
}
