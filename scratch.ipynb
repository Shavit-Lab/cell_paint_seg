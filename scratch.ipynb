{
 "cells": [
  {
   "cell_type": "markdown",
   "metadata": {},
   "source": [
    "# Convert tifs to rgb"
   ]
  },
  {
   "cell_type": "code",
   "execution_count": 8,
   "metadata": {},
   "outputs": [],
   "source": [
    "from cell_paint_seg.image_io import write_visual_jpg\n",
    "from cell_paint_seg.utils import get_id_to_path\n",
    "from PIL import Image\n",
    "import numpy as np\n",
    "from pathlib import Path\n",
    "from tqdm import tqdm"
   ]
  },
  {
   "cell_type": "code",
   "execution_count": 11,
   "metadata": {},
   "outputs": [],
   "source": [
    "id_to_path_im = get_id_to_path(\n",
    "    \"/Users/thomasathey/Documents/shavit-lab/fraenkel/first-sample/Assay Dev 20230329/BR00142688__2024-03-29T19_57_13-Measurement 1/test-set/tifs/\",\n",
    "    tag=\".tif\",\n",
    ")\n",
    "out_dir = Path(\n",
    "    \"/Users/thomasathey/Documents/shavit-lab/fraenkel/coco-annotator/datasets/cell-paint-dev-p2-test\"\n",
    ")"
   ]
  },
  {
   "cell_type": "code",
   "execution_count": null,
   "metadata": {},
   "outputs": [],
   "source": [
    "for id in tqdm(id_to_path_im.keys()):\n",
    "    in_paths = id_to_path_im[id]\n",
    "    out_path = out_dir / f\"{id}.jpg\"\n",
    "\n",
    "    write_visual_jpg(out_path, in_paths)"
   ]
  },
  {
   "cell_type": "markdown",
   "metadata": {},
   "source": [
    "# test skimage vs PIL"
   ]
  },
  {
   "cell_type": "code",
   "execution_count": null,
   "metadata": {},
   "outputs": [],
   "source": [
    "ra.shape"
   ]
  },
  {
   "cell_type": "code",
   "execution_count": null,
   "metadata": {},
   "outputs": [],
   "source": [
    "from skimage import io\n",
    "from PIL import Image\n",
    "import numpy as np\n",
    "from cell_paint_seg.image_io import read_seg\n",
    "\n",
    "ra = np.eye(100, dtype=np.uint16)\n",
    "print(ra.shape)\n",
    "print(ra.dtype)\n",
    "ra = np.stack([ra, ra, ra], axis=-1)\n",
    "print(ra.shape)\n",
    "print(ra.dtype)\n",
    "\n",
    "io.imsave(\"test.tif\", ra)\n",
    "ra_out = Image.open(\"test.tif\")\n",
    "# ra_out = read_seg(\"test.tif\")\n",
    "\n",
    "np.sum(ra_out)"
   ]
  },
  {
   "cell_type": "code",
   "execution_count": null,
   "metadata": {},
   "outputs": [],
   "source": [
    "from skimage import io \n",
    "import h5py\n",
    "\n",
    "io.imread(\"/Users/thomasathey/Documents/shavit-lab/fraenkel/96_well/exp2/train_set/segmentations/s001-ch8sk1fk1fl1.tif\").dtype\n",
    "\n",
    "with h5py.File(\"/Users/thomasathey/Documents/shavit-lab/fraenkel/96_well/exp2/train_set/hdf5s/s001.h5\", \"r\") as f:\n",
    "    im = f[\"image\"][:]\n",
    "\n",
    "im.dtype"
   ]
  },
  {
   "cell_type": "code",
   "execution_count": null,
   "metadata": {},
   "outputs": [],
   "source": [
    "from skimage import io\n",
    "import numpy as np\n",
    "\n",
    "im = io.imread(\"/Users/thomasathey/Documents/shavit-lab/fraenkel/96_well/exp2/test_set/seg_gt_v3/s160-somas.tif\")\n",
    "im.dtype\n",
    "\n",
    "im = im.astype(np.uint32)\n",
    "\n",
    "io.imsave(\"/Users/thomasathey/Documents/shavit-lab/fraenkel/96_well/exp2/test_set/seg_gt_v3/seg_npuint32/s160-somas.tif\", im)"
   ]
  },
  {
   "cell_type": "code",
   "execution_count": null,
   "metadata": {},
   "outputs": [],
   "source": [
    "import h5py \n",
    "from pathlib import Path \n",
    "from skimage import io \n",
    "import numpy as np\n",
    "from cell_paint_seg.utils import get_id_to_path, get_id_from_name_96\n",
    "from cell_paint_seg.image_io import read_ims\n",
    "\n",
    "ids = [\"s039\", \"s158\", \"s160\"]\n",
    "im_dir = \"/Users/thomasathey/Documents/shavit-lab/fraenkel/96_well/exp2/test_set/tifs\"\n",
    "out_dir = Path(\"/Users/thomasathey/Documents/shavit-lab/fraenkel/96_well/exp2/test_set/tiffs_6c\")\n",
    "\n",
    "id_to_path = get_id_to_path(im_dir, tag=\".tif\", id_from_name=get_id_from_name_96)\n",
    "\n",
    "for id, paths in id_to_path.items():\n",
    "    ims = read_ims(paths)\n",
    "\n",
    "    ims = [np.linalg.norm(im, axis=-1) for im in ims]\n",
    "    ims = [im / np.max(im) * (2**16-1) for im in ims]\n",
    "    ims = [im.astype(np.uint16) for im in ims]\n",
    "    im = np.stack(ims, axis=0)\n",
    "    im = np.expand_dims(im, axis=1)\n",
    "\n",
    "    io.imsave(out_dir / f\"{id}.tif\", im)\n",
    "\n",
    "im.shape"
   ]
  },
  {
   "cell_type": "code",
   "execution_count": null,
   "metadata": {},
   "outputs": [],
   "source": [
    "im.shape"
   ]
  },
  {
   "cell_type": "code",
   "execution_count": null,
   "metadata": {},
   "outputs": [],
   "source": []
  }
 ],
 "metadata": {
  "kernelspec": {
   "display_name": ".venv",
   "language": "python",
   "name": "python3"
  },
  "language_info": {
   "codemirror_mode": {
    "name": "ipython",
    "version": 3
   },
   "file_extension": ".py",
   "mimetype": "text/x-python",
   "name": "python",
   "nbconvert_exporter": "python",
   "pygments_lexer": "ipython3",
   "version": "3.9.5"
  }
 },
 "nbformat": 4,
 "nbformat_minor": 2
}
