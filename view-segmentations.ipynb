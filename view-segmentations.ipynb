{
 "cells": [
  {
   "cell_type": "code",
   "execution_count": null,
   "metadata": {},
   "outputs": [],
   "source": [
    "from cell_paint_seg import utils, image_io\n",
    "import seaborn as sns\n",
    "import matplotlib.pyplot as plt\n",
    "import pandas as pd\n",
    "from skimage import exposure\n",
    "import numpy as np\n",
    "from skimage import measure"
   ]
  },
  {
   "cell_type": "code",
   "execution_count": null,
   "metadata": {},
   "outputs": [],
   "source": [
    "# List of channel names ordered by channel number\n",
    "channels = [\"Brightfield\", \"ER\", \"AGP\", \"Mito\", \"DNA\", \"RNA\"]\n",
    "\n",
    "# Directories where images and predicted segmentations are located\n",
    "path_dir_im = \"C:\\\\Users\\\\zeiss\\\\projects\\\\athey_als\\\\test-images\\\\tifs\" \n",
    "path_dir_seg_ilastik = \"C:\\\\Users\\\\zeiss\\\\projects\\\\athey_als\\\\test-images\\\\segmentations\"\n",
    "\n",
    "path_dir_im = \"D:\\Aneesh\\Assay Dev 20230329\\BR00142687__2024-03-29T18_18_57-Measurement 1\\Images\"\n",
    "path_dir_seg_ilastik = \"D:\\Aneesh\\Assay Dev 20230329\\BR00142687__2024-03-29T18_18_57-Measurement 1\\segmentations\"\n",
    "\n",
    "reg_stat_limits = {\"area\": (-1, 4000)}\n",
    "\n",
    "\n",
    "# Substrings that identify whether a file should be collected\n",
    "tag_im = \".tiff\"\n",
    "tag_seg_ilastik = \".tif\"\n",
    "tag_seg_cell = \"ch7\"\n",
    "tag_seg_soma = \"ch8\"\n",
    "tag_seg_nuc = \"ch9\""
   ]
  },
  {
   "cell_type": "markdown",
   "metadata": {},
   "source": [
    "# View results"
   ]
  },
  {
   "cell_type": "code",
   "execution_count": null,
   "metadata": {},
   "outputs": [],
   "source": [
    "id_to_path_im = utils.get_id_to_path(path_dir_im)\n",
    "id_to_path_seg_cell = utils.get_id_to_path(path_dir_seg_ilastik, tag_seg_cell)\n",
    "id_to_path_seg_soma = utils.get_id_to_path(path_dir_seg_ilastik, tag_seg_soma)\n",
    "id_to_path_seg_nuc = utils.get_id_to_path(path_dir_seg_ilastik, tag_seg_nuc)\n",
    "\n",
    "for n_id, id in enumerate(id_to_path_im.keys()):\n",
    "    print(id)\n",
    "    images = image_io.read_ims(id_to_path_im[id])\n",
    "\n",
    "\n",
    "    seg_cell = image_io.read_seg(id_to_path_seg_cell[id])\n",
    "    seg_nuc = image_io.read_seg(id_to_path_seg_nuc[id])\n",
    "    seg_soma = image_io.read_seg(id_to_path_seg_soma[id])\n",
    "    seg_cyto = np.logical_and(seg_soma > 0, seg_nuc == 0)\n",
    "\n",
    "    seg_cell_masked = np.ma.masked_array(seg_cell, mask=seg_cell == 0)\n",
    "    seg_soma_masked = np.ma.masked_array(seg_soma, mask=seg_soma == 0)\n",
    "    seg_nuc_masked = np.ma.masked_array(seg_nuc, mask=seg_nuc == 0)\n",
    "    seg_cyto_masked = np.ma.masked_array(seg_cyto, mask=seg_cyto == 0)\n",
    "\n",
    "\n",
    "    image_dna = images[channels.index(\"DNA\")]\n",
    "    image_dna = exposure.equalize_adapthist(image_dna, clip_limit=0.03, kernel_size = [s // 64 for s in image_dna.shape])\n",
    "    image_rna = images[channels.index(\"RNA\")]\n",
    "    image_rna = exposure.equalize_adapthist(image_rna, clip_limit=0.03)\n",
    "    image_agp = images[channels.index(\"AGP\")]\n",
    "    image_agp = exposure.equalize_adapthist(image_agp, clip_limit=0.03)\n",
    "    image_rgb = np.stack([image_agp, image_rna, image_dna], axis=2)\n",
    "\n",
    "\n",
    "    f, axs = plt.subplots(nrows=1, ncols=2)\n",
    "    axs[0].imshow(image_rgb, cmap=\"gray\")\n",
    "    axs[0].set_title(f\"Image {id}\", fontsize=24)\n",
    "\n",
    "    axs[1].imshow(image_dna, cmap=\"gray\")\n",
    "    axs[1].imshow(seg_cell_masked % 20, cmap=\"tab20\", alpha=0.5)\n",
    "    axs[1].imshow(seg_cyto_masked, cmap=\"Accent\", alpha=0.7)\n",
    "    axs[1].imshow(seg_nuc_masked > 0, cmap=\"Set1\", alpha=0.7)\n",
    "    # axs[1].imshow(seg_cyto_masked, cmap=\"Accent\", alpha=0.7)\n",
    "    # axs[1].imshow(seg_nuc_masked > 0, cmap=\"Set1\", alpha=0.7)\n",
    "    axs[1].set_title(f\"{seg_cell.max()} Cells Detected\", fontsize=24)\n",
    " \n",
    "    for ax in axs.flatten():\n",
    "        ax.axis(\"off\")\n",
    "        \n",
    "    f.set_size_inches(30, 10)\n",
    "    f.tight_layout()\n",
    "    plt.show()\n",
    "\n",
    "    if n_id > 5:\n",
    "        break"
   ]
  },
  {
   "cell_type": "code",
   "execution_count": null,
   "metadata": {},
   "outputs": [],
   "source": []
  }
 ],
 "metadata": {
  "kernelspec": {
   "display_name": "venv_als_395",
   "language": "python",
   "name": "python3"
  },
  "language_info": {
   "codemirror_mode": {
    "name": "ipython",
    "version": 3
   },
   "file_extension": ".py",
   "mimetype": "text/x-python",
   "name": "python",
   "nbconvert_exporter": "python",
   "pygments_lexer": "ipython3",
   "version": "3.9.5"
  }
 },
 "nbformat": 4,
 "nbformat_minor": 2
}
