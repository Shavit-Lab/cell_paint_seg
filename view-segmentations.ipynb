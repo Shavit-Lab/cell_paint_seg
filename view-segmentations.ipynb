{
 "cells": [
  {
   "cell_type": "code",
   "execution_count": null,
   "metadata": {},
   "outputs": [],
   "source": [
    "from cell_paint_seg import utils\n",
    "import seaborn as sns\n",
    "import matplotlib.pyplot as plt\n",
    "import pandas as pd\n",
    "from skimage import exposure\n",
    "import numpy as np\n",
    "from skimage import measure"
   ]
  },
  {
   "cell_type": "code",
   "execution_count": null,
   "metadata": {},
   "outputs": [],
   "source": [
    "# List of channel names ordered by channel number\n",
    "channels = [\"Brightfield\", \"ER\", \"AGP\", \"Mito\", \"DNA\", \"RNA\"]\n",
    "\n",
    "# Directories where images and predicted segmentations are located\n",
    "path_dir_im = \"/Users/thomasathey/Documents/shavit-lab/fraenkel/first-sample/Assay Dev 20230329/BR00142688__2024-03-29T19_57_13-Measurement 1/deployment-test-small/tifs\"\n",
    "path_dir_seg_ilastik = \"/Users/thomasathey/Documents/shavit-lab/fraenkel/first-sample/Assay Dev 20230329/BR00142688__2024-03-29T19_57_13-Measurement 1/deployment-test-small/segmentations\"\n",
    "\n",
    "reg_stat_limits = {\"area\": (-1, 4000)}\n",
    "\n",
    "\n",
    "# Substrings that identify whether a file should be collected\n",
    "tag_im = \".tiff\"\n",
    "tag_seg_ilastik = \".tif\""
   ]
  },
  {
   "cell_type": "markdown",
   "metadata": {},
   "source": [
    "# View Images"
   ]
  },
  {
   "cell_type": "code",
   "execution_count": null,
   "metadata": {},
   "outputs": [],
   "source": [
    "id_to_path_im = utils.get_id_to_path(path_dir_im)\n",
    "id_to_path_seg_ilastik = utils.get_id_to_path(path_dir_seg_ilastik, tag_seg_ilastik)\n",
    "\n",
    "for n_id, id in enumerate(id_to_path_seg_ilastik.keys()):\n",
    "    print(id)\n",
    "    images = utils.read_ims(id_to_path_im[id])\n",
    "\n",
    "    seg_pred_ilastik = utils.read_seg(id_to_path_seg_ilastik[id])\n",
    "    regions = utils.reg_prop_filter(measure.regionprops(seg_pred_ilastik), reg_stat_limits)\n",
    "    seg_pred_ilastik_filtered = np.zeros_like(seg_pred_ilastik)\n",
    "    for region in regions:\n",
    "        seg_pred_ilastik_filtered[seg_pred_ilastik == region.label] = region.label\n",
    "\n",
    "    image_dna = images[channels.index(\"DNA\")]\n",
    "    image_dna = exposure.equalize_adapthist(image_dna, clip_limit=0.03)\n",
    "    image_rna = images[channels.index(\"RNA\")]\n",
    "    image_rna = exposure.equalize_adapthist(image_rna, clip_limit=0.03)\n",
    "\n",
    "    f, axs = plt.subplots(nrows=2, ncols=2)\n",
    "    for ax_col, seg in zip(axs.T, [np.zeros_like(image_dna), seg_pred_ilastik_filtered]):\n",
    "        seg_masked = np.ma.masked_array(seg, mask=seg == 0)\n",
    "\n",
    "        ax_col[0].imshow(image_dna, cmap=\"gray\")\n",
    "        ax_col[0].imshow(seg_masked % 20, cmap=\"tab20\", alpha=0.7)\n",
    "        ax_col[0].axis(\"off\")\n",
    "\n",
    "        ax_col[1].imshow(image_rna, cmap=\"gray\")\n",
    "        ax_col[1].imshow(seg_masked % 20, cmap=\"tab20\", alpha=0.7)\n",
    "        ax_col[1].axis(\"off\")\n",
    "\n",
    "    for ax_col, name in zip(axs, [\"DNA\", \"CellProfiler\", \"ilastik\", \"CellPose\"]):\n",
    "        ax_col[0].set_title(name)\n",
    "\n",
    "    axs[1,0].set_title(\"RNA\")\n",
    "    f.set_size_inches(16, 8)\n",
    "    f.tight_layout()\n",
    "    plt.show()\n",
    "\n",
    "    if n_id > 5:\n",
    "        break"
   ]
  },
  {
   "cell_type": "code",
   "execution_count": null,
   "metadata": {},
   "outputs": [],
   "source": []
  }
 ],
 "metadata": {
  "kernelspec": {
   "display_name": ".venv",
   "language": "python",
   "name": "python3"
  },
  "language_info": {
   "codemirror_mode": {
    "name": "ipython",
    "version": 3
   },
   "file_extension": ".py",
   "mimetype": "text/x-python",
   "name": "python",
   "nbconvert_exporter": "python",
   "pygments_lexer": "ipython3",
   "version": "3.9.5"
  }
 },
 "nbformat": 4,
 "nbformat_minor": 2
}
