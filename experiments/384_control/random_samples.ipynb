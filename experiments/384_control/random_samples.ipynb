{
 "cells": [
  {
   "cell_type": "code",
   "execution_count": 28,
   "metadata": {},
   "outputs": [],
   "source": [
    "import numpy as np\n",
    "import os \n",
    "from skimage import io, measure\n",
    "from PIL import Image\n",
    "import napari\n",
    "from pathlib import Path\n",
    "import matplotlib.pyplot as plt\n",
    "import seaborn as sns \n",
    "import pandas as pd\n",
    "from tqdm.notebook import tqdm\n",
    "\n",
    "from cell_paint_seg.utils import get_id_to_path, \\\n",
    "                                row_col_field_from_id, \\\n",
    "                                check_valid_labels, \\\n",
    "                                combine_soma_nucleus_labels, \\\n",
    "                                match_small_to_big, \\\n",
    "                                combine_small_big_labels_instance, \\\n",
    "                                threat_score\n",
    "from cell_paint_seg.image_io import read_ims, read_seg"
   ]
  },
  {
   "cell_type": "code",
   "execution_count": 2,
   "metadata": {},
   "outputs": [],
   "source": [
    "path_images = \"./data/tifs\"\n",
    "path_seg_final = \"./data/seg_final\"\n",
    "channels = [\"Brightfield\", \"ER\", \"AGP\", \"Mito\", \"DNA\", \"RNA\"]\n",
    "res = 5.98e-7\n",
    "\n",
    "path_twochannel = \"./data/twochannel\"\n",
    "\n",
    "def name_from_id(id):\n",
    "    return id[:9]\n",
    "id_to_paths = get_id_to_path(path_images, name_from_id, tag=\".tiff\")"
   ]
  },
  {
   "cell_type": "markdown",
   "metadata": {},
   "source": [
    "# Image sampling"
   ]
  },
  {
   "cell_type": "markdown",
   "metadata": {},
   "source": [
    "There are two plates, and two sets of wells for each of two control cell lines. I will identify a single DMSO well for each control line, on each plate"
   ]
  },
  {
   "cell_type": "code",
   "execution_count": null,
   "metadata": {},
   "outputs": [],
   "source": [
    "for plate in range(2):\n",
    "    for line in range(2):\n",
    "        row = np.random.randint(0,16) + 1\n",
    "        row = str(row).zfill(2)\n",
    "\n",
    "        field = np.random.randint(0, 9) + 1\n",
    "        field = str(field).zfill(2)\n",
    "        print(f\"For plate {plate}, control line {line}, we will annotate r{row}c?f{field}\")\n"
   ]
  },
  {
   "cell_type": "markdown",
   "metadata": {},
   "source": [
    "# Image processing"
   ]
  },
  {
   "cell_type": "code",
   "execution_count": 4,
   "metadata": {},
   "outputs": [],
   "source": [
    "# if the folder path_twochannel does not exist, create it\n",
    "if not os.path.exists(path_twochannel):\n",
    "    os.makedirs(path_twochannel)"
   ]
  },
  {
   "cell_type": "code",
   "execution_count": null,
   "metadata": {},
   "outputs": [],
   "source": [
    "for id, paths in id_to_paths.items():\n",
    "    ims = read_ims(paths)\n",
    "\n",
    "    im_2channel = np.stack([ims[channels.index(c)] for c in [\"RNA\", \"DNA\"]], axis=-1)\n",
    "                           \n",
    "    # save the two channel image\n",
    "    path = os.path.join(path_twochannel, f\"{id}.tiff\")\n",
    "    io.imsave(path, im_2channel)\n"
   ]
  },
  {
   "cell_type": "code",
   "execution_count": 11,
   "metadata": {},
   "outputs": [],
   "source": [
    "id = \"r07c01f01\"\n",
    "\n",
    "ims = read_ims(id_to_paths[id])\n",
    "\n",
    "viewer = napari.Viewer()\n",
    "for im, channel in zip(ims, channels):\n",
    "    viewer.add_image(im, name=channel)"
   ]
  },
  {
   "cell_type": "markdown",
   "metadata": {},
   "source": [
    "# Harmonize nuclei, somas, and cells"
   ]
  },
  {
   "cell_type": "code",
   "execution_count": 10,
   "metadata": {},
   "outputs": [],
   "source": [
    "path_nuclei = \"./data/twochannel/v2/nuclei\"\n",
    "path_somas = \"./data/twochannel/v2/somas\"\n",
    "path_cells = \"./data/twochannel/v2/cells\"\n",
    "\n",
    "id_to_paths_im = get_id_to_path(path_images, name_from_id, tag=\".tiff\")\n",
    "id_to_paths_nuclei = get_id_to_path(path_nuclei, name_from_id, tag=\".npy\")\n",
    "id_to_paths_somas = get_id_to_path(path_somas, name_from_id, tag=\".npy\")\n",
    "id_to_paths_cells = get_id_to_path(path_cells, name_from_id, tag=\".npy\")"
   ]
  },
  {
   "cell_type": "code",
   "execution_count": null,
   "metadata": {},
   "outputs": [],
   "source": [
    "counter = 0\n",
    "\n",
    "for id, paths in id_to_paths_nuclei.items():\n",
    "    seg_nuc = read_seg(paths)\n",
    "    seg_soma = read_seg(id_to_paths_somas[id])\n",
    "    seg_cell = read_seg(id_to_paths_cells[id])\n",
    "\n",
    "    ims = read_ims(id_to_paths[id])\n",
    "\n",
    "    print(f\"{len(np.unique(seg_nuc))} unique nuclei labels and {len(np.unique(seg_soma))} unique soma labels\")\n",
    "    matches, unmatched_nuc, unmatched_soma = match_small_to_big(seg_nuc, seg_soma)\n",
    "    if len(unmatched_nuc) > 0 or len(unmatched_soma) > 0:  \n",
    "        print(f\"{len(unmatched_nuc)} unmatched nuclei and {len(unmatched_soma)} unmatched somas\")\n",
    "        nuc_unmatched = np.zeros_like(seg_nuc)\n",
    "        soma_unmatched = np.zeros_like(seg_soma)\n",
    "        for nuc_id in unmatched_nuc:\n",
    "            nuc_unmatched[seg_nuc == nuc_id] = nuc_id\n",
    "        for soma_id in unmatched_soma:\n",
    "            soma_unmatched[seg_soma == soma_id] = soma_id\n",
    "\n",
    "        viewer = napari.Viewer()\n",
    "        for im, channel in zip(ims, channels):\n",
    "            viewer.add_image(im, name=f\"{id} - {channel}\")\n",
    "        viewer.add_labels(nuc_unmatched, name=\"unmatched nuclei\")\n",
    "        viewer.add_labels(soma_unmatched, name=\"unmatched somas\")\n",
    "        break\n",
    "\n",
    "    print(f\"{len(np.unique(seg_soma))} unique soma labels and {len(np.unique(seg_cell))} unique cell labels\")\n",
    "    matches, unmatched_soma, unmatched_cell = match_small_to_big(seg_soma, seg_cell)\n",
    "    if len(unmatched_soma) > 0 or len(unmatched_cell) > 0:\n",
    "        print(f\"{len(unmatched_soma)} unmatched somas and {len(unmatched_cell)} unmatched cells\")  \n",
    "        soma_unmatched = np.zeros_like(seg_soma)\n",
    "        cell_unmatched = np.zeros_like(seg_cell)\n",
    "        for soma_id in unmatched_soma:\n",
    "            soma_unmatched[seg_nuc == soma_id] = soma_id\n",
    "        for cell_id in unmatched_cell:\n",
    "            cell_unmatched[seg_cell == cell_id] = cell_id\n",
    "\n",
    "        viewer = napari.Viewer()\n",
    "        for im, channel in zip(ims, channels):\n",
    "            viewer.add_image(im, name=f\"{id} - {channel}\")\n",
    "        viewer.add_labels(soma_unmatched, name=\"unmatched somas\")\n",
    "        viewer.add_labels(cell_unmatched, name=\"unmatched cells\")\n",
    "        break\n",
    "\n",
    "    seg_soma_filtered = combine_small_big_labels_instance(seg_nuc, seg_soma)\n",
    "    seg_cell_filtered = combine_small_big_labels_instance(seg_soma_filtered, seg_cell)\n",
    "    \n",
    "    check_valid_labels(seg_nuc, seg_soma_filtered, seg_cell_filtered)\n",
    "\n",
    "    io.imsave(Path(path_seg_final) / f\"{id}_nuclei.tif\", seg_nuc)\n",
    "    io.imsave(Path(path_seg_final) / f\"{id}_somas.tif\", seg_soma_filtered)\n",
    "    io.imsave(Path(path_seg_final) / f\"{id}_cells.tif\", seg_cell_filtered)\n",
    "\n",
    "    counter += len(np.unique(seg_cell_filtered))-1\n",
    "    \n",
    "\n",
    "print(f\"{counter} total cells\")\n",
    "\n",
    "\n"
   ]
  },
  {
   "cell_type": "markdown",
   "metadata": {},
   "source": [
    "# View image"
   ]
  },
  {
   "cell_type": "code",
   "execution_count": null,
   "metadata": {},
   "outputs": [],
   "source": [
    "id_to_paths_nuc = get_id_to_path(path_seg_final, name_from_id, tag=\"_nuclei.tif\")\n",
    "id_to_paths_som = get_id_to_path(path_seg_final, name_from_id, tag=\"_somas.tif\")\n",
    "id_to_paths_cel = get_id_to_path(path_seg_final, name_from_id, tag=\"_cells.tif\")\n",
    "\n",
    "for id, paths in id_to_paths_nuc.items():\n",
    "    ims = read_ims(id_to_paths[id])\n",
    "    seg_nuc = read_seg(id_to_paths_nuc[id])\n",
    "    seg_som = read_seg(id_to_paths_som[id])\n",
    "    seg_cel = read_seg(id_to_paths_cel[id])\n",
    "\n",
    "    break\n",
    "\n",
    "viewer = napari.Viewer()\n",
    "viewer.add_image(ims[-1], name=\"image\")\n",
    "viewer.add_labels(seg_nuc, name=\"nuclei\")\n",
    "viewer.add_labels(seg_som, name=\"somas\")\n",
    "viewer.add_labels(seg_cel, name=\"cells\")\n",
    "\n"
   ]
  },
  {
   "cell_type": "markdown",
   "metadata": {},
   "source": [
    "# Make unique ids"
   ]
  },
  {
   "cell_type": "code",
   "execution_count": null,
   "metadata": {},
   "outputs": [],
   "source": [
    "path_redundant = \"/Users/thomasathey/Documents/shavit-lab/fraenkel/cell_paint_seg/experiments/384_control/data/predictions/cyto2_omni/raw\"\n",
    "# read every png in path_redundant\n",
    "for path in Path(path_redundant).rglob(\"*.png\"):\n",
    "    im = Image.open(path)\n",
    "    im = np.array(im)\n",
    "\n",
    "    im_new = np.zeros_like(im)\n",
    "    counter = 1\n",
    "    for val in np.unique(im[im != 0]):\n",
    "        labels = measure.label(im == val)\n",
    "        for lab in np.unique(labels[labels != 0]):\n",
    "            im_new[labels == lab] = counter\n",
    "            counter += 1\n",
    "\n",
    "    path = Path(path)\n",
    "    path_new = path.parents[1] / \"instance\" / f\"{path.stem}.tif\"\n",
    "    print(path)\n",
    "    print(path_new)\n",
    "\n",
    "    io.imsave(path_new, im_new)\n"
   ]
  },
  {
   "cell_type": "markdown",
   "metadata": {},
   "source": [
    "# Evaluate algorithm"
   ]
  },
  {
   "cell_type": "code",
   "execution_count": null,
   "metadata": {},
   "outputs": [],
   "source": [
    "path_gt = \"./data/seg_final/\"\n",
    "path_pred = \"./data/predictions/cyto3\"\n",
    "\n",
    "tag_to_name = {\"nuc\": \"Nuclei\", \"soma\": \"Somas\", \"cell\": \"Cells\"}\n",
    "\n",
    "data_threat = []\n",
    "data_iou = []\n",
    "data_comp = []\n",
    "data_method = []\n",
    "\n",
    "\n",
    "for method in [\"cyto3\", \"cyto2_omni\"]:\n",
    "    path_pred = f\"./data/predictions/{method}\"\n",
    "    for compartment in tqdm([\"nuc\", \"soma\", \"cell\"], desc=\"compartments...\"):\n",
    "        id_to_paths_gt = get_id_to_path(path_gt, name_from_id, tag=f\"_{compartment}\")\n",
    "        id_to_paths_pred = get_id_to_path(path_pred, name_from_id, tag=f\"_{compartment}\")\n",
    "\n",
    "\n",
    "        for id, path in tqdm(id_to_paths_gt.items(), leave=False, desc=\"ids...\"):\n",
    "            seg_gt = read_seg(path)\n",
    "            seg_pred = read_seg(id_to_paths_pred[id])\n",
    "\n",
    "            for iou_thresh in tqdm(np.arange(0.5, 1.0, 0.1), leave=False, desc=\"IoU thresholds...\"):\n",
    "                data_iou.append(iou_thresh)\n",
    "                data_threat.append(threat_score(seg_gt, seg_pred, iou_thresh))\n",
    "                data_comp.append(tag_to_name[compartment])\n",
    "                data_method.append(method)\n",
    "\n",
    "df = pd.DataFrame({\"IoU Threshold\": data_iou, \"Threat Score\": data_threat, \"Method\": data_method, \"Compartment\": data_comp})\n"
   ]
  },
  {
   "cell_type": "code",
   "execution_count": null,
   "metadata": {},
   "outputs": [],
   "source": [
    "for method in [\"cyto2_omni\"]:\n",
    "    path_pred = f\"./data/predictions/{method}\"\n",
    "    for compartment in tqdm([\"nuc\", \"soma\", \"cell\"], desc=\"compartments...\"):\n",
    "        id_to_paths_gt = get_id_to_path(path_gt, name_from_id, tag=f\"_{compartment}\")\n",
    "        id_to_paths_pred = get_id_to_path(path_pred, name_from_id, tag=f\"_{compartment}\")\n",
    "\n",
    "\n",
    "        for id, path in tqdm(id_to_paths_gt.items(), leave=False, desc=\"ids...\"):\n",
    "            seg_gt = read_seg(path)\n",
    "            seg_pred = read_seg(id_to_paths_pred[id])\n",
    "\n",
    "            for iou_thresh in tqdm(np.arange(0.5, 1.0, 0.1), leave=False, desc=\"IoU thresholds...\"):\n",
    "                data_iou.append(iou_thresh)\n",
    "                data_threat.append(threat_score(seg_gt, seg_pred, iou_thresh))\n",
    "                data_comp.append(tag_to_name[compartment])\n",
    "                data_method.append(method)\n",
    "\n",
    "df = pd.DataFrame({\"IoU Threshold\": data_iou, \"Threat Score\": data_threat, \"Method\": data_method, \"Compartment\": data_comp})"
   ]
  },
  {
   "cell_type": "code",
   "execution_count": null,
   "metadata": {},
   "outputs": [],
   "source": [
    "f, axs = plt.subplots(1, 3, figsize=(18, 6))\n",
    "\n",
    "for compartment, ax in zip([\"Nuclei\", \"Somas\", \"Cells\"], axs):\n",
    "    sns.lineplot(data=df[df[\"Compartment\"] == compartment], x=\"IoU Threshold\", y=\"Threat Score\", hue=\"Method\", ax=ax)\n",
    "    ax.set_title(compartment)\n",
    "\n",
    "plt.savefig(\"./data/figures/results/threat.svg\")"
   ]
  },
  {
   "cell_type": "code",
   "execution_count": null,
   "metadata": {},
   "outputs": [],
   "source": []
  }
 ],
 "metadata": {
  "kernelspec": {
   "display_name": ".venv",
   "language": "python",
   "name": "python3"
  },
  "language_info": {
   "codemirror_mode": {
    "name": "ipython",
    "version": 3
   },
   "file_extension": ".py",
   "mimetype": "text/x-python",
   "name": "python",
   "nbconvert_exporter": "python",
   "pygments_lexer": "ipython3",
   "version": "3.9.5"
  }
 },
 "nbformat": 4,
 "nbformat_minor": 2
}
