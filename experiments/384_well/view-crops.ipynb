{
 "cells": [
  {
   "cell_type": "code",
   "execution_count": 5,
   "metadata": {},
   "outputs": [],
   "source": [
    "from cell_paint_seg import utils, image_io\n",
    "import matplotlib.pyplot as plt\n",
    "from skimage import measure, exposure, io\n",
    "import numpy as np"
   ]
  },
  {
   "cell_type": "code",
   "execution_count": 8,
   "metadata": {},
   "outputs": [],
   "source": [
    "out_dir = \"/Users/thomasathey/Documents/shavit-lab/fraenkel/first-sample/Assay Dev 20230329/BR00142688__2024-03-29T19_57_13-Measurement 1/deployment-test-small/cropped_ims_soma\"\n",
    "seg_level = 1"
   ]
  },
  {
   "cell_type": "code",
   "execution_count": null,
   "metadata": {},
   "outputs": [],
   "source": [
    "id_to_path_im = utils.get_id_to_path(\n",
    "    \"/Users/thomasathey/Documents/shavit-lab/fraenkel/first-sample/Assay Dev 20230329/BR00142688__2024-03-29T19_57_13-Measurement 1/deployment-test-small/tifs\",\n",
    "    tag=\".tif\",\n",
    ")\n",
    "id_to_path_seg = utils.get_id_to_path(\n",
    "    \"/Users/thomasathey/Documents/shavit-lab/fraenkel/first-sample/Assay Dev 20230329/BR00142688__2024-03-29T19_57_13-Measurement 1/deployment-test-small/segmentations\",\n",
    "    tag=\".tif\",\n",
    ")\n",
    "\n",
    "bbox_areas = []\n",
    "counter = 0\n",
    "total = 0\n",
    "\n",
    "for id in id_to_path_seg.keys():\n",
    "    paths_im = id_to_path_im[id]\n",
    "    paths_seg = id_to_path_seg[id]\n",
    "\n",
    "    ims = image_io.read_ims(paths_im)\n",
    "    segs = image_io.read_ims(paths_seg)\n",
    "\n",
    "    regprops = measure.regionprops(segs[seg_level])\n",
    "\n",
    "    for regprop in regprops:\n",
    "        bbox = regprop[\"bbox\"]\n",
    "        width = bbox[2] - bbox[0]\n",
    "        height = bbox[3] - bbox[1]\n",
    "        bbox_areas.append(width * height)\n",
    "        if width <= 128 and height <= 128:\n",
    "            counter += 1\n",
    "        total += 1\n",
    "\n",
    "plt.hist(bbox_areas)\n",
    "print(f\"{counter/total} of cell footprints fall within 128x128\")"
   ]
  },
  {
   "cell_type": "code",
   "execution_count": null,
   "metadata": {},
   "outputs": [],
   "source": [
    "id_to_path_im = utils.get_id_to_path(\n",
    "    \"/Users/thomasathey/Documents/shavit-lab/fraenkel/first-sample/Assay Dev 20230329/BR00142688__2024-03-29T19_57_13-Measurement 1/deployment-test-small/tifs\",\n",
    "    tag=\".tif\",\n",
    ")\n",
    "id_to_path_seg = utils.get_id_to_path(\n",
    "    \"/Users/thomasathey/Documents/shavit-lab/fraenkel/first-sample/Assay Dev 20230329/BR00142688__2024-03-29T19_57_13-Measurement 1/deployment-test-small/segmentations\",\n",
    "    tag=\".tif\",\n",
    ")\n",
    "\n",
    "bbox_areas = []\n",
    "counter = 0\n",
    "total = 0\n",
    "\n",
    "for id in id_to_path_seg.keys():\n",
    "    paths_im = id_to_path_im[id]\n",
    "    paths_seg = id_to_path_seg[id]\n",
    "\n",
    "    ims = image_io.read_ims(paths_im)\n",
    "    ims = [exposure.equalize_adapthist(im, clip_limit=0.03) for im in ims]\n",
    "    segs = image_io.read_ims(paths_seg)\n",
    "\n",
    "    regprops = measure.regionprops(segs[seg_level])\n",
    "\n",
    "    for i, regprop in enumerate(regprops):\n",
    "        bbox = regprop[\"bbox\"]\n",
    "        height = bbox[2] - bbox[0]\n",
    "        width = bbox[3] - bbox[1]\n",
    "        label = regprop[\"label\"]\n",
    "\n",
    "        if height <= 128 and width <= 128:\n",
    "            startx, starty = (128 - height) // 2, (128 - width) // 2\n",
    "            endx, endy = startx + height, starty + width\n",
    "\n",
    "            cell_mask = segs[seg_level][bbox[0] : bbox[2], bbox[1] : bbox[3]] == label\n",
    "\n",
    "            images = []\n",
    "            for c in [2, 5, 4]:\n",
    "                images.append(ims[c][bbox[0] : bbox[2], bbox[1] : bbox[3]])\n",
    "            images_lasso = []\n",
    "            for image in images:\n",
    "                image[cell_mask == 0] = 0\n",
    "                images_lasso.append(image)\n",
    "            images_128 = []\n",
    "            for image in images_lasso:\n",
    "                blank = np.zeros((128, 128), dtype=\"uint8\")\n",
    "                blank[startx:endx, starty:endy] = (image * 255).astype(\"uint8\")\n",
    "                images_128.append(blank)\n",
    "\n",
    "            im_rgb = np.stack(images_128, axis=2)\n",
    "\n",
    "            io.imsave(f\"{out_dir}/{id}-{label}.tiff\", im_rgb)\n",
    "            # f, axs = plt.subplots(ncols=2)\n",
    "            # axs[0].imshow(im_rgb)\n",
    "            # plt.show()"
   ]
  },
  {
   "cell_type": "code",
   "execution_count": null,
   "metadata": {},
   "outputs": [],
   "source": []
  }
 ],
 "metadata": {
  "kernelspec": {
   "display_name": ".venv",
   "language": "python",
   "name": "python3"
  },
  "language_info": {
   "codemirror_mode": {
    "name": "ipython",
    "version": 3
   },
   "file_extension": ".py",
   "mimetype": "text/x-python",
   "name": "python",
   "nbconvert_exporter": "python",
   "pygments_lexer": "ipython3",
   "version": "3.9.5"
  }
 },
 "nbformat": 4,
 "nbformat_minor": 2
}
