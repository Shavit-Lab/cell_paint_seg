{
 "cells": [
  {
   "cell_type": "code",
   "execution_count": 1,
   "metadata": {},
   "outputs": [
    {
     "name": "stderr",
     "output_type": "stream",
     "text": [
      "/Users/thomasathey/Documents/shavit-lab/fraenkel/.venv/lib/python3.9/site-packages/dask/dataframe/__init__.py:42: FutureWarning: \n",
      "Dask dataframe query planning is disabled because dask-expr is not installed.\n",
      "\n",
      "You can install it with `pip install dask[dataframe]` or `conda install dask`.\n",
      "This will raise in a future version.\n",
      "\n",
      "  warnings.warn(msg, FutureWarning)\n",
      "/Users/thomasathey/Documents/shavit-lab/fraenkel/.venv/lib/python3.9/site-packages/numba/np/ufunc/dufunc.py:343: NumbaWarning: Compilation requested for previously compiled argument types ((uint32,)). This has no effect and perhaps indicates a bug in the calling code (compiling a ufunc more than once for the same signature\n",
      "  warnings.warn(msg, errors.NumbaWarning)\n",
      "/Users/thomasathey/Documents/shavit-lab/fraenkel/.venv/lib/python3.9/site-packages/numba/np/ufunc/dufunc.py:343: NumbaWarning: Compilation requested for previously compiled argument types ((uint32,)). This has no effect and perhaps indicates a bug in the calling code (compiling a ufunc more than once for the same signature\n",
      "  warnings.warn(msg, errors.NumbaWarning)\n",
      "/Users/thomasathey/Documents/shavit-lab/fraenkel/.venv/lib/python3.9/site-packages/numba/np/ufunc/dufunc.py:343: NumbaWarning: Compilation requested for previously compiled argument types ((uint32,)). This has no effect and perhaps indicates a bug in the calling code (compiling a ufunc more than once for the same signature\n",
      "  warnings.warn(msg, errors.NumbaWarning)\n"
     ]
    }
   ],
   "source": [
    "import numpy as np\n",
    "from cell_paint_seg.utils import get_id_to_path, check_valid_labels, threat_score, get_matches\n",
    "from cell_paint_seg.image_io import read_ims, read_seg\n",
    "from skimage import io, exposure, measure\n",
    "from pathlib import Path\n",
    "import napari\n",
    "from tqdm.notebook import tqdm\n",
    "import pandas as pd\n",
    "import matplotlib.pyplot as plt\n",
    "import matplotlib.gridspec as gridspec\n",
    "import seaborn as sns\n",
    "import umap\n",
    "import umap.plot\n",
    "from sklearn.preprocessing import StandardScaler\n",
    "from sklearn.linear_model import LogisticRegression\n",
    "from sklearn.model_selection import train_test_split\n",
    "from sklearn.metrics import confusion_matrix, accuracy_score \n",
    "from sklearn. preprocessing import StandardScaler\n",
    "from sklearn.pipeline import Pipeline\n",
    "from PIL import Image\n",
    "import os"
   ]
  },
  {
   "cell_type": "code",
   "execution_count": 2,
   "metadata": {},
   "outputs": [],
   "source": [
    "def id_from_name(name):\n",
    "    name_nospace = name.replace(\" \", \"\")\n",
    "    exp = name_nospace[10]\n",
    "    field = name_nospace[-10:-6]\n",
    "    id = f\"e{exp}_{field}\"\n",
    "    return id\n",
    "\n",
    "def id_from_name_mask(name):\n",
    "    id = name[:7] \n",
    "    return id"
   ]
  },
  {
   "cell_type": "code",
   "execution_count": 3,
   "metadata": {},
   "outputs": [
    {
     "name": "stdout",
     "output_type": "stream",
     "text": [
      "360 samples found\n"
     ]
    }
   ],
   "source": [
    "path_tif = \"/Users/thomasathey/Documents/shavit-lab/fraenkel/papers/cvpr/data/all_control/raw/\"\n",
    "path_gray = Path(\"/Users/thomasathey/Documents/shavit-lab/fraenkel/papers/cvpr/data/annotated/grayscale/\")\n",
    "path_3ch = Path(\"/Users/thomasathey/Documents/shavit-lab/fraenkel/papers/cvpr/data/annotated/annotate_3ch/\")\n",
    "path_release = Path(\"/Users/thomasathey/Documents/shavit-lab/fraenkel/papers/cvpr/data/all_control/release\")\n",
    "\n",
    "channels = [\"ER\", \"DNA\", \"Mito\", \"Actin\", \"RNA\", \"Golgi/membrane\"]\n",
    "res = 6.9e-7\n",
    "\n",
    "id_to_path = get_id_to_path(path_tif, tag=\".tif\", id_from_name=id_from_name)\n",
    "\n",
    "print(f\"{len(id_to_path.keys())} samples found\")\n"
   ]
  },
  {
   "cell_type": "code",
   "execution_count": 4,
   "metadata": {},
   "outputs": [
    {
     "data": {
      "text/plain": [
       "0.69"
      ]
     },
     "execution_count": 4,
     "metadata": {},
     "output_type": "execute_result"
    }
   ],
   "source": [
    "6.9e-7*1e6"
   ]
  },
  {
   "cell_type": "markdown",
   "metadata": {},
   "source": [
    "# View data"
   ]
  },
  {
   "cell_type": "code",
   "execution_count": null,
   "metadata": {},
   "outputs": [],
   "source": [
    "def id_from_name_2(name):\n",
    "    name_nospace = name.replace(\" \", \"\")\n",
    "    exp = name_nospace[10]\n",
    "    field = name_nospace[-21:-17]\n",
    "    id = f\"e{exp}_{field}\"\n",
    "    return id\n",
    "\n",
    "path_fig = \"/Users/thomasathey/Documents/shavit-lab/fraenkel/papers/cvpr/figures/cellpaint\"\n",
    "id_to_path_fig = get_id_to_path(path_fig, tag=\"_8bit.tif\", id_from_name=id_from_name_2)\n",
    "\n",
    "id = \"e1_s026\"\n",
    "\n",
    "paths = id_to_path_fig[id]\n",
    "ims = read_ims(paths)\n",
    "ims = [im.astype(np.float32) for im in ims]\n",
    "im_rgb = np.stack([ims[3], ims[4], ims[1]], axis=-1)\n",
    "\n",
    "im_rgb_2 = np.stack([ims[0]+ims[5], ims[4], ims[1]], axis=-1)\n",
    "\n",
    "len(ims)\n",
    "\n",
    "viewer = napari.Viewer()\n",
    "for im in ims:  \n",
    "    viewer.add_image(im, scale=[res, res])\n",
    "viewer.add_image(im_rgb, rgb=True, scale=[res, res])\n",
    "viewer.add_image(im_rgb_2, rgb=True, scale=[res, res])\n",
    "\n",
    "viewer.scale_bar.visible = True\n",
    "viewer.scale_bar.unit = \"m\"\n"
   ]
  },
  {
   "cell_type": "code",
   "execution_count": null,
   "metadata": {},
   "outputs": [],
   "source": [
    "path_fig = \"/Users/thomasathey/Documents/shavit-lab/fraenkel/papers/cvpr/figures/prediction_examples\"\n",
    "id_to_path_fig = get_id_to_path(path_fig, tag=\".tif\", id_from_name=id_from_name)\n",
    "\n",
    "id = \"e4_s062\"\n",
    "\n",
    "paths = id_to_path_fig[id]\n",
    "ims = read_ims(paths)\n",
    "\n",
    "for path, im in zip(paths, ims):\n",
    "    im_mip = np.amax(im, axis=-1)\n",
    "    im_mip_clahe = exposure.equalize_adapthist(im_mip, clip_limit=0.03, kernel_size=16)\n",
    "    \n",
    "    path = Path(path)\n",
    "    path_new = path.parent / (path.stem + \"_clahe.tif\")\n",
    "    io.imsave(path_new, im_mip_clahe)\n",
    "\n",
    "    im_mip_clahe_8bit = (im_mip_clahe * 255).astype(np.uint8)\n",
    "    path_new = path.parent / (path.stem + \"_clahe_8bit.tif\")\n",
    "    print(path_new)\n",
    "    io.imsave(path_new, im_mip_clahe_8bit)\n"
   ]
  },
  {
   "cell_type": "code",
   "execution_count": null,
   "metadata": {},
   "outputs": [],
   "source": [
    "dir = Path(\"/Users/thomasathey/Documents/shavit-lab/fraenkel/papers/miccai/figures/images_e2s179/\")\n",
    "# get all tif files in the directory\n",
    "tif_files = list(dir.glob(\"*.tif\"))\n",
    "\n",
    "for tif_file in tif_files:\n",
    "    im = io.imread(tif_file)\n",
    "    im = np.amax(im, axis=-1)\n",
    "    im_clahe = exposure.equalize_adapthist(im, clip_limit=0.03, kernel_size=16)\n",
    "    im_clahe_8bit = (im_clahe * 255).astype(np.uint8)\n",
    "    out_path = Path(tif_file.parent) / (tif_file.stem + \"_clahe_8bit.tif\")\n",
    "    io.imsave(out_path, im_clahe_8bit)\n"
   ]
  },
  {
   "cell_type": "code",
   "execution_count": null,
   "metadata": {},
   "outputs": [],
   "source": [
    "dir = Path(\"/Users/thomasathey/Documents/shavit-lab/fraenkel/papers/miccai/figures/images_e2s179/\")\n",
    "# get all tif files in the directory that end in 8bit.tif\n",
    "tif_files = list(dir.glob(\"*8bit.tif\"))\n",
    "\n",
    "for tif_file in tif_files:\n",
    "    print(tif_file)\n",
    "    if \"c4_\" in tif_file.stem:\n",
    "        im_r = io.imread(tif_file)\n",
    "    elif \"c5_\" in tif_file.stem:\n",
    "        im_g = io.imread(tif_file)\n",
    "    elif \"c2_\" in tif_file.stem:\n",
    "        im_b = io.imread(tif_file)\n",
    "\n",
    "\n",
    "im_rgb = np.stack([im_r, im_g, im_b], axis=-1)    \n",
    "out_path = Path(tif_file.parent) / \"rgb.tif\"\n",
    "io.imsave(out_path, im_rgb)"
   ]
  },
  {
   "cell_type": "markdown",
   "metadata": {},
   "source": [
    "# Random image selection/Convert"
   ]
  },
  {
   "cell_type": "code",
   "execution_count": null,
   "metadata": {},
   "outputs": [],
   "source": [
    "im_dna = \"/Users/thomasathey/Documents/shavit-lab/fraenkel/papers/cvpr/data/all_control/release/images/e2_wG2_f2_c2.tif\"\n",
    "im_rna = \"/Users/thomasathey/Documents/shavit-lab/fraenkel/papers/cvpr/data/all_control/release/images/e2_wG2_f2_c4.tif\"\n",
    "im_actin = \"/Users/thomasathey/Documents/shavit-lab/fraenkel/papers/cvpr/data/all_control/release/images/e2_wG2_f2_c3.tif\"\n",
    "im_golgi = \"/Users/thomasathey/Documents/shavit-lab/fraenkel/papers/cvpr/data/all_control/release/images/e2_wG2_f2_c5.tif\"\n",
    "\n",
    "im_rgb = np.stack([io.imread(im_actin), io.imread(im_rna), io.imread(im_dna)], axis=-1)\n",
    "im_rgb2 = np.stack([io.imread(im_golgi), io.imread(im_rna), io.imread(im_dna)], axis=-1)\n",
    "\n",
    "outpath = \"/Users/thomasathey/Documents/shavit-lab/fraenkel/papers/cvpr/data/annotated/annotate_3ch/e2_s179.tif\"\n",
    "io.imsave(outpath, im_rgb)\n",
    "\n",
    "outpath = \"/Users/thomasathey/Documents/shavit-lab/fraenkel/papers/cvpr/data/annotated/annotate_3ch/e2_s179_golgi.tif\"\n",
    "io.imsave(outpath, im_rgb2)\n"
   ]
  },
  {
   "cell_type": "code",
   "execution_count": null,
   "metadata": {},
   "outputs": [],
   "source": [
    "line_names = [\"ADK\", \"AE8\", \"NK3\", \"XH7\", \"ZKZ\"]\n",
    "\n",
    "for line_name in line_names:\n",
    "    well = np.random.randint(1,3)\n",
    "    field = np.random.randint(1,4)\n",
    "    print(f\"{line_name} well {well} field {field}\")"
   ]
  },
  {
   "cell_type": "markdown",
   "metadata": {},
   "source": [
    "ADK well 1 field 2 -> exp4, s062\n",
    "\n",
    "AE8 well 1 field 2 -> exp 1, s026\n",
    "\n",
    "NK3 well 1 field 3 ->  exp 3, s090\n",
    "\n",
    "XH7 well 1 field 2 -> exp 2, s089\n",
    "\n",
    "ZKZ well 1 field 2 -> exp 2, s178"
   ]
  },
  {
   "cell_type": "code",
   "execution_count": null,
   "metadata": {},
   "outputs": [],
   "source": [
    "col_to_colnum = [i for i in range(2,12)] + [i for i in range(11, 1, -1)]\n",
    "col_to_colnum_e1_bottom = [i for i in range(3,12)] + [i for i in range(11, 2, -1)]\n",
    "assert len(col_to_colnum) == 20\n",
    "\n",
    "for n_id, id in enumerate(id_to_path.keys()):\n",
    "    for c, path in enumerate(id_to_path[id]):\n",
    "        assert f\"c{c+1}\" in path.stem \n",
    "        \n",
    "    ims = read_ims(id_to_path[id])\n",
    "    ims = [np.amax(im, axis=-1) for im in ims]\n",
    "\n",
    "\n",
    "\n",
    "    if \"e1\" not in id:\n",
    "        loc = int(id[-3:])\n",
    "\n",
    "        field = (loc - 1) % 3 + 1\n",
    "        well = (loc - 1) // 3\n",
    "        row = \"BCDEFG\"[well // 10]\n",
    "        col = col_to_colnum[well % 20]\n",
    "        \n",
    "        for c, im in enumerate(ims):\n",
    "            path = path_release / f\"{id[:2]}_w{row}{col}_f{field}_c{c+1}.tif\"\n",
    "            io.imsave(path, im)\n",
    "    else:\n",
    "        continue\n",
    "        loc = int(id[-3:])\n",
    "        field = (loc - 1) % 3 + 1\n",
    "        well = (loc - 1) // 3\n",
    "\n",
    "        if loc >= 16 and loc < 118:\n",
    "            row = \"BCDE\"[well // 10]\n",
    "            col = col_to_colnum[well % 20]\n",
    "        elif loc < 4:\n",
    "            col = 2\n",
    "            row = \"E\"\n",
    "        elif loc >= 130 and loc < 160:\n",
    "            well_reset = well - 39\n",
    "            row = \"FG\"[well_reset // 9]\n",
    "            col = col_to_colnum_e1_bottom[well_reset % 18]\n",
    "        else:\n",
    "            raise ValueError()\n",
    "\n",
    "\n",
    "        for c, im in enumerate(ims):\n",
    "            path = path_release / f\"{id[:2]}_w{row}{col}_f{field}_c{c+1}.tif\"\n",
    "            io.imsave(path, im)\n",
    "\n",
    "\n",
    "    \n",
    "    if n_id == 0:\n",
    "        shp = im.shape\n",
    "        print(f\"{im.shape} @ {im.dtype}\")\n",
    "    else:\n",
    "        assert shp == im.shape\n",
    "\n",
    "    # ims = [im.astype(np.float32) for im in ims]\n",
    "    # im_3channel = np.stack([ims[3], ims[4], ims[1]], axis=-1)\n",
    "    # im_3channel = im_3channel.astype(np.uint8)\n",
    "\n",
    "    # io.imsave(path_3ch / f\"{id}_ard.tif\", im_3channel)\n",
    "\n",
    "\n"
   ]
  },
  {
   "cell_type": "code",
   "execution_count": null,
   "metadata": {},
   "outputs": [],
   "source": [
    "path = \"/Users/thomasathey/Documents/shavit-lab/fraenkel/papers/cvpr/data/all_control/release/annotations\"\n",
    "\n",
    "# get a list of all paths of tif files in the path\n",
    "path = Path(path)\n",
    "paths = list(path.glob(\"*.tif\"))\n",
    "# open all files and print the data type\n",
    "for path in paths:\n",
    "    im = io.imread(path)\n",
    "    print(f\"{path} @ {im.dtype}\")"
   ]
  },
  {
   "cell_type": "markdown",
   "metadata": {},
   "source": [
    "# Resolve segmentations"
   ]
  },
  {
   "cell_type": "code",
   "execution_count": null,
   "metadata": {},
   "outputs": [],
   "source": [
    "path_resolve = \"/Users/thomasathey/Documents/shavit-lab/fraenkel/papers/cvpr/data/annotated/annotate_3ch/alba\"\n",
    "path_resolve = Path(path_resolve)"
   ]
  },
  {
   "cell_type": "code",
   "execution_count": null,
   "metadata": {},
   "outputs": [],
   "source": [
    "id_to_path = get_id_to_path(path_3ch, tag=\".tif\", id_from_name=id_from_name_mask)\n",
    "id_to_path_nuc = get_id_to_path(path_resolve, tag=\"nuc.\", id_from_name=id_from_name_mask)\n",
    "id_to_path_soma = get_id_to_path(path_resolve, tag=\"soma.\", id_from_name=id_from_name_mask)\n",
    "id_to_path_cell = get_id_to_path(path_resolve, tag=\"cell.\", id_from_name=id_from_name_mask)"
   ]
  },
  {
   "cell_type": "code",
   "execution_count": null,
   "metadata": {},
   "outputs": [],
   "source": [
    "ids = id_to_path_nuc.keys()\n",
    "#ids = [\"e2_s089\"]\n",
    "scale_on = False\n",
    "\n",
    "for id in ids:\n",
    "    if id != 'e2_s179':\n",
    "        continue\n",
    "    im = read_seg(id_to_path[id])\n",
    "    mask_nuc = read_seg(id_to_path_nuc[id])\n",
    "    mask_soma = read_seg(id_to_path_soma[id])\n",
    "    mask_cell = read_seg(id_to_path_cell[id])\n",
    "\n",
    "\n",
    "    soma_to_nuc = {}\n",
    "    # compute nuc-soma matches\n",
    "    for nuc_id in np.unique(mask_nuc[mask_nuc > 0]):\n",
    "        nuc_area = np.sum(mask_nuc == nuc_id)\n",
    "        soma_ids, overlap_areas = np.unique(mask_soma[mask_nuc == nuc_id], return_counts=True)\n",
    "\n",
    "        for soma_id, overlap_area in zip(soma_ids, overlap_areas):\n",
    "            if soma_id == 0:\n",
    "                continue \n",
    "\n",
    "            if overlap_area/nuc_area > 0.5: # if soma is more than half of nuc, only happens once per nuc\n",
    "                if soma_id in soma_to_nuc.keys(): # if soma is already assigned to a nuc\n",
    "                    if overlap_area > soma_to_nuc[soma_id][1]: # soma is assigned to nuc with larger overlap area\n",
    "                        soma_to_nuc[soma_id] = (nuc_id, overlap_area)\n",
    "                else:\n",
    "                    soma_to_nuc[soma_id] = (nuc_id, overlap_area)\n",
    "\n",
    "                break\n",
    "\n",
    "    cell_to_soma = {}\n",
    "    # compute soma-cell matches\n",
    "    for soma_id in np.unique(mask_soma[mask_soma > 0]):\n",
    "        soma_area = np.sum(mask_soma == soma_id)\n",
    "        mask_cell_crop = mask_cell[mask_soma == soma_id]\n",
    "        cell_ids, overlap_areas = np.unique(mask_cell_crop, return_counts = True)\n",
    "\n",
    "        for cell_id, overlap_area in zip(cell_ids, overlap_areas):\n",
    "            if cell_id == 0:\n",
    "                continue\n",
    "            if overlap_area/soma_area > 0.5: \n",
    "                if cell_id in cell_to_soma.keys():\n",
    "                    if overlap_area > cell_to_soma[cell_id][1]:\n",
    "                        cell_to_soma[cell_id] = (soma_id, overlap_area)\n",
    "                else:\n",
    "                    cell_to_soma[cell_id] = (soma_id, overlap_area) \n",
    "\n",
    "                break\n",
    "\n",
    "    triplets = []\n",
    "    for cell_id in cell_to_soma.keys():\n",
    "        try:\n",
    "            soma_id = cell_to_soma[cell_id][0]\n",
    "            nuc_id = soma_to_nuc[soma_id][0]\n",
    "            triplets.append((nuc_id, soma_id, cell_id))\n",
    "        except KeyError:\n",
    "            continue\n",
    "\n",
    "\n",
    "    print(f\"{len(triplets)} matches found for {id} w/{[len(np.unique(im))-1 for im in [mask_nuc, mask_soma, mask_cell]]}\")\n",
    "\n",
    "    # combine segmentations\n",
    "    mask_nuc_resolved = np.zeros_like(mask_nuc)\n",
    "    mask_soma_resolved = np.zeros_like(mask_soma)\n",
    "    mask_cell_resolved = np.zeros_like(mask_cell)\n",
    "    for counter, match in enumerate(triplets):\n",
    "        new_label = counter + 1\n",
    "\n",
    "        mask_nuc_resolved[mask_nuc == match[0]] = new_label # establish the nucleus\n",
    "\n",
    "        mask_soma_resolved[mask_nuc_resolved == new_label] = new_label # soma starts as the nucleus\n",
    "        mask_soma_resolved[np.logical_and(mask_soma == match[1], mask_nuc == 0)] = new_label # expand soma to include pixels that aren't other nuclei\n",
    "\n",
    "        mask_cell_resolved[mask_soma_resolved == new_label] = new_label # cell starts as the soma\n",
    "        uncovered = np.logical_and(mask_soma == 0, mask_nuc == 0) #\n",
    "        mask_cell_resolved[np.logical_and(mask_cell == match[2], uncovered)] = new_label # expand cell to include pixels that aren't other nuclei or somas\n",
    "\n",
    "\n",
    "    check_valid_labels(mask_nuc_resolved, mask_soma_resolved, mask_cell_resolved)\n",
    "    \n",
    "    if scale_on:\n",
    "        scale = (res,res)\n",
    "    else:\n",
    "        scale = None\n",
    "\n",
    "    mask_nuc_unresolved = np.copy(mask_nuc)\n",
    "    mask_soma_unresolved = np.copy(mask_soma)\n",
    "    mask_cell_unresolved = np.copy(mask_cell)\n",
    "    for match in triplets:\n",
    "        mask_nuc_unresolved[mask_nuc_unresolved == match[0]] = 0\n",
    "        mask_soma_unresolved[mask_soma_unresolved == match[1]] = 0\n",
    "        mask_cell_unresolved[mask_cell_unresolved == match[2]] = 0\n",
    "\n",
    "    viewer = napari.Viewer()\n",
    "    viewer.add_image(im, name=f\"{id} - 3ch\", scale=scale)\n",
    "    viewer.add_labels(mask_nuc_unresolved, name=f\"{id} - nuc\", scale=scale)\n",
    "    viewer.add_labels(mask_soma_unresolved, name=f\"{id} - soma\", scale=scale)\n",
    "    viewer.add_labels(mask_cell_unresolved, name=f\"{id} - cell\", scale=scale)\n",
    "    viewer.scale_bar.unit = 'm'\n",
    "    viewer.scale_bar.visible = True\n",
    "\n",
    "    viewer = napari.Viewer()\n",
    "    viewer.add_image(im, name=f\"{id} - 3ch\", scale=scale)\n",
    "    viewer.add_labels(mask_nuc_resolved, name=f\"{id} - nuc\", scale=scale)\n",
    "    viewer.add_labels(mask_soma_resolved, name=f\"{id} - soma\", scale=scale)\n",
    "    viewer.add_labels(mask_cell_resolved, name=f\"{id} - cell\", scale=scale)\n",
    "    viewer.scale_bar.unit = 'm'\n",
    "    viewer.scale_bar.visible = True\n",
    "\n",
    "    \n",
    "    for comp, mask_resolved in zip([\"nuc\", \"soma\", \"cell\"], [mask_nuc_resolved, mask_soma_resolved, mask_cell_resolved]):\n",
    "        path_resolved = path_resolve / f\"{id}_cp_masks_{comp}_resolved.tif\"\n",
    "        print(path_resolved)\n",
    "        io.imsave(path_resolved, mask_resolved)\n",
    "\n",
    "        "
   ]
  },
  {
   "cell_type": "markdown",
   "metadata": {},
   "source": [
    "## Double check resolved segmentations"
   ]
  },
  {
   "cell_type": "code",
   "execution_count": null,
   "metadata": {},
   "outputs": [],
   "source": [
    "path_resolve = \"/Users/thomasathey/Documents/shavit-lab/fraenkel/papers/cvpr/data/annotated/annotate_3ch/tommy\"\n",
    "path_resolve = Path(path_resolve)\n",
    "\n",
    "id_to_path = get_id_to_path(path_3ch, tag=\".tif\", id_from_name=id_from_name_mask)\n",
    "id_to_path_nuc = get_id_to_path(path_resolve, tag=\"nuc_resolved.\", id_from_name=id_from_name_mask)\n",
    "id_to_path_soma = get_id_to_path(path_resolve, tag=\"soma_resolved.\", id_from_name=id_from_name_mask)\n",
    "id_to_path_cell = get_id_to_path(path_resolve, tag=\"cell_resolved.\", id_from_name=id_from_name_mask)"
   ]
  },
  {
   "cell_type": "code",
   "execution_count": null,
   "metadata": {},
   "outputs": [],
   "source": [
    "ids = id_to_path_nuc.keys()\n",
    "#ids = [\"e2_s089\"]\n",
    "scale_on = False\n",
    "\n",
    "for id in ids:\n",
    "    print(f\"*******{id}*********\")\n",
    "    # if id != 'e3_s090':\n",
    "    #     continue\n",
    "    im = read_seg(id_to_path[id])\n",
    "    mask_nuc = read_seg(id_to_path_nuc[id])\n",
    "    mask_soma = read_seg(id_to_path_soma[id])\n",
    "    mask_cell = read_seg(id_to_path_cell[id])\n",
    "\n",
    "\n",
    "    check_valid_labels(mask_nuc, mask_soma, mask_cell)\n",
    "    \n",
    "    if scale_on:\n",
    "        scale = (res,res)\n",
    "    else:\n",
    "        scale = None\n",
    "\n",
    "    mask_nuc_unresolved = np.copy(mask_nuc)\n",
    "    mask_soma_unresolved = np.copy(mask_soma)\n",
    "    mask_cell_unresolved = np.copy(mask_cell)\n",
    "\n",
    "    # viewer = napari.Viewer()\n",
    "    # viewer.add_image(im, name=f\"{id} - 3ch\", scale=scale)\n",
    "    # viewer.add_labels(mask_nuc_unresolved, name=f\"{id} - nuc\", scale=scale)\n",
    "    # viewer.add_labels(mask_soma_unresolved, name=f\"{id} - soma\", scale=scale)\n",
    "    # viewer.add_labels(mask_cell_unresolved, name=f\"{id} - cell\", scale=scale)\n",
    "    # viewer.scale_bar.unit = 'm'\n",
    "    # viewer.scale_bar.visible = True\n",
    "\n",
    "\n",
    "        "
   ]
  },
  {
   "cell_type": "markdown",
   "metadata": {},
   "source": [
    "## Count annotations"
   ]
  },
  {
   "cell_type": "code",
   "execution_count": null,
   "metadata": {},
   "outputs": [],
   "source": [
    "dir_annot = Path(\"/Users/thomasathey/Documents/shavit-lab/fraenkel/papers/miccai/release/annotations\")\n",
    "\n",
    "# get a list of all paths of tif files in the path\n",
    "paths = list(dir_annot.glob(\"*.tif\"))\n",
    "paths = [path for path in paths if \"_ann1\" in path.stem]\n",
    "\n",
    "tag = \"cell\"\n",
    "\n",
    "paths = [path for path in paths if tag in path.stem]\n",
    "paths\n",
    "\n",
    "total = 0\n",
    "for path in paths:\n",
    "    seg = io.imread(path)\n",
    "    unq = np.unique(seg)\n",
    "    assert 0 in unq\n",
    "    total += len(unq) - 1\n",
    "\n",
    "print(total)\n"
   ]
  },
  {
   "cell_type": "markdown",
   "metadata": {},
   "source": [
    "# Inter-annotator reliability"
   ]
  },
  {
   "cell_type": "code",
   "execution_count": null,
   "metadata": {},
   "outputs": [],
   "source": [
    "path_tommy = \"/Users/thomasathey/Documents/shavit-lab/fraenkel/papers/cvpr/data/annotated/annotate_3ch/tommy\"\n",
    "path_aneesh = \"/Users/thomasathey/Documents/shavit-lab/fraenkel/papers/cvpr/data/annotated/annotate_3ch/aneesh\"\n",
    "path_alba = \"/Users/thomasathey/Documents/shavit-lab/fraenkel/papers/cvpr/data/annotated/annotate_3ch/alba\"\n",
    "path_im = \"/Users/thomasathey/Documents/shavit-lab/fraenkel/papers/cvpr/data/annotated/annotate_3ch/\"\n",
    "\n",
    "\n",
    "ann_to_path = {\"Ann. 1\": path_tommy, \"Ann. 2\": path_aneesh, \"Ann. 3\": path_alba}\n",
    "\n",
    "tag_to_name = {\"nuc\": \"Nuclei\", \"soma\": \"Somas\", \"cell\": \"Cells\"}\n",
    "\n",
    "data_count = []\n",
    "data_annotator = []\n",
    "data_compartment = []\n",
    "data_id = []\n",
    "\n",
    "\n",
    "for ann1 in tqdm(ann_to_path.keys(), desc=\"annotators...\"):\n",
    "    path_ann_1 = ann_to_path[ann1]\n",
    "\n",
    "\n",
    "\n",
    "    for compartment in tqdm([\"nuc\", \"soma\", \"cell\"], leave=False, desc=\"compartments...\"):\n",
    "        id_to_paths_ann1 = get_id_to_path(path_ann_1, id_from_name_mask, tag=f\"_{compartment}_resolved\")\n",
    "\n",
    "        for id, path in tqdm(id_to_paths_ann1.items(), leave=False, desc=\"ids...\"):\n",
    "            seg_ann1 = read_seg(path)\n",
    "\n",
    "            data_count.append(len(np.unique(seg_ann1))-1)\n",
    "            data_annotator.append(ann1)\n",
    "            data_compartment.append(tag_to_name[compartment])\n",
    "            data_id.append(id)\n",
    "\n",
    "df = pd.DataFrame({\"Count\": data_count, \"Annotator\": data_annotator, \"Compartment\": data_compartment, \"ID\": data_id})\n",
    "# sort by annotator then by ID\n",
    "df = df.sort_values(by=[\"Annotator\", \"ID\"])\n",
    "\n",
    "df[(df[\"Annotator\"] == \"Ann. 1\") & (df[\"Compartment\"] == \"Nuclei\")]"
   ]
  },
  {
   "cell_type": "code",
   "execution_count": null,
   "metadata": {},
   "outputs": [],
   "source": [
    "path_tommy = \"/Users/thomasathey/Documents/shavit-lab/fraenkel/papers/cvpr/data/annotated/annotate_3ch/tommy\"\n",
    "path_aneesh = \"/Users/thomasathey/Documents/shavit-lab/fraenkel/papers/cvpr/data/annotated/annotate_3ch/aneesh\"\n",
    "path_alba = \"/Users/thomasathey/Documents/shavit-lab/fraenkel/papers/cvpr/data/annotated/annotate_3ch/alba\"\n",
    "path_im = \"/Users/thomasathey/Documents/shavit-lab/fraenkel/papers/cvpr/data/annotated/annotate_3ch/\"\n",
    "\n",
    "\n",
    "ann_to_path = {\"Ann. 1\": path_tommy, \"Ann. 2\": path_aneesh, \"Ann. 3\": path_alba}\n",
    "\n",
    "tag_to_name = {\"nuc\": \"Nuclei\", \"soma\": \"Somas\", \"cell\": \"Cells\"}\n",
    "\n",
    "\n",
    "data_val = []\n",
    "data_metric = []\n",
    "data_iou = []\n",
    "data_comp = []\n",
    "data_pair = []\n",
    "data_id = []\n",
    "\n",
    "data_semantic_iou = []\n",
    "data_semantic_comp = []\n",
    "data_semantic_pair = []\n",
    "\n",
    "\n",
    "for ann1, ann2 in tqdm([(\"Ann. 1\", \"Ann. 2\"), (\"Ann. 1\", \"Ann. 3\"), (\"Ann. 2\", \"Ann. 3\")], desc=\"annotator pairs...\"):\n",
    "    path_ann_1 = ann_to_path[ann1]\n",
    "    path_ann_2 = ann_to_path[ann2]\n",
    "    for compartment in tqdm([\"nuc\", \"soma\", \"cell\"], leave=False, desc=\"compartments...\"):\n",
    "        id_to_paths_ann1 = get_id_to_path(path_ann_1, id_from_name_mask, tag=f\"_{compartment}_resolved\")\n",
    "        id_to_paths_ann2 = get_id_to_path(path_ann_2, id_from_name_mask, tag=f\"_{compartment}_resolved\")\n",
    "\n",
    "        for id, path in tqdm(id_to_paths_ann2.items(), leave=False, desc=\"ids...\"):\n",
    "            seg_ann2 = read_seg(path)\n",
    "            seg_ann1 = read_seg(id_to_paths_ann1[id])\n",
    "\n",
    "            seg_binary1 = seg_ann1 > 0\n",
    "            seg_binary2 = seg_ann2 > 0\n",
    "            semantic_iou = np.sum(np.logical_and(seg_binary1, seg_binary2)) / np.sum(np.logical_or(seg_binary1, seg_binary2))\n",
    "            data_semantic_iou.append(semantic_iou)\n",
    "            data_semantic_comp.append(tag_to_name[compartment])\n",
    "            data_semantic_pair.append(f\"{ann1} vs {ann2}\")\n",
    "\n",
    "            for iou_thresh in tqdm(np.arange(0.5, 1.0, 0.1), leave=False, desc=\"IoU thresholds...\"):\n",
    "                tps, fps, fns = threat_score(seg_ann1, seg_ann2, iou_thresh)\n",
    "                prec = tps / (tps + fps)\n",
    "                rec = tps / (tps + fns)\n",
    "                threat = tps / (tps + fps + fns)\n",
    "                f1 = 2 * prec * rec / (prec + rec)\n",
    "                for metric, val in zip([\"F1 Score\"], [f1]):\n",
    "                    data_iou.append(iou_thresh)\n",
    "                    data_metric.append(metric)\n",
    "                    data_val.append(val)\n",
    "                    data_comp.append(tag_to_name[compartment])\n",
    "                    data_pair.append(f\"{ann1} vs {ann2}\")\n",
    "                    data_id.append(id)\n",
    "\n",
    "df = pd.DataFrame({\"IoU Threshold\": data_iou, \"F1 Score\": data_val, \"Metric\": data_metric, \"Compartment\": data_comp, \"Comparison\": data_pair, \"ID\": data_id})\n",
    "df_semantic = pd.DataFrame({\"Semantic IoU\": data_semantic_iou, \"Compartment\": data_semantic_comp, \"Comparison\": data_semantic_pair})"
   ]
  },
  {
   "cell_type": "code",
   "execution_count": null,
   "metadata": {},
   "outputs": [],
   "source": [
    "f, axs = plt.subplots(1, 4, figsize=(24, 6))\n",
    "\n",
    "for compartment, ax in zip([\"Nuclei\", \"Somas\", \"Cells\"], axs):\n",
    "    sns.lineplot(data=df[df[\"Compartment\"] == compartment ], x=\"IoU Threshold\", y=\"F1 Score\", hue=\"Comparison\", ax=ax, errorbar=\"sd\")\n",
    "    ax.set_title(compartment)\n",
    "    ax.set_ylim(0, 1.0)\n",
    "\n",
    "\n",
    "sns.stripplot(data=df_semantic, x=\"Compartment\", y=\"Semantic IoU\", hue=\"Comparison\", ax=axs[-1])\n",
    "plt.ylim(0, 1.0)\n",
    "\n",
    "\n",
    "axs[0].set_title(\"a) Nuclei Instance Agreement\")\n",
    "axs[1].set_title(\"b) Somas Instance Agreement\")\n",
    "axs[2].set_title(\"c) Cell Instance Agreement\")\n",
    "axs[3].set_title(\"d) Semantic Agreement\")\n",
    "\n",
    "for ax in axs:\n",
    "    for item in ([ax.title, ax.xaxis.label, ax.yaxis.label]):\n",
    "        item.set_fontsize(18)\n",
    "\n",
    "    for item in (ax.get_xticklabels() + ax.get_yticklabels() + ax.get_legend().get_texts()):\n",
    "        item.set_fontsize(12)\n",
    "\n",
    "\n",
    "# move the legend of the last plot to the bottom right\n",
    "axs[-1].legend(loc='lower right')\n",
    "\n",
    "#plt.suptitle(\"Tommy vs Aneesh Agreement\")\n",
    "#plt.savefig(\"/Users/thomasathey/Documents/shavit-lab/fraenkel/papers/miccai/figures/aggreement_1.svg\")"
   ]
  },
  {
   "cell_type": "markdown",
   "metadata": {},
   "source": [
    "## View different annotations"
   ]
  },
  {
   "cell_type": "code",
   "execution_count": null,
   "metadata": {},
   "outputs": [],
   "source": [
    "path_tommy = \"/Users/thomasathey/Documents/shavit-lab/fraenkel/papers/cvpr/data/annotated/annotate_3ch/tommy\"\n",
    "path_aneesh = \"/Users/thomasathey/Documents/shavit-lab/fraenkel/papers/cvpr/data/annotated/annotate_3ch/aneesh\"\n",
    "path_alba = \"/Users/thomasathey/Documents/shavit-lab/fraenkel/papers/cvpr/data/annotated/annotate_3ch/alba\"\n",
    "path_im = \"/Users/thomasathey/Documents/shavit-lab/fraenkel/papers/cvpr/data/annotated/annotate_3ch/\"\n",
    "\n",
    "id = \"e1_s026\"\n",
    "scale_on = False \n",
    "\n",
    "if scale_on:\n",
    "    scale = (res,res)\n",
    "else:\n",
    "    scale = None\n",
    "\n",
    "\n",
    "id_to_path_im = get_id_to_path(path_im, id_from_name_mask, tag=f\".tif\")\n",
    "im = read_seg(id_to_path_im[id])\n",
    "im = im[:200,:200]\n",
    "\n",
    "\n",
    "viewer = napari.Viewer()\n",
    "viewer.add_image(im, rgb=True, scale=scale)\n",
    "\n",
    "for path_ann, name in zip([path_tommy, path_aneesh, path_alba], [\"Tommy\", \"Aneesh\", \"Alba\"]):\n",
    "    id_to_paths_ann = get_id_to_path(path_ann, id_from_name_mask, tag=f\"_resolved\")\n",
    "\n",
    "    segs = read_ims(id_to_paths_ann[id])\n",
    "    segs = [seg[:200,:200] for seg in segs]\n",
    "    for seg, compartment in zip(segs, [\"cell\", \"nuc\", \"soma\"]):\n",
    "        viewer.add_labels(seg, name=f\"{name}-{compartment}\", scale=scale)\n",
    "\n",
    "viewer.scale_bar.unit = 'm'\n",
    "viewer.scale_bar.visible = True\n"
   ]
  },
  {
   "cell_type": "code",
   "execution_count": null,
   "metadata": {},
   "outputs": [],
   "source": [
    "path_tommy = \"/Users/thomasathey/Documents/shavit-lab/fraenkel/papers/cvpr/data/annotated/annotate_3ch/tommy\"\n",
    "path_aneesh = \"/Users/thomasathey/Documents/shavit-lab/fraenkel/papers/cvpr/data/annotated/annotate_3ch/aneesh\"\n",
    "path_alba = \"/Users/thomasathey/Documents/shavit-lab/fraenkel/papers/cvpr/data/annotated/annotate_3ch/alba\"\n",
    "path_im = \"/Users/thomasathey/Documents/shavit-lab/fraenkel/papers/cvpr/data/annotated/annotate_3ch/\"\n",
    "\n",
    "id = \"e1_s026\"\n",
    "scale_on = True \n",
    "\n",
    "if scale_on:\n",
    "    scale = (res,res)\n",
    "else:\n",
    "    scale = None\n",
    "\n",
    "\n",
    "id_to_path_im = get_id_to_path(path_im, id_from_name_mask, tag=f\".tif\")\n",
    "im = read_seg(id_to_path_im[id])\n",
    "im = im[:200,:200]\n",
    "\n",
    "\n",
    "viewer = napari.Viewer()\n",
    "viewer.add_image(im, rgb=True, scale=scale)\n",
    "# perform clahe\n",
    "im = exposure.equalize_adapthist(im, clip_limit=0.03, kernel_size=16)\n",
    "im = (im*255).astype(np.uint8)\n",
    "outpath = \"/Users/thomasathey/Documents/shavit-lab/fraenkel/papers/cvpr/figures/agreement_viz/im_rgb.tif\"\n",
    "io.imsave(outpath, im)\n",
    "\n",
    "\n",
    "id_to_paths_1 = get_id_to_path(path_tommy, id_from_name_mask, tag=f\"_resolved\")\n",
    "id_to_paths_2 = get_id_to_path(path_alba, id_from_name_mask, tag=f\"_resolved\")\n",
    "\n",
    "segs1 = read_ims(id_to_paths_1[id])\n",
    "segs2 = read_ims(id_to_paths_2[id])\n",
    "\n",
    "segs1 = [seg[:200,:200] for seg in segs1]\n",
    "segs2 = [seg[:200,:200] for seg in segs2]\n",
    "\n",
    "seg1 = segs1[0]\n",
    "seg2 = segs2[0]\n",
    "\n",
    "matches = get_matches(seg1, seg2)\n",
    "tps, fps, fns = threat_score(seg1, seg2, 0.5)\n",
    "f1 = 2 * tps / (2 * tps + fps + fns)\n",
    "print(f\"F1: {f1}\")\n",
    "\n",
    "seg1_resolved = np.zeros_like(seg1)\n",
    "for match in matches:\n",
    "    seg1_resolved[seg1 == match[0]] = match[1]\n",
    "\n",
    "seg1_unresolved = np.copy(seg1)\n",
    "for match in matches:\n",
    "    seg1_unresolved[seg1_unresolved == match[0]] = 0\n",
    "\n",
    "seg2_resolved = np.zeros_like(seg2)\n",
    "for match in matches:\n",
    "    seg2_resolved[seg2 == match[1]] = match[0]\n",
    "\n",
    "seg2_unresolved = np.copy(seg2)\n",
    "for match in matches:\n",
    "    seg2_unresolved[seg2_unresolved == match[1]] = 0\n",
    "\n",
    "# use the pyplot winter colormap in viewer add_labels\n",
    "viewer.add_labels(seg1, name=\"Tommy - complete\", scale=scale)\n",
    "viewer.add_labels(seg2, name=\"Alba - complete\", scale=scale)\n",
    "\n",
    "cell_semantic = (seg1 > 0).astype(int) + (seg2 > 0).astype(int)\n",
    "cell_semantic_viz = np.zeros((seg1.shape[0], seg1.shape[1], 3), dtype=int)\n",
    "cell_semantic_viz[cell_semantic == 0, :] = (0,0,0)\n",
    "cell_semantic_viz[cell_semantic == 1, :] = (1,0,0)\n",
    "cell_semantic_viz[cell_semantic == 2, :] = (0,1,0)\n",
    "# color_mapping = {0: (0,0,0,0), 1: (1,0,0,1), 2: (0,1,0,1)}\n",
    "# color_mapping = napari.utils.DirectLabelColormap(color_dict=color_mapping)\n",
    "viewer.add_image(cell_semantic_viz, name=\"Semantic\", scale=scale, rgb=True)\n",
    "cell_semantic_viz = (cell_semantic_viz*255).astype(np.uint8)\n",
    "outpath = \"/Users/thomasathey/Documents/shavit-lab/fraenkel/papers/cvpr/figures/agreement_viz/semantic.tif\"\n",
    "io.imsave(outpath, cell_semantic_viz)\n",
    "iou = np.sum(np.logical_and(seg1 > 0, seg2 > 0)) / np.sum(np.logical_or(seg1 > 0, seg2 > 0))\n",
    "print(f\"Semantic IoU: {iou}\")\n",
    "\n",
    "\n",
    "cmap = plt.cm.Greens\n",
    "norm = plt.Normalize(0, len(np.unique(seg1_resolved)))\n",
    "seg1_viz = np.zeros((seg1_resolved.shape[0], seg1_resolved.shape[1], 3), dtype=float)\n",
    "color_mapping = {lbl: cmap(norm(i)) for i, lbl in enumerate(np.unique(seg1_resolved))}\n",
    "color_mapping[0] = (0,0,0,0)\n",
    "for lbl in np.unique(seg1_resolved):\n",
    "    seg1_viz[seg1_resolved == lbl, :] = color_mapping[lbl][:3]\n",
    "color_mapping = napari.utils.DirectLabelColormap(color_dict=color_mapping)\n",
    "#viewer.add_labels(seg1_resolved, name=\"Tommy - resolved\", scale=scale, colormap=color_mapping)\n",
    "\n",
    "\n",
    "cmap = plt.cm.Reds\n",
    "norm = plt.Normalize(0, len(np.unique(seg1_unresolved)))\n",
    "color_mapping = {lbl: cmap(norm(i)) for i, lbl in enumerate(np.unique(seg1_unresolved))}\n",
    "color_mapping[0] = (0,0,0,0)\n",
    "for lbl in np.unique(seg1_unresolved):\n",
    "    if lbl == 0:\n",
    "        continue\n",
    "    seg1_viz[seg1_unresolved == lbl, :] = color_mapping[lbl][:3]\n",
    "color_mapping = napari.utils.DirectLabelColormap(color_dict=color_mapping)\n",
    "#viewer.add_labels(seg1_unresolved, name=\"Tommy - unresolved\", scale=scale, colormap=color_mapping)\n",
    "viewer.add_image(seg1_viz, name=\"Tommy - instance\", scale=scale, rgb=True)\n",
    "seg1_viz = (seg1_viz*255).astype(np.uint8)\n",
    "outpath = \"/Users/thomasathey/Documents/shavit-lab/fraenkel/papers/cvpr/figures/agreement_viz/tommy_cell.tif\"\n",
    "io.imsave(outpath, seg1_viz)\n",
    "\n",
    "\n",
    "cmap = plt.cm.Greens\n",
    "norm = plt.Normalize(0, len(np.unique(seg2_resolved)))\n",
    "seg2_viz = np.zeros((seg2_resolved.shape[0], seg2_resolved.shape[1], 3), dtype=float)\n",
    "color_mapping = {lbl: cmap(norm(i)) for i, lbl in enumerate(np.unique(seg2_resolved))}\n",
    "color_mapping[0] = (0,0,0,0)\n",
    "for lbl in np.unique(seg2_resolved):\n",
    "    seg2_viz[seg2_resolved == lbl, :] = color_mapping[lbl][:3]\n",
    "color_mapping = napari.utils.DirectLabelColormap(color_dict=color_mapping)\n",
    "#viewer.add_labels(seg2_resolved, name=\"Alba - resolved\", scale=scale, colormap=color_mapping)\n",
    "\n",
    "\n",
    "cmap = plt.cm.Reds\n",
    "norm = plt.Normalize(0, len(np.unique(seg2_unresolved)))\n",
    "color_mapping = {lbl: cmap(norm(i)) for i, lbl in enumerate(np.unique(seg2_unresolved))}\n",
    "color_mapping[0] = (0,0,0,0)\n",
    "for lbl in np.unique(seg2_unresolved):\n",
    "    if lbl == 0:\n",
    "        continue\n",
    "    seg2_viz[seg2_unresolved == lbl, :] = color_mapping[lbl][:3]\n",
    "color_mapping = napari.utils.DirectLabelColormap(color_dict=color_mapping)\n",
    "#viewer.add_labels(seg2_unresolved, name=\"Alba - unresolved\", scale=scale, colormap=color_mapping)\n",
    "viewer.add_image(seg2_viz, name=\"Alba - instance\", scale=scale, rgb=True) \n",
    "seg2_viz = (seg2_viz*255).astype(np.uint8)\n",
    "outpath = \"/Users/thomasathey/Documents/shavit-lab/fraenkel/papers/cvpr/figures/agreement_viz/alba_cell.tif\"\n",
    "io.imsave(outpath, seg2_viz)\n",
    "\n",
    "\n",
    "# Nuclei\n",
    "\n",
    "seg1 = segs1[1]\n",
    "seg2 = segs2[1]\n",
    "\n",
    "matches = get_matches(seg1, seg2)\n",
    "tps, fps, fns = threat_score(seg1, seg2, 0.5)\n",
    "f1 = 2 * tps / (2 * tps + fps + fns)\n",
    "print(f\"F1: {f1}\")\n",
    "\n",
    "seg1_resolved = np.zeros_like(seg1)\n",
    "for match in matches:\n",
    "    seg1_resolved[seg1 == match[0]] = match[1]\n",
    "\n",
    "seg1_unresolved = np.copy(seg1)\n",
    "for match in matches:\n",
    "    seg1_unresolved[seg1_unresolved == match[0]] = 0\n",
    "\n",
    "seg2_resolved = np.zeros_like(seg2)\n",
    "for match in matches:\n",
    "    seg2_resolved[seg2 == match[1]] = match[0]\n",
    "\n",
    "seg2_unresolved = np.copy(seg2)\n",
    "for match in matches:\n",
    "    seg2_unresolved[seg2_unresolved == match[1]] = 0\n",
    "\n",
    "# use the pyplot winter colormap in viewer add_labels\n",
    "viewer.add_labels(seg1, name=\"Tommy - complete\", scale=scale)\n",
    "viewer.add_labels(seg2, name=\"Alba - complete\", scale=scale)\n",
    "\n",
    "\n",
    "cmap = plt.cm.Greens\n",
    "norm = plt.Normalize(0, len(np.unique(seg1_resolved)))\n",
    "seg1_viz = np.zeros((seg1_resolved.shape[0], seg1_resolved.shape[1], 3), dtype=float)\n",
    "color_mapping = {lbl: cmap(norm(i)) for i, lbl in enumerate(np.unique(seg1_resolved))}\n",
    "color_mapping[0] = (0,0,0,0)\n",
    "for lbl in np.unique(seg1_resolved):\n",
    "    seg1_viz[seg1_resolved == lbl, :] = color_mapping[lbl][:3]\n",
    "color_mapping = napari.utils.DirectLabelColormap(color_dict=color_mapping)\n",
    "#viewer.add_labels(seg1_resolved, name=\"Tommy - resolved\", scale=scale, colormap=color_mapping)\n",
    "\n",
    "\n",
    "cmap = plt.cm.Reds\n",
    "norm = plt.Normalize(0, len(np.unique(seg1_unresolved)))\n",
    "color_mapping = {lbl: cmap(norm(i)) for i, lbl in enumerate(np.unique(seg1_unresolved))}\n",
    "color_mapping[0] = (0,0,0,0)\n",
    "for lbl in np.unique(seg1_unresolved):\n",
    "    if lbl == 0:\n",
    "        continue\n",
    "    seg1_viz[seg1_unresolved == lbl, :] = color_mapping[lbl][:3]\n",
    "color_mapping = napari.utils.DirectLabelColormap(color_dict=color_mapping)\n",
    "#viewer.add_labels(seg1_unresolved, name=\"Tommy - unresolved\", scale=scale, colormap=color_mapping)\n",
    "viewer.add_image(seg1_viz, name=\"Tommy - instance\", scale=scale, rgb=True)\n",
    "seg1_viz = (seg1_viz*255).astype(np.uint8)\n",
    "outpath = \"/Users/thomasathey/Documents/shavit-lab/fraenkel/papers/cvpr/figures/agreement_viz/tommy_nuc.tif\"\n",
    "io.imsave(outpath, seg1_viz)\n",
    "\n",
    "cmap = plt.cm.Greens\n",
    "norm = plt.Normalize(0, len(np.unique(seg2_resolved)))\n",
    "seg2_viz = np.zeros((seg2_resolved.shape[0], seg2_resolved.shape[1], 3), dtype=float)\n",
    "color_mapping = {lbl: cmap(norm(i)) for i, lbl in enumerate(np.unique(seg2_resolved))}\n",
    "color_mapping[0] = (0,0,0,0)\n",
    "for lbl in np.unique(seg2_resolved):\n",
    "    seg2_viz[seg2_resolved == lbl, :] = color_mapping[lbl][:3]\n",
    "color_mapping = napari.utils.DirectLabelColormap(color_dict=color_mapping)\n",
    "#viewer.add_labels(seg2_resolved, name=\"Alba - resolved\", scale=scale, colormap=color_mapping)\n",
    "\n",
    "\n",
    "cmap = plt.cm.Reds\n",
    "norm = plt.Normalize(0, len(np.unique(seg2_unresolved)))\n",
    "color_mapping = {lbl: cmap(norm(i)) for i, lbl in enumerate(np.unique(seg2_unresolved))}\n",
    "color_mapping[0] = (0,0,0,0)\n",
    "for lbl in np.unique(seg2_unresolved):\n",
    "    if lbl == 0:\n",
    "        continue\n",
    "    seg2_viz[seg2_unresolved == lbl, :] = color_mapping[lbl][:3]\n",
    "color_mapping = napari.utils.DirectLabelColormap(color_dict=color_mapping)\n",
    "#viewer.add_labels(seg2_unresolved, name=\"Alba - unresolved\", scale=scale, colormap=color_mapping)\n",
    "viewer.add_image(seg2_viz, name=\"Alba - instance\", scale=scale, rgb=True)\n",
    "seg2_viz = (seg2_viz*255).astype(np.uint8)\n",
    "outpath = \"/Users/thomasathey/Documents/shavit-lab/fraenkel/papers/cvpr/figures/agreement_viz/alba_nuc.tif\"\n",
    "io.imsave(outpath, seg2_viz)\n",
    "\n",
    "# viewer.add_labels(seg1, name=\"Tommy\", scale=scale)\n",
    "# viewer.add_labels(seg2_resolved, name=\"Alba\", scale=scale)\n",
    "\n",
    "#viewer.theme = 'light'\n",
    "viewer.scale_bar.unit = 'm'\n",
    "viewer.scale_bar.visible = True\n"
   ]
  },
  {
   "cell_type": "markdown",
   "metadata": {},
   "source": [
    "# Evaluate algorithms"
   ]
  },
  {
   "cell_type": "markdown",
   "metadata": {},
   "source": [
    "- cellpose - done\n",
    "- omnipose - done\n",
    "- cellprofiler (otsu) - done\n",
    "- https://github.com/selimsef/dsb2018_topcoders/ - #1 kaggle for nuclei # old cuda version\n"
   ]
  },
  {
   "cell_type": "code",
   "execution_count": 5,
   "metadata": {},
   "outputs": [],
   "source": [
    "def unq_lbl(seg):\n",
    "    # convert rgb to grayscale\n",
    "    if seg.ndim == 3:\n",
    "        seg_new = np.zeros(seg.shape[:2], dtype=np.uint32)\n",
    "        seg_new = seg[:,:,0]*256**2 + seg[:,:,1]*256 + seg[:,:,2]\n",
    "        seg = seg_new\n",
    "\n",
    "    # separate connected components\n",
    "    seg_new = np.zeros_like(seg)\n",
    "    counter = 1\n",
    "    for lbl in np.unique(seg[seg > 0]):\n",
    "        label = measure.label(seg == lbl)\n",
    "        for new_lbl in np.unique(label):\n",
    "            if new_lbl == 0:\n",
    "                continue\n",
    "            seg_new[label == new_lbl] = counter\n",
    "            counter += 1\n",
    "    return seg_new\n"
   ]
  },
  {
   "cell_type": "code",
   "execution_count": 7,
   "metadata": {},
   "outputs": [
    {
     "data": {
      "application/vnd.jupyter.widget-view+json": {
       "model_id": "305c3cc841b44088b338dc803dad07af",
       "version_major": 2,
       "version_minor": 0
      },
      "text/plain": [
       "annotator pairs...:   0%|          | 0/13 [00:00<?, ?it/s]"
      ]
     },
     "metadata": {},
     "output_type": "display_data"
    },
    {
     "data": {
      "application/vnd.jupyter.widget-view+json": {
       "model_id": "dda5257ca84b48298939f027eb185eaf",
       "version_major": 2,
       "version_minor": 0
      },
      "text/plain": [
       "ids...:   0%|          | 0/5 [00:00<?, ?it/s]"
      ]
     },
     "metadata": {},
     "output_type": "display_data"
    },
    {
     "data": {
      "application/vnd.jupyter.widget-view+json": {
       "model_id": "a023733e895a4b0299dc416cc83710d9",
       "version_major": 2,
       "version_minor": 0
      },
      "text/plain": [
       "ids...:   0%|          | 0/5 [00:00<?, ?it/s]"
      ]
     },
     "metadata": {},
     "output_type": "display_data"
    },
    {
     "data": {
      "application/vnd.jupyter.widget-view+json": {
       "model_id": "b7b727f8741b4e88897f41c98d03c367",
       "version_major": 2,
       "version_minor": 0
      },
      "text/plain": [
       "ids...:   0%|          | 0/3 [00:00<?, ?it/s]"
      ]
     },
     "metadata": {},
     "output_type": "display_data"
    },
    {
     "data": {
      "application/vnd.jupyter.widget-view+json": {
       "model_id": "decf3a0d7a3045538a3b980948f37aa7",
       "version_major": 2,
       "version_minor": 0
      },
      "text/plain": [
       "ids...:   0%|          | 0/3 [00:00<?, ?it/s]"
      ]
     },
     "metadata": {},
     "output_type": "display_data"
    },
    {
     "data": {
      "application/vnd.jupyter.widget-view+json": {
       "model_id": "3f749e782c6a4d1fa05f7986806f08e6",
       "version_major": 2,
       "version_minor": 0
      },
      "text/plain": [
       "ids...:   0%|          | 0/5 [00:00<?, ?it/s]"
      ]
     },
     "metadata": {},
     "output_type": "display_data"
    },
    {
     "data": {
      "application/vnd.jupyter.widget-view+json": {
       "model_id": "8a80797607e74f6bbdfce8c4090d1a75",
       "version_major": 2,
       "version_minor": 0
      },
      "text/plain": [
       "ids...:   0%|          | 0/5 [00:00<?, ?it/s]"
      ]
     },
     "metadata": {},
     "output_type": "display_data"
    },
    {
     "data": {
      "application/vnd.jupyter.widget-view+json": {
       "model_id": "2b4b897ea809454ebace54a6d8ab93b9",
       "version_major": 2,
       "version_minor": 0
      },
      "text/plain": [
       "ids...:   0%|          | 0/5 [00:00<?, ?it/s]"
      ]
     },
     "metadata": {},
     "output_type": "display_data"
    },
    {
     "data": {
      "application/vnd.jupyter.widget-view+json": {
       "model_id": "0696b9f86b3546a3b06c69d78518e783",
       "version_major": 2,
       "version_minor": 0
      },
      "text/plain": [
       "ids...:   0%|          | 0/5 [00:00<?, ?it/s]"
      ]
     },
     "metadata": {},
     "output_type": "display_data"
    },
    {
     "data": {
      "application/vnd.jupyter.widget-view+json": {
       "model_id": "2ba7cbec6976417db0c715c850d543e6",
       "version_major": 2,
       "version_minor": 0
      },
      "text/plain": [
       "ids...:   0%|          | 0/5 [00:00<?, ?it/s]"
      ]
     },
     "metadata": {},
     "output_type": "display_data"
    },
    {
     "data": {
      "application/vnd.jupyter.widget-view+json": {
       "model_id": "b36db5607c5b414682d70662b86b95d8",
       "version_major": 2,
       "version_minor": 0
      },
      "text/plain": [
       "ids...:   0%|          | 0/5 [00:00<?, ?it/s]"
      ]
     },
     "metadata": {},
     "output_type": "display_data"
    },
    {
     "data": {
      "application/vnd.jupyter.widget-view+json": {
       "model_id": "c4ac9cffa206490192cf8a9e115b1d1f",
       "version_major": 2,
       "version_minor": 0
      },
      "text/plain": [
       "ids...:   0%|          | 0/5 [00:00<?, ?it/s]"
      ]
     },
     "metadata": {},
     "output_type": "display_data"
    },
    {
     "data": {
      "application/vnd.jupyter.widget-view+json": {
       "model_id": "892fa500bb9840e0b029d4d289cfba51",
       "version_major": 2,
       "version_minor": 0
      },
      "text/plain": [
       "ids...:   0%|          | 0/5 [00:00<?, ?it/s]"
      ]
     },
     "metadata": {},
     "output_type": "display_data"
    },
    {
     "data": {
      "application/vnd.jupyter.widget-view+json": {
       "model_id": "fad436d417e54b8fb16cd89d8fa13483",
       "version_major": 2,
       "version_minor": 0
      },
      "text/plain": [
       "ids...:   0%|          | 0/5 [00:00<?, ?it/s]"
      ]
     },
     "metadata": {},
     "output_type": "display_data"
    },
    {
     "data": {
      "application/vnd.jupyter.widget-view+json": {
       "model_id": "bbe99fe4b3004d0ba32d5fdd7752eb84",
       "version_major": 2,
       "version_minor": 0
      },
      "text/plain": [
       "ids...:   0%|          | 0/5 [00:00<?, ?it/s]"
      ]
     },
     "metadata": {},
     "output_type": "display_data"
    },
    {
     "data": {
      "application/vnd.jupyter.widget-view+json": {
       "model_id": "b57c7768aed6420e83d46f2e1fab61e4",
       "version_major": 2,
       "version_minor": 0
      },
      "text/plain": [
       "ids...:   0%|          | 0/5 [00:00<?, ?it/s]"
      ]
     },
     "metadata": {},
     "output_type": "display_data"
    },
    {
     "data": {
      "application/vnd.jupyter.widget-view+json": {
       "model_id": "9ed2d1efeb5b43978192f8c1e55527b5",
       "version_major": 2,
       "version_minor": 0
      },
      "text/plain": [
       "ids...:   0%|          | 0/5 [00:00<?, ?it/s]"
      ]
     },
     "metadata": {},
     "output_type": "display_data"
    },
    {
     "data": {
      "application/vnd.jupyter.widget-view+json": {
       "model_id": "b7e861d8fccf413396de1c1bde968b20",
       "version_major": 2,
       "version_minor": 0
      },
      "text/plain": [
       "ids...:   0%|          | 0/5 [00:00<?, ?it/s]"
      ]
     },
     "metadata": {},
     "output_type": "display_data"
    },
    {
     "data": {
      "application/vnd.jupyter.widget-view+json": {
       "model_id": "ff4e7ffaa6104edfab48681e39f8edfe",
       "version_major": 2,
       "version_minor": 0
      },
      "text/plain": [
       "ids...:   0%|          | 0/5 [00:00<?, ?it/s]"
      ]
     },
     "metadata": {},
     "output_type": "display_data"
    },
    {
     "data": {
      "application/vnd.jupyter.widget-view+json": {
       "model_id": "d5df502baef645a5a515304a105e69ff",
       "version_major": 2,
       "version_minor": 0
      },
      "text/plain": [
       "ids...:   0%|          | 0/5 [00:00<?, ?it/s]"
      ]
     },
     "metadata": {},
     "output_type": "display_data"
    },
    {
     "data": {
      "application/vnd.jupyter.widget-view+json": {
       "model_id": "ec808bc21cfe48afafebf1a029278dc0",
       "version_major": 2,
       "version_minor": 0
      },
      "text/plain": [
       "ids...:   0%|          | 0/5 [00:00<?, ?it/s]"
      ]
     },
     "metadata": {},
     "output_type": "display_data"
    },
    {
     "data": {
      "application/vnd.jupyter.widget-view+json": {
       "model_id": "680fd06c272243f8a27e70948175da5a",
       "version_major": 2,
       "version_minor": 0
      },
      "text/plain": [
       "ids...:   0%|          | 0/3 [00:00<?, ?it/s]"
      ]
     },
     "metadata": {},
     "output_type": "display_data"
    },
    {
     "data": {
      "application/vnd.jupyter.widget-view+json": {
       "model_id": "362e5be7a4c149ef873b928d31392214",
       "version_major": 2,
       "version_minor": 0
      },
      "text/plain": [
       "ids...:   0%|          | 0/3 [00:00<?, ?it/s]"
      ]
     },
     "metadata": {},
     "output_type": "display_data"
    },
    {
     "data": {
      "application/vnd.jupyter.widget-view+json": {
       "model_id": "1399519589f34b45b824f3cfc54e3007",
       "version_major": 2,
       "version_minor": 0
      },
      "text/plain": [
       "ids...:   0%|          | 0/2 [00:00<?, ?it/s]"
      ]
     },
     "metadata": {},
     "output_type": "display_data"
    },
    {
     "data": {
      "application/vnd.jupyter.widget-view+json": {
       "model_id": "f2591ae27b424b658781c37a34e0433c",
       "version_major": 2,
       "version_minor": 0
      },
      "text/plain": [
       "ids...: 0it [00:00, ?it/s]"
      ]
     },
     "metadata": {},
     "output_type": "display_data"
    },
    {
     "data": {
      "application/vnd.jupyter.widget-view+json": {
       "model_id": "e530d08fca70421c8a6f8aad1730309d",
       "version_major": 2,
       "version_minor": 0
      },
      "text/plain": [
       "ids...:   0%|          | 0/3 [00:00<?, ?it/s]"
      ]
     },
     "metadata": {},
     "output_type": "display_data"
    },
    {
     "data": {
      "application/vnd.jupyter.widget-view+json": {
       "model_id": "e724c44bd6eb4a62a73bd6d4b85fed44",
       "version_major": 2,
       "version_minor": 0
      },
      "text/plain": [
       "ids...:   0%|          | 0/3 [00:00<?, ?it/s]"
      ]
     },
     "metadata": {},
     "output_type": "display_data"
    },
    {
     "name": "stdout",
     "output_type": "stream",
     "text": [
      "{'Ann. 1': False, 'Ann. 2': False, 'Cellpose Cyto3': True, 'Omnipose Cyto2': True, 'CellProfiler': False, 'SAM': True, 'Mediar': True, 'Hover - CPM': True, 'StarDist': True, 'CellViT': True, 'Cellpose Cyto3:Finetune': False, 'Mediar:Finetune': False}\n"
     ]
    }
   ],
   "source": [
    "path_tommy = \"/Users/thomasathey/Documents/shavit-lab/fraenkel/papers/cvpr/data/annotated/annotate_3ch/tommy\"\n",
    "path_aneesh = \"/Users/thomasathey/Documents/shavit-lab/fraenkel/papers/cvpr/data/annotated/annotate_3ch/aneesh\"\n",
    "path_alg = \"/Users/thomasathey/Documents/shavit-lab/fraenkel/papers/cvpr/data/annotated/annotate_3ch/cyto3\"\n",
    "path_cellpose_train = \"/Users/thomasathey/Documents/shavit-lab/fraenkel/papers/cvpr/data/annotated/annotate_3ch/cellpose_train\"\n",
    "path_cellpose_trainval = \"/Users/thomasathey/Documents/shavit-lab/fraenkel/papers/cvpr/data/annotated/annotate_3ch/cellpose_trainval\"\n",
    "path_omni = \"/Users/thomasathey/Documents/shavit-lab/fraenkel/papers/cvpr/data/annotated/annotate_3ch/cyto2_omni\"\n",
    "path_im = \"/Users/thomasathey/Documents/shavit-lab/fraenkel/papers/cvpr/data/annotated/annotate_3ch/\"\n",
    "path_cellprof = \"/Users/thomasathey/Documents/shavit-lab/fraenkel/papers/cvpr/data/annotated/grayscale/cellprofiler/\"\n",
    "path_sam = \"/Users/thomasathey/Documents/shavit-lab/fraenkel/papers/cvpr/data/annotated/annotate_3ch/SAM\"\n",
    "path_mediar = \"/Users/thomasathey/Documents/shavit-lab/fraenkel/papers/cvpr/data/annotated/annotate_3ch/mediar\"\n",
    "path_mediar_trainval = \"/Users/thomasathey/Documents/shavit-lab/fraenkel/papers/cvpr/data/annotated/annotate_3ch/mediar_train\"\n",
    "path_star = \"/Users/thomasathey/Documents/shavit-lab/fraenkel/papers/cvpr/data/annotated/annotate_3ch/stardist\"\n",
    "path_hover = \"/Users/thomasathey/Documents/shavit-lab/fraenkel/papers/cvpr/data/annotated/annotate_3ch/hover/cpm\"\n",
    "path_cellvit = \"/Users/thomasathey/Documents/shavit-lab/fraenkel/papers/cvpr/data/annotated/annotate_3ch/cellvit\"\n",
    "\n",
    "paths = {\"Ann. 1\": path_tommy, \"Ann. 2\": path_aneesh, \"Cellpose Cyto3\": path_alg,\n",
    "         \"Omnipose Cyto2\": path_omni, \"CellProfiler\": path_cellprof, \"SAM\": path_sam,\n",
    "         \"Mediar\": path_mediar, \"Hover - CPM\": path_hover, \"StarDist\": path_star,\n",
    "         \"CellViT\": path_cellvit, \"Cellpose Cyto3:Finetune\": path_cellpose_train,\n",
    "         \"Cellpose - Finetune, Val\": path_cellpose_trainval, \"Mediar:Finetune\": path_mediar_trainval}\n",
    "\n",
    "pairs = [(\"Ann. 1\", \"Ann. 2\"), (\"Ann. 1\", \"Cellpose Cyto3\"), (\"Ann. 1\", \"Cellpose Cyto3:Finetune\"),\n",
    "         (\"Ann. 1\", \"StarDist\"), (\"Ann. 1\", \"Mediar\"),  (\"Ann. 1\", \"Mediar:Finetune\"),\n",
    "         (\"Ann. 1\", \"CellViT\"), (\"Ann. 1\", \"Omnipose Cyto2\"), (\"Ann. 1\", \"CellProfiler\"),\n",
    "         (\"Ann. 1\", \"Hover - CPM\"), (\"Ann. 1\", \"SAM\")]\n",
    "\n",
    "#pairs = [(\"Ann. 1\", \"Mediar\"),  (\"Ann. 1\", \"Mediar - Finetune\")]\n",
    "\n",
    "\n",
    "tag_to_name = {\"nuc\": \"Nuclei\", \"soma\": \"Somas\", \"cell\": \"Cells\"}\n",
    "\n",
    "data_val = []\n",
    "data_metric = []\n",
    "data_iou = []\n",
    "data_comp = []\n",
    "data_method = []\n",
    "data_finetune = []\n",
    "\n",
    "data_semantic_iou = []\n",
    "data_semantic_comp = []\n",
    "data_semantic_matchup = []\n",
    "\n",
    "ann_to_copy = {}\n",
    "\n",
    "for ann in tqdm(paths.keys(), desc=\"annotator pairs...\"):\n",
    "    path_ann = paths[ann]\n",
    "    id_to_soma = {}\n",
    "    for compartment in [\"soma\", \"cell\"]:\n",
    "        if ann in ann_to_copy.keys():\n",
    "                continue\n",
    "        if ann == \"Ann. 2\":\n",
    "            tag = f\"_{compartment}_resolved\"\n",
    "        elif compartment == \"cell\" and (ann == \"Cellpose Cyto3\" or ann == \"SAM\"):\n",
    "            tag = \"_cell-s\"\n",
    "        # elif compartment == \"cell\" and ann == \"SAM\":\n",
    "        #     tag = \"_cell-a\"\n",
    "        else:\n",
    "            tag = f\"_{compartment}.\"\n",
    "        id_to_paths_ann = get_id_to_path(path_ann, id_from_name_mask, tag=tag)\n",
    "\n",
    "\n",
    "        for id, path in tqdm(id_to_paths_ann.items(), leave=False, desc=\"ids...\"):\n",
    "            if ann in ann_to_copy.keys():\n",
    "                    continue\n",
    "            seg = read_seg(path)\n",
    "\n",
    "            if ann == \"Omnipose Cyto2\" or ann == \"CellProfiler\":\n",
    "                seg_2 = unq_lbl(seg)\n",
    "            \n",
    "            if id not in id_to_soma.keys():\n",
    "                id_to_soma[id] = seg\n",
    "            else:\n",
    "                if np.all(seg == id_to_soma[id]):\n",
    "                    ann_to_copy[ann] = True\n",
    "                else:\n",
    "                    ann_to_copy[ann] = False\n",
    "\n",
    "print(ann_to_copy)\n",
    "\n"
   ]
  },
  {
   "cell_type": "code",
   "execution_count": null,
   "metadata": {},
   "outputs": [],
   "source": [
    "path_tommy = \"/Users/thomasathey/Documents/shavit-lab/fraenkel/papers/cvpr/data/annotated/annotate_3ch/tommy\"\n",
    "path_aneesh = \"/Users/thomasathey/Documents/shavit-lab/fraenkel/papers/cvpr/data/annotated/annotate_3ch/aneesh\"\n",
    "path_alg = \"/Users/thomasathey/Documents/shavit-lab/fraenkel/papers/cvpr/data/annotated/annotate_3ch/cyto3\"\n",
    "path_cellpose_train = \"/Users/thomasathey/Documents/shavit-lab/fraenkel/papers/cvpr/data/annotated/annotate_3ch/cellpose_train\"\n",
    "path_cellpose_trainval = \"/Users/thomasathey/Documents/shavit-lab/fraenkel/papers/cvpr/data/annotated/annotate_3ch/cellpose_trainval\"\n",
    "path_omni = \"/Users/thomasathey/Documents/shavit-lab/fraenkel/papers/cvpr/data/annotated/annotate_3ch/cyto2_omni\"\n",
    "path_im = \"/Users/thomasathey/Documents/shavit-lab/fraenkel/papers/cvpr/data/annotated/annotate_3ch/\"\n",
    "path_cellprof = \"/Users/thomasathey/Documents/shavit-lab/fraenkel/papers/cvpr/data/annotated/grayscale/cellprofiler/\"\n",
    "path_sam = \"/Users/thomasathey/Documents/shavit-lab/fraenkel/papers/cvpr/data/annotated/annotate_3ch/SAM\"\n",
    "path_mediar = \"/Users/thomasathey/Documents/shavit-lab/fraenkel/papers/cvpr/data/annotated/annotate_3ch/mediar\"\n",
    "path_mediar_trainval = \"/Users/thomasathey/Documents/shavit-lab/fraenkel/papers/cvpr/data/annotated/annotate_3ch/mediar_train\"\n",
    "path_star = \"/Users/thomasathey/Documents/shavit-lab/fraenkel/papers/cvpr/data/annotated/annotate_3ch/stardist\"\n",
    "path_hover = \"/Users/thomasathey/Documents/shavit-lab/fraenkel/papers/cvpr/data/annotated/annotate_3ch/hover/cpm\"\n",
    "path_cellvit = \"/Users/thomasathey/Documents/shavit-lab/fraenkel/papers/cvpr/data/annotated/annotate_3ch/cellvit\"\n",
    "\n",
    "paths = {\"Ann. 1\": path_tommy, \"Ann. 2\": path_aneesh, \"Cellpose Cyto3\": path_alg,\n",
    "         \"Omnipose Cyto2\": path_omni, \"CellProfiler\": path_cellprof, \"SAM\": path_sam,\n",
    "         \"Mediar\": path_mediar, \"Hover - CPM\": path_hover, \"StarDist\": path_star,\n",
    "         \"CellViT\": path_cellvit, \"Cellpose Cyto3:Finetune\": path_cellpose_train,\n",
    "         \"Cellpose - Finetune, Val\": path_cellpose_trainval, \"Mediar:Finetune\": path_mediar_trainval}\n",
    "\n",
    "pairs = [(\"Ann. 1\", \"Ann. 2\"), (\"Ann. 1\", \"Cellpose Cyto3\"), (\"Ann. 1\", \"Cellpose Cyto3:Finetune\"),\n",
    "         (\"Ann. 1\", \"StarDist\"), (\"Ann. 1\", \"Mediar\"),  (\"Ann. 1\", \"Mediar:Finetune\"),\n",
    "         (\"Ann. 1\", \"CellViT\"), (\"Ann. 1\", \"Omnipose Cyto2\"), (\"Ann. 1\", \"CellProfiler\"),\n",
    "         (\"Ann. 1\", \"Hover - CPM\"), (\"Ann. 1\", \"SAM\")]\n",
    "\n",
    "#pairs = [(\"Ann. 1\", \"Mediar\"),  (\"Ann. 1\", \"Mediar - Finetune\")]\n",
    "\n",
    "\n",
    "tag_to_name = {\"nuc\": \"Nuclei\", \"soma\": \"Somas\", \"cell\": \"Cells\"}\n",
    "\n",
    "data_val = []\n",
    "data_metric = []\n",
    "data_iou = []\n",
    "data_comp = []\n",
    "data_method = []\n",
    "data_finetune = []\n",
    "\n",
    "data_semantic_iou = []\n",
    "data_semantic_comp = []\n",
    "data_semantic_matchup = []\n",
    "\n",
    "for ann1, ann2 in tqdm(pairs, desc=\"annotator pairs...\"):\n",
    "    path_ann1 = paths[ann1]\n",
    "    path_ann2 = paths[ann2]\n",
    "    for compartment in tqdm(list(tag_to_name.keys()), leave=False, desc=\"compartments...\"):\n",
    "        id_to_paths_ann1 = get_id_to_path(path_ann1, id_from_name_mask, tag=f\"_{compartment}_resolved\")\n",
    "        if ann2 == \"Ann. 2\":\n",
    "            tag_2 = f\"_{compartment}_resolved\"\n",
    "        elif compartment == \"cell\" and (ann2 == \"Cellpose Cyto3\" or ann2 == \"SAM\"):\n",
    "            tag_2 = \"_cell-s\"\n",
    "        # elif compartment == \"cell\" and ann2 == \"SAM\":\n",
    "        #     tag_2 = \"_cell-a\"\n",
    "        else:\n",
    "            tag_2 = f\"_{compartment}.\"\n",
    "        id_to_paths_ann2 = get_id_to_path(path_ann2, id_from_name_mask, tag=tag_2)\n",
    "\n",
    "        for iou_thresh in tqdm(np.arange(0.5, 1.0, 0.1), leave=False, desc=\"IoU thresholds...\"):\n",
    "            tp_total = 0\n",
    "            fp_total = 0\n",
    "            fn_total = 0\n",
    "            for id, path in tqdm(id_to_paths_ann1.items(), leave=False, desc=\"ids...\"):\n",
    "                if id == 'e1_s026' or id == 'e4_s062' or id == \"e2_s179\":\n",
    "                    pass\n",
    "                else:\n",
    "                    continue\n",
    "                \n",
    "                try:\n",
    "                    seg_1 = read_seg(path)\n",
    "                    seg_2 = read_seg(id_to_paths_ann2[id])\n",
    "                    if ann2 == \"Omnipose Cyto2\" or ann2 == \"CellProfiler\":\n",
    "                        seg_2 = unq_lbl(seg_2)\n",
    "                    \n",
    "                    tps, fps, fns = threat_score(seg_1, seg_2, iou_thresh)\n",
    "                    tp_total += tps\n",
    "                    fp_total += fps\n",
    "                    fn_total += fns\n",
    "                except Exception as e:\n",
    "                    print(f\"Exception: {e} under {ann1} vs {ann2}, {compartment}\")\n",
    "                    pass\n",
    "\n",
    "            # if \"Cyto3\" in ann2:\n",
    "            #     metrics, vals = [\"Threat Score\", \"Precision\", \"Recall\"], [tp_total/(tp_total+fp_total+fn_total), tp_total/(tp_total + fp_total), tp_total/(tp_total + fn_total)]\n",
    "            # else:\n",
    "            #     metrics, vals = [\"Threat Score\"], [tp_total/(tp_total+fp_total+fn_total)]\n",
    "\n",
    "            if tp_total + fp_total == 0:\n",
    "                prec = 1\n",
    "            else:\n",
    "                prec = tp_total / (tp_total + fp_total)\n",
    "            rec = tp_total / (tp_total + fn_total)\n",
    "\n",
    "            if prec + rec == 0:\n",
    "                f1 = 0\n",
    "            else:\n",
    "                f1 = 2 * (prec * rec) / (prec + rec)\n",
    "            metrics, vals = [\"F1 Score\"], [f1]\n",
    "\n",
    "            for metric, val in zip(metrics, vals):\n",
    "                data_iou.append(iou_thresh)\n",
    "                data_metric.append(metric)\n",
    "                data_val.append(val)\n",
    "                data_comp.append(tag_to_name[compartment])\n",
    "                data_method.append(ann2.split(':')[0])\n",
    "                if len(ann2.split(\":\")) > 1:\n",
    "                    data_finetune.append(True)\n",
    "                else:\n",
    "                    data_finetune.append(False)\n",
    "\n",
    "df = pd.DataFrame({\"IoU Threshold\": data_iou, \"F1 Score\": data_val, \"Metric\": data_metric, \"Compartment\": data_comp, \"Comparison\": data_method, \"Finetuned\": data_finetune})\n"
   ]
  },
  {
   "cell_type": "code",
   "execution_count": null,
   "metadata": {},
   "outputs": [],
   "source": [
    "df_full = df"
   ]
  },
  {
   "cell_type": "code",
   "execution_count": null,
   "metadata": {},
   "outputs": [],
   "source": [
    "df = df_full[df_full[\"Finetuned\"] == False]\n",
    "\n",
    "f, axs = plt.subplots(1, 3, figsize=(18, 5), sharey=True)\n",
    "\n",
    "for compartment, ax in zip([\"Nuclei\", \"Somas\", \"Cells\"], axs):\n",
    "    sns.lineplot(data=df[df[\"Compartment\"] == compartment], ax=ax, x=\"IoU Threshold\", y=\"F1 Score\", hue=\"Comparison\")#, style=\"Finetuned\")\n",
    "    ax.set_title(compartment)\n",
    "\n",
    "# axs[0].set_title(\"Nuclei Instance Agreement\")\n",
    "# axs[1].set_title(\"b) Somas Instance Agreement\")\n",
    "# axs[2].set_title(\"c) Cell Instance Agreement\")\n",
    "\n",
    "\n",
    "for ax in axs:\n",
    "    for item in ([ax.title, ax.xaxis.label, ax.yaxis.label]):\n",
    "        item.set_fontsize(18)\n",
    "\n",
    "    for item in (ax.get_xticklabels() + ax.get_yticklabels() + ax.get_legend().get_texts()):\n",
    "        item.set_fontsize(12)\n",
    "\n",
    "# remove legend except for last panel\n",
    "for ax in axs[:-1]:\n",
    "    ax.get_legend().remove()\n",
    "    \n",
    "plt.ylim(0, 1.0)\n",
    "#plt.suptitle(\"Cellpose Cyto3 Performance\")\n",
    "plt.savefig(\"/Users/thomasathey/Documents/shavit-lab/fraenkel/papers/miccai/figures/alg_results/performance.svg\")"
   ]
  },
  {
   "cell_type": "markdown",
   "metadata": {},
   "source": [
    "## Mediar"
   ]
  },
  {
   "cell_type": "code",
   "execution_count": null,
   "metadata": {},
   "outputs": [],
   "source": [
    "path_tommy = \"/Users/thomasathey/Documents/shavit-lab/fraenkel/papers/cvpr/data/annotated/annotate_3ch/tommy\"\n",
    "path_aneesh = \"/Users/thomasathey/Documents/shavit-lab/fraenkel/papers/cvpr/data/annotated/annotate_3ch/aneesh\"\n",
    "path_alg = \"/Users/thomasathey/Documents/shavit-lab/fraenkel/papers/cvpr/data/annotated/annotate_3ch/cyto3\"\n",
    "path_omni = \"/Users/thomasathey/Documents/shavit-lab/fraenkel/papers/cvpr/data/annotated/annotate_3ch/cyto2_omni\"\n",
    "path_im = \"/Users/thomasathey/Documents/shavit-lab/fraenkel/papers/cvpr/data/annotated/annotate_3ch/\"\n",
    "path_cellprof = \"/Users/thomasathey/Documents/shavit-lab/fraenkel/papers/cvpr/data/annotated/grayscale/cellprofiler/\"\n",
    "path_sam = \"/Users/thomasathey/Documents/shavit-lab/fraenkel/papers/cvpr/data/annotated/annotate_3ch/SAM\"\n",
    "path_mediar = \"/Users/thomasathey/Documents/shavit-lab/fraenkel/papers/cvpr/data/annotated/annotate_3ch/mediar\"\n",
    "\n",
    "paths = {\"Ann. 1\": path_tommy, \"Ann. 2\": path_aneesh, \"Cellpose Cyto3\": path_alg, \"Omnipose Cyto2\": path_omni, \"CellProfiler\": path_cellprof, \"SAM\": path_sam, \"Mediar\": path_mediar}\n",
    "\n",
    "tag_to_name = {\"nuc\": \"Nuclei\", \"soma\": \"Somas\", \"cell\": \"Cells\"}\n",
    "\n",
    "\n",
    "data_val = []\n",
    "data_metric = []\n",
    "data_iou = []\n",
    "data_comp = []\n",
    "data_matchup = []\n",
    "\n",
    "data_semantic_iou = []\n",
    "data_semantic_comp = []\n",
    "data_semantic_matchup = []\n",
    "\n",
    "for ann1, ann2 in tqdm([(\"Ann. 1\", \"Ann. 2\"), (\"Ann. 1\", \"Mediar\")], desc=\"annotator pairs...\"):\n",
    "    path_ann1 = paths[ann1]\n",
    "    path_ann2 = paths[ann2]\n",
    "    for compartment in tqdm([\"nuc\"], leave=False, desc=\"compartments...\"):\n",
    "        id_to_paths_ann1 = get_id_to_path(path_ann1, id_from_name_mask, tag=f\"_{compartment}_resolved\")\n",
    "        if ann2 == \"Ann. 2\":\n",
    "            tag_2 = f\"_{compartment}_resolved\"\n",
    "        elif compartment == \"cell\" and ann2 == \"Cellpose Cyto3\":#(ann2 == \"Cellpose Cyto3\" or ann2 == \"SAM\"):\n",
    "            tag_2 = \"_cell-s\"\n",
    "        elif compartment == \"cell\" and ann2 == \"SAM\":\n",
    "            tag_2 = \"_cell-a\"\n",
    "        else:\n",
    "            tag_2 = f\"_{compartment}\"\n",
    "        id_to_paths_ann2 = get_id_to_path(path_ann2, id_from_name_mask, tag=tag_2)\n",
    "\n",
    "        for iou_thresh in tqdm(np.arange(0.5, 1.0, 0.1), leave=False, desc=\"IoU thresholds...\"):\n",
    "            tp_total = 0\n",
    "            fp_total = 0\n",
    "            fn_total = 0\n",
    "            for id, path in tqdm(id_to_paths_ann1.items(), leave=False, desc=\"ids...\"):\n",
    "                if id == 'e1_s026' or id == 'e4_s062':\n",
    "                    pass\n",
    "                else:\n",
    "                    continue\n",
    "                \n",
    "                try:\n",
    "                    seg_1 = read_seg(path)\n",
    "                    seg_2 = read_seg(id_to_paths_ann2[id])\n",
    "                    if ann2 == \"Omnipose Cyto2\" or ann2 == \"CellProfiler\":\n",
    "                        seg_2 = unq_lbl(seg_2)\n",
    "                    \n",
    "                    tps, fps, fns = threat_score(seg_1, seg_2, iou_thresh)\n",
    "                    tp_total += tps\n",
    "                    fp_total += fps\n",
    "                    fn_total += fns\n",
    "                except Exception as e:\n",
    "                    print(f\"Exception: {e}\")\n",
    "                    pass\n",
    "\n",
    "            # if \"Cyto3\" in ann2:\n",
    "            #     metrics, vals = [\"Threat Score\", \"Precision\", \"Recall\"], [tp_total/(tp_total+fp_total+fn_total), tp_total/(tp_total + fp_total), tp_total/(tp_total + fn_total)]\n",
    "            # else:\n",
    "            #     metrics, vals = [\"Threat Score\"], [tp_total/(tp_total+fp_total+fn_total)]\n",
    "\n",
    "            prec = tp_total / (tp_total + fp_total)\n",
    "            rec = tp_total / (tp_total + fn_total)\n",
    "            if prec + rec == 0:\n",
    "                f1 = 0\n",
    "            else:\n",
    "                f1 = 2 * (prec * rec) / (prec + rec)\n",
    "            metrics, vals = [\"F1 Score\"], [f1]\n",
    "\n",
    "            for metric, val in zip(metrics, vals):\n",
    "                data_iou.append(iou_thresh)\n",
    "                data_metric.append(metric)\n",
    "                data_val.append(val)\n",
    "                data_comp.append(tag_to_name[compartment])\n",
    "                data_matchup.append(f\"{ann1} vs {ann2}\")\n",
    "\n",
    "df = pd.DataFrame({\"IoU Threshold\": data_iou, \"F1 Score\": data_val, \"Metric\": data_metric, \"Compartment\": data_comp, \"Comparison\": data_matchup})\n"
   ]
  },
  {
   "cell_type": "code",
   "execution_count": null,
   "metadata": {},
   "outputs": [],
   "source": [
    "f, ax = plt.subplots(1, 1, figsize=(18, 6), sharey=True)\n",
    "\n",
    "sns.lineplot(data=df[df[\"Compartment\"] == \"Nuclei\"], x=\"IoU Threshold\", y=\"F1 Score\", hue=\"Comparison\", ax=ax)\n",
    "ax.set_title(compartment)\n",
    "\n",
    "# axs[0].set_title(\"Nuclei Instance Agreement\")\n",
    "# axs[1].set_title(\"b) Somas Instance Agreement\")\n",
    "# axs[2].set_title(\"c) Cell Instance Agreement\")\n",
    "\n",
    "for item in ([ax.title, ax.xaxis.label, ax.yaxis.label]):\n",
    "    item.set_fontsize(18)\n",
    "\n",
    "# for item in (ax.get_xticklabels() + ax.get_yticklabels() + ax.get_legend().get_texts()):\n",
    "#     item.set_fontsize(12)\n",
    "\n",
    "plt.ylim(0, 1.0)\n",
    "#plt.suptitle(\"Cellpose Cyto3 Performance\")"
   ]
  },
  {
   "cell_type": "markdown",
   "metadata": {},
   "source": [
    "## View segmentations"
   ]
  },
  {
   "cell_type": "code",
   "execution_count": null,
   "metadata": {},
   "outputs": [],
   "source": [
    "im = io.imread(\"/Users/thomasathey/Documents/shavit-lab/fraenkel/papers/cvpr/figures/prediction_examples/e4_s062.tif\")\n",
    "im_rna = im[:,:,1]\n",
    "io.imsave(\"/Users/thomasathey/Documents/shavit-lab/fraenkel/papers/cvpr/figures/prediction_examples/e4_s062_rna.tif\", im_rna)\n"
   ]
  },
  {
   "cell_type": "markdown",
   "metadata": {},
   "source": [
    "# All plates"
   ]
  },
  {
   "cell_type": "markdown",
   "metadata": {},
   "source": [
    "## Formatting"
   ]
  },
  {
   "cell_type": "code",
   "execution_count": null,
   "metadata": {},
   "outputs": [],
   "source": [
    "raw_dir = \"/Users/thomasathey/Documents/shavit-lab/fraenkel/papers/cvpr/data/all_control/raw\"\n",
    "\n",
    "# get all tif files from raw directory\n",
    "raw_paths = list(Path(raw_dir).rglob(\"*.tif\"))\n",
    "stems = [raw_path.stem.replace(\" \", \"\") for raw_path in raw_paths]\n",
    "es = [f\"e{stem[10]}\" for stem in stems]\n",
    "ss = [f\"s{stem.split('_')[-1].split('c')[0][1:].zfill(3)}\" for stem in stems]\n",
    "cs = [f\"c{stem[-1]}\" for stem in stems]\n",
    "\n",
    "es_int = [int(e[1:]) for e in es]\n",
    "ss_int = [int(s[1:]) for s in ss]\n",
    "cs_int = [int(c[1:]) for c in cs]\n",
    "\n",
    "data = {\"e\": es, \"s\": ss, \"c\": cs, \"e_int\": es_int, \"s_int\": ss_int, \"c_int\": cs_int, \"path\": raw_paths}\n",
    "df = pd.DataFrame(data)\n",
    "\n",
    "for e in tqdm(df[\"e\"].unique()):\n",
    "    for s in tqdm(df[df[\"e\"] == e][\"s\"].unique(), leave=False):\n",
    "        df_sample = df[df[\"e\"] == e][df[\"s\"] == s]\n",
    "        im = None\n",
    "        # sort the rows of df_sample by c_int\n",
    "        df_sample = df_sample.sort_values(by=\"c_int\")\n",
    "        paths = [df_sample[df_sample[\"c_int\"] == c][\"path\"].values[0] for c in [4,5,2]]\n",
    "        ims = [io.imread(path) for path in paths]\n",
    "        ims = [np.amax(im, axis=-1) for im in ims]\n",
    "        im_rgb = np.stack(ims, axis=-1)\n",
    "\n",
    "        #io.imsave(Path(\"/Users/thomasathey/Documents/shavit-lab/fraenkel/papers/cvpr/data/all_control/ARD\") / f\"{e}_{s}_ARD.tif\", im_rgb)\n",
    "        "
   ]
  },
  {
   "cell_type": "markdown",
   "metadata": {},
   "source": [
    "### Add well ID field"
   ]
  },
  {
   "cell_type": "code",
   "execution_count": null,
   "metadata": {},
   "outputs": [],
   "source": [
    "path = \"/Users/thomasathey/Documents/shavit-lab/fraenkel/papers/cvpr/data/all_control/ARD_2\"\n",
    "ext = \"tif\"\n",
    "\n",
    "# get a list of all paths of tif files in the path\n",
    "path = Path(path)\n",
    "paths = list(path.glob(f\"*.{ext}\"))\n",
    "\n",
    "# change each file name to hi.tif\n",
    "for path in paths:\n",
    "    loc = int(path.stem.split(\"_\")[1][1:])\n",
    "    well_id = (loc - 1) // 3 + 1\n",
    "    well_id = str(well_id).zfill(3)\n",
    "    path.rename(path.with_name(path.stem[:7] + f\"_w{well_id}\" + f\"{path.stem[7:]}.{ext}\"))\n"
   ]
  },
  {
   "cell_type": "markdown",
   "metadata": {},
   "source": [
    "## Apply cellpose\n",
    "\n",
    "`python -m cellpose --dir /Users/thomasathey/Documents/shavit-lab/fraenkel/papers/cvpr/data/all_control/ARD --pretrained_model cyto3 --chan 2 --chan2 3 --save_png --diameter 0. --verbose`"
   ]
  },
  {
   "cell_type": "markdown",
   "metadata": {},
   "source": [
    "## Analyze control dataset"
   ]
  },
  {
   "cell_type": "code",
   "execution_count": 17,
   "metadata": {},
   "outputs": [],
   "source": [
    "def field_to_line(field, exp):\n",
    "    if exp == 1 and field < 4:\n",
    "        return \"ZKZiCTR\" \n",
    "\n",
    "    if exp == 1:\n",
    "        if field < 61:\n",
    "            return \"AE8iCTR\"\n",
    "        elif field >= 61 and field < 121:\n",
    "            return \"ZKZiCTR\"\n",
    "        else:\n",
    "            return \"XH7iCTR\"\n",
    "    elif exp == 2:\n",
    "        if field < 61:\n",
    "            return \"AE8iCTR\"\n",
    "        elif field >= 61 and field < 121:\n",
    "            return \"XH7iCTR\"\n",
    "        else:\n",
    "            return \"ZKZiCTR\"\n",
    "    elif exp == 3:\n",
    "        if field < 61:\n",
    "            return \"ADKiCTR\"\n",
    "        elif field >= 61 and field < 121:\n",
    "            return \"NK3iCTR\"\n",
    "        else:\n",
    "            return \"ZKZiCTR\"\n",
    "    elif exp == 4:\n",
    "        if field < 61:\n",
    "            return \"XH7iCTR\"\n",
    "        elif field >= 61 and field < 121:\n",
    "            return \"ADKiCTR\"\n",
    "        else:\n",
    "            return \"AE8iCTR\"\n",
    "        \n",
    "def field_to_condition(field, exp):\n",
    "    if exp == 1:\n",
    "        if ((field >= 16 and field < 22) or \n",
    "            (field >= 70 and field < 76) or (field >= 91 and field < 97) or \n",
    "            (field >=136 and field < 139) or (field >= 151 and field < 154)):\n",
    "            return \"KPT\"\n",
    "        elif ((field >= 7 and field < 13) or (field > 40 and field < 46) or\n",
    "            (field >= 64 and field < 70) or (field >= 76 and field < 82) or\n",
    "            (field >= 130 and field < 136)):\n",
    "            return \"H2O2\"\n",
    "        elif ((field >= 55 and field < 61) or (field >= 31 and field < 37) or\n",
    "              (field < 4) or (field >= 115 and field < 118) or (field >= 82 and field < 88) or\n",
    "              (field >= 139 and field < 145) or (field >= 127 and field < 130) or (field >= 160 and field < 163)):\n",
    "            return \"Tunicamysin\"\n",
    "        elif ((field >= 49 and field < 55) or (field >= 22 and field < 25) or (field >= 37 and field < 40) or \n",
    "              (field >= 97 and field < 103) or (field >= 109 and field < 115) or \n",
    "              (field >= 145 and field < 151)):\n",
    "            return \"Autophagy\"\n",
    "        else:\n",
    "            return \"DMSO\"\n",
    "\n",
    "    else:\n",
    "        if (field < 7 or (field >= 16 and field < 22) or \n",
    "            (field >= 70 and field < 76) or (field >= 91 and field < 97) or \n",
    "            (field >=127 and field < 133) or (field >= 142 and field < 145) or (field >= 157 and field < 160)):\n",
    "            return \"KPT\"\n",
    "        elif ((field >= 7 and field < 13) or (field > 40 and field < 46) or\n",
    "            (field >= 64 and field < 70) or (field >= 76 and field < 82) or\n",
    "            (field >= 136 and field < 142) or (field >= 169 and field < 175)):\n",
    "            return \"H2O2\"\n",
    "        elif ((field >= 55 and field < 61) or (field >= 31 and field < 37) or\n",
    "              (field >= 82 and field < 88) or (field >= 115 and field < 121) or\n",
    "              (field >= 145 and field < 151) or (field >= 133 and field < 136) or (field >= 166 and field < 169)):\n",
    "            return \"Tunicamysin\"\n",
    "        elif ((field >= 49 and field < 55) or (field >= 22 and field < 25) or (field >= 37 and field < 40) or \n",
    "              (field >= 97 and field < 103) or (field >= 109 and field < 115) or \n",
    "              (field >= 121 and field < 127) or (field >= 151 and field < 157)):\n",
    "            return \"Autophagy\"\n",
    "        else:\n",
    "            return \"DMSO\"\n",
    "    "
   ]
  },
  {
   "cell_type": "code",
   "execution_count": 18,
   "metadata": {},
   "outputs": [
    {
     "name": "stdout",
     "output_type": "stream",
     "text": [
      "360 samples found out of 360\n"
     ]
    }
   ],
   "source": [
    "def id_from_name_all_control(name):\n",
    "    id = name[:7]\n",
    "    return id\n",
    "\n",
    "id_to_path_seg = get_id_to_path(\"/Users/thomasathey/Documents/shavit-lab/fraenkel/papers/cvpr/data/all_control/ARD\", id_from_name_all_control, tag=\"_masks\")\n",
    "id_to_path_im = get_id_to_path(\"/Users/thomasathey/Documents/shavit-lab/fraenkel/papers/cvpr/data/all_control/ARD\", id_from_name_all_control, tag=\"ARD.tif\")\n",
    "print(f\"{len(id_to_path_seg.keys())} samples found out of {len(id_to_path_im.keys())}\")"
   ]
  },
  {
   "cell_type": "code",
   "execution_count": 19,
   "metadata": {},
   "outputs": [
    {
     "data": {
      "text/plain": [
       "(360, 35)"
      ]
     },
     "execution_count": 19,
     "metadata": {},
     "output_type": "execute_result"
    }
   ],
   "source": [
    "data_task = []\n",
    "data_acc = []\n",
    "data_null_acc = []\n",
    "data_pval = []\n",
    "\n",
    "df = pd.read_csv(\"/Users/thomasathey/Documents/shavit-lab/fraenkel/papers/miccai/SomaRNA_Image.csv\")\n",
    "cols_X = [c for c in df.columns if \"Mean\" in c or \"Count\" in c]\n",
    "cols_X = [c for c in cols_X if \"_X\" not in c]\n",
    "cols_X = [c for c in cols_X if \"_Y\" not in c]\n",
    "cols_X = [c for c in cols_X if \"_Z\" not in c]\n",
    "cols_X = [c for c in cols_X if \"Actin\" not in c]\n",
    "cols_Y = [c for c in df.columns if c == \"Metadata_Field\" or c == \"Metadata_Plate\"]\n",
    "\n",
    "df = df[cols_X + cols_Y]\n",
    "df.fillna(value=0, inplace=True)\n",
    "\n",
    "lines = []\n",
    "conditions = []\n",
    "plate_categorical = []\n",
    "wells = []\n",
    "for _, row in df.iterrows():\n",
    "    exp = row[\"Metadata_Plate\"]\n",
    "    field = row[\"Metadata_Field\"]\n",
    "    line = field_to_line(field, exp)\n",
    "    condition = field_to_condition(field, exp)\n",
    "    well = (exp, (field - 1) // 3 + 1)\n",
    "\n",
    "    lines.append(line)\n",
    "    conditions.append(condition)\n",
    "    plate_categorical.append(str(int(exp)))\n",
    "    wells.append(well)\n",
    "\n",
    "df[\"Cell Line\"] = lines\n",
    "df[\"Condition\"] = conditions\n",
    "df[\"Plate\"] = plate_categorical\n",
    "df[\"Well\"] = wells\n",
    "\n",
    "\n",
    "X = df[cols_X].values\n",
    "\n",
    "\n",
    "# field_1 = set(range(1,7)) | set(range(91,97)) | set(range(127,133))\n",
    "# field_2 = set(range(7,13)) | set(range(76,82)) | set(range(169,175))\n",
    "# field_3 = set(range(55,61)) | set(range(82,88)) | set(range(133,136)) | set(range(166,169))\n",
    "# field_4 = set(range(49,55)) | set(range(97,103)) | set(range(121,127))\n",
    "# field_5 = set(range(13,16)) | set(range(46,49)) | set(range(88,91)) | set(range(103,106)) | set(range(175,181))\n",
    "\n",
    "# perturbations = {x : 1 for x in field_1} | {x : 2 for x in field_2} | {x : 3 for x in field_3} | {x : 4 for x in field_4} | {x : 5 for x in field_5}\n",
    "# perturbations = {k: str(v) for k, v in perturbations.items()}\n",
    "\n",
    "# field_ae8 = set(range(1,16)) | set(range(46,61))\n",
    "# field_xh7 = set(range(76,106))\n",
    "# field_zkz = set(range(121,136)) | set(range(166,181))\n",
    "# lines = {f : \"AE8iCTA\" for f in field_ae8} | {f : \"XH7iCTR\" for f in field_xh7} | {f : \"ZKZiCTR\" for f in field_zkz}\n",
    "\n",
    "# df[\"Perturbation\"] = df[\"Metadata_Field\"].map(perturbations)\n",
    "# df[\"Cell Line\"] = df[\"Metadata_Field\"].map(lines)\n",
    "X.shape"
   ]
  },
  {
   "cell_type": "markdown",
   "metadata": {},
   "source": [
    "### group by well"
   ]
  },
  {
   "cell_type": "code",
   "execution_count": 21,
   "metadata": {},
   "outputs": [
    {
     "data": {
      "text/plain": [
       "(120, 35)"
      ]
     },
     "execution_count": 21,
     "metadata": {},
     "output_type": "execute_result"
    }
   ],
   "source": [
    "grouped = df.groupby([\"Well\"])\n",
    "X = grouped[cols_X].mean().reset_index() \n",
    "#X = X.drop(columns=[\"Well\"])\n",
    "\n",
    "y_cond = grouped[\"Condition\"].first().reset_index() \n",
    "#y_cond = y_cond.drop(columns=[\"Well\"])\n",
    "\n",
    "y_line = grouped[\"Cell Line\"].first().reset_index() \n",
    "#y_line = y_cond.drop(columns=[\"Well\"])\n",
    "\n",
    "y_plate = grouped[\"Metadata_Plate\"].first().reset_index() \n",
    "#y_line = y_cond.drop(columns=[\"Well\"])\n",
    "y_platec = grouped[\"Plate\"].first().reset_index() \n",
    "#y_line = y_cond.drop(columns=[\"Well\"])\n",
    "y_field = grouped[\"Metadata_Field\"].first().reset_index() \n",
    "#y_line = y_cond.drop(columns=[\"Well\"])\n",
    "\n",
    "df = pd.merge(X, y_cond, on=\"Well\")\n",
    "df = pd.merge(df, y_line, on=\"Well\")\n",
    "df = pd.merge(df, y_plate, on=\"Well\")\n",
    "df = pd.merge(df, y_platec, on=\"Well\")\n",
    "df = pd.merge(df, y_field, on=\"Well\")\n",
    "\n",
    "X = df[cols_X].values\n",
    "\n",
    "X.shape"
   ]
  },
  {
   "cell_type": "markdown",
   "metadata": {},
   "source": [
    "### Run experiments"
   ]
  },
  {
   "cell_type": "code",
   "execution_count": 22,
   "metadata": {},
   "outputs": [],
   "source": [
    "reducer = umap.UMAP()\n",
    "X_scaled = StandardScaler().fit_transform(X)\n",
    "embedding = reducer.fit_transform(X_scaled)\n",
    "\n",
    "df[\"UMAP1\"] = embedding[:, 0]\n",
    "df[\"UMAP2\"] = embedding[:, 1]"
   ]
  },
  {
   "cell_type": "code",
   "execution_count": 24,
   "metadata": {},
   "outputs": [
    {
     "name": "stdout",
     "output_type": "stream",
     "text": [
      "Accuracy is 33.33333333333333\n",
      "Confusion Matrix\n",
      "[[ 0  5  6  0  1]\n",
      " [ 0  3  7  3  0]\n",
      " [ 0  2  6  2  1]\n",
      " [ 0  2  0 10  0]\n",
      " [ 0  5  2  4  1]]\n",
      "p-value: 0.0125\n"
     ]
    }
   ],
   "source": [
    "separate_plates = True\n",
    "\n",
    "if separate_plates:\n",
    "    df_train = df[(df[\"Metadata_Plate\"] != 4) & (df[\"Metadata_Plate\"] != 3)]\n",
    "    df_test = df[(df[\"Metadata_Plate\"] == 4) | (df[\"Metadata_Plate\"] == 3)]\n",
    "    \n",
    "    x_train = df_train[cols_X].values\n",
    "    y_train = df_train[\"Condition\"].values\n",
    "    x_test = df_test[cols_X].values\n",
    "    y_test = df_test[\"Condition\"].values\n",
    "else:\n",
    "    X = df[cols_X].values\n",
    "    y = df[\"Condition\"].values\n",
    "    print(X.shape)\n",
    "    x_train, x_test, y_train, y_test = train_test_split(X, y, test_size=0.20, random_state=15, stratify=y)\n",
    "\n",
    "\n",
    "clf = Pipeline([(\"scaler\", StandardScaler()), (\"logreg\", LogisticRegression(random_state=0))])\n",
    "clf.fit(x_train, y_train)\n",
    "#clf = LogisticRegression(random_state=0).fit(x_train, y_train)\n",
    "\n",
    "y_pred = clf.predict(x_test)\n",
    "\n",
    "accuracy = accuracy_score(y_test,y_pred)*100\n",
    "\n",
    "confusion_mat = confusion_matrix(y_test,y_pred)\n",
    "\n",
    "print(\"Accuracy is\",accuracy)\n",
    "print(\"Confusion Matrix\")\n",
    "print(confusion_mat)\n",
    "\n",
    "\n",
    "marginals = np.sum(confusion_mat, axis=1)\n",
    "k = len(marginals)\n",
    "pvals = [1/float(k)] * k\n",
    "\n",
    "accs = []\n",
    "for iter in range(10000):\n",
    "    rand_mat = []\n",
    "    for marginal in marginals:\n",
    "        row = np.random.multinomial(marginal, pvals = pvals)\n",
    "        rand_mat.append(row)\n",
    "\n",
    "    rand_mat = np.stack(rand_mat, axis=0)\n",
    "    \n",
    "    acc = np.sum(rand_mat.diagonal())/np.sum(rand_mat)*100\n",
    "    accs.append(acc)\n",
    "\n",
    "accs = np.array(accs)\n",
    "pval = np.sum(accs >= accuracy)/len(accs)\n",
    "print(f\"p-value: {pval}\")\n",
    "#sns.scatterplot(df, x=\"UMAP1\", y=\"UMAP2\", hue=\"Condition\")\n",
    "\n",
    "data_task.append(\"Predict Condition\")\n",
    "data_acc.append(accuracy)\n",
    "data_pval.append(pval)\n",
    "data_null_acc.append(np.mean(accs))"
   ]
  },
  {
   "cell_type": "code",
   "execution_count": 27,
   "metadata": {},
   "outputs": [
    {
     "name": "stdout",
     "output_type": "stream",
     "text": [
      "Accuracy is 26.666666666666668\n",
      "Confusion Matrix\n",
      "[[ 0  3  0  8  9]\n",
      " [ 0  0  0 10  0]\n",
      " [ 0  2  0  0  8]\n",
      " [ 0  0  0 10  0]\n",
      " [ 0  0  0  4  6]]\n",
      "p-value: 0.1284\n"
     ]
    }
   ],
   "source": [
    "separate_plates = True\n",
    "\n",
    "if separate_plates:\n",
    "    df_train = df[(df[\"Metadata_Plate\"] != 4) & (df[\"Metadata_Plate\"] != 3)]\n",
    "    df_test = df[(df[\"Metadata_Plate\"] == 4) | (df[\"Metadata_Plate\"] == 3)]\n",
    "    # df_train = df_train[df_train[\"Cell Line\"] != \"NK3iCTR\"]\n",
    "    # df_test = df_test[df_test[\"Cell Line\"] != \"NK3iCTR\"]\n",
    "    # df_train = df_train[df_train[\"Cell Line\"] != \"ZKZiCTR\"]\n",
    "    # df_test = df_test[df_test[\"Cell Line\"] != \"ZKZiCTR\"]\n",
    "    x_train = df_train[cols_X].values\n",
    "    y_train = df_train[\"Cell Line\"].values\n",
    "    x_test = df_test[cols_X].values\n",
    "    y_test = df_test[\"Cell Line\"].values\n",
    "else:\n",
    "    X = df[cols_X].values\n",
    "    y = df[\"Cell Line\"].values\n",
    "    print(X.shape)\n",
    "    x_train, x_test, y_train, y_test = train_test_split(X, y, test_size=0.20, random_state=15, stratify=y)\n",
    "    \n",
    "\n",
    "clf = Pipeline([(\"scaler\", StandardScaler()), (\"logreg\", LogisticRegression(random_state=0))])\n",
    "clf.fit(x_train, y_train)\n",
    "#clf = LogisticRegression(random_state=0).fit(x_train, y_train)\n",
    "\n",
    "y_pred = clf.predict(x_test)\n",
    "\n",
    "accuracy = accuracy_score(y_test,y_pred)*100\n",
    "\n",
    "confusion_mat = confusion_matrix(y_test,y_pred)\n",
    "\n",
    "print(\"Accuracy is\",accuracy)\n",
    "print(\"Confusion Matrix\")\n",
    "print(confusion_mat)\n",
    "\n",
    "marginals = np.sum(confusion_mat, axis=1)\n",
    "k = len(marginals)\n",
    "pvals = [1/float(k)] * k\n",
    "\n",
    "accs = []\n",
    "for iter in range(10000):\n",
    "    rand_mat = []\n",
    "    for marginal in marginals:\n",
    "        row = np.random.multinomial(marginal, pvals = pvals)\n",
    "        rand_mat.append(row)\n",
    "\n",
    "    rand_mat = np.stack(rand_mat, axis=0)\n",
    "\n",
    "    acc = np.sum(rand_mat.diagonal())/np.sum(rand_mat)*100\n",
    "    accs.append(acc)\n",
    "\n",
    "accs = np.array(accs)\n",
    "\n",
    "pval = np.sum(accs >= accuracy)/len(accs)\n",
    "\n",
    "print(f\"p-value: {pval}\")\n",
    "#sns.scatterplot(df, x=\"UMAP1\", y=\"UMAP2\", hue=\"Cell Line\")\n",
    "\n",
    "data_task.append(\"Predict Cell Line\")\n",
    "data_acc.append(accuracy)\n",
    "data_pval.append(pval)\n",
    "data_null_acc.append(np.mean(accs))"
   ]
  },
  {
   "cell_type": "code",
   "execution_count": 28,
   "metadata": {},
   "outputs": [
    {
     "data": {
      "image/png": "[encoded data removed]",
      "text/plain": [
       "<Figure size 1200x600 with 2 Axes>"
      ]
     },
     "metadata": {},
     "output_type": "display_data"
    }
   ],
   "source": [
    "f, axs = plt.subplots(1, 2, figsize=(12, 6))\n",
    "sns.scatterplot(df, x=\"UMAP1\", y=\"UMAP2\", hue=\"Cell Line\", ax=axs[0])\n",
    "sns.scatterplot(df, x=\"UMAP1\", y=\"UMAP2\", hue=\"Condition\", ax=axs[1])\n",
    "# increase legend font size\n",
    "\n",
    "for ax in axs:\n",
    "    for item in ax.get_legend().get_texts():\n",
    "        item.set_fontsize(14)\n",
    "# increase legend title font size\n",
    "for ax in axs:\n",
    "    for item in [ax.get_legend().get_title()]:\n",
    "        item.set_fontsize(14)\n",
    "\n",
    "# increase axis font size\n",
    "\n",
    "for ax in axs:\n",
    "    for item in ([ax.title, ax.xaxis.label, ax.yaxis.label]):\n",
    "        item.set_fontsize(18)\n",
    "\n",
    "    for item in (ax.get_xticklabels() + ax.get_yticklabels()):\n",
    "        item.set_fontsize(12)\n",
    "#sns.scatterplot(df, x=\"UMAP1\", y=\"UMAP2\", hue=\"Plate\", ax=axs[2])\n",
    "#plt.savefig(\"/Users/thomasathey/Documents/shavit-lab/fraenkel/papers/miccai/figures/umap.svg\")"
   ]
  },
  {
   "cell_type": "code",
   "execution_count": 16,
   "metadata": {},
   "outputs": [
    {
     "data": {
      "image/png": "[encoded data removed]",
      "text/plain": [
       "<Figure size 1600x800 with 4 Axes>"
      ]
     },
     "metadata": {},
     "output_type": "display_data"
    }
   ],
   "source": [
    "df_pred = pd.DataFrame({\"Task\": data_task, \"Mean Null Accuracy (%)\": data_null_acc, \"Accuracy (%)\": data_acc, \"p-value\": data_pval})\n",
    "df_pred[\"Mean Null Accuracy (%)\"] = df_pred[\"Mean Null Accuracy (%)\"].round(1)\n",
    "df_pred[\"Accuracy (%)\"] = df_pred[\"Accuracy (%)\"].round(1)\n",
    "# df_pred = df_pred.drop(columns=[\"p-value\"])\n",
    "# df_pred[\"p-value\"] = [\"0.037\", \"< 0.001\"]\n",
    "\n",
    "fig = plt.figure(figsize=(16, 8))\n",
    "gs = gridspec.GridSpec(2, 3, height_ratios=[3, 1])\n",
    "\n",
    "# First row, two subplots\n",
    "ax1 = fig.add_subplot(gs[0, 0])  # Top-left subplot\n",
    "ax2 = fig.add_subplot(gs[0, 1])  # Top-right subplot\n",
    "ax3 = fig.add_subplot(gs[0, 2])  # Top-right subplot\n",
    "\n",
    "# Second row, one subplot that spans both columns\n",
    "ax4 = fig.add_subplot(gs[1, :])  # Bottom subplot spanning both columns\n",
    "\n",
    "\n",
    "sns.scatterplot(df, x=\"UMAP1\", y=\"UMAP2\", hue=\"Cell Line\", ax=ax1)\n",
    "sns.scatterplot(df, x=\"UMAP1\", y=\"UMAP2\", hue=\"Condition\", ax=ax2)\n",
    "sns.scatterplot(df, x=\"UMAP1\", y=\"UMAP2\", hue=\"Plate\", ax=ax3)\n",
    "\n",
    "# move legend to bottom right in each axis\n",
    "ax1.legend(loc='lower right')\n",
    "ax2.legend(loc='lower right')\n",
    "ax3.legend(loc='lower right')\n",
    "# increase font size of the legends\n",
    "for ax in [ax1, ax2, ax3]:\n",
    "    for item in ax.get_legend().get_texts():\n",
    "        item.set_fontsize(18)\n",
    "\n",
    "ax4.axis('tight')\n",
    "ax4.axis('off')\n",
    "# make a new column called text that says ns if p-value is greater than 0.05, and stars if less than 0.05\n",
    "df_pred[\"p-value\"] = [\"< 0.01\" if pval < 0.01 else str(pval) for pval in df_pred[\"p-value\"]]\n",
    "\n",
    "table = ax4.table(cellText=df_pred.values, colLabels=df_pred.columns, cellLoc='center', loc='center')\n",
    "\n",
    "# Set font size for each cell\n",
    "table.auto_set_font_size(False)\n",
    "table.set_fontsize(16)  # Adjust font size as needed\n",
    "# increase cell size of table\n",
    "table.scale(1, 1.7)\n",
    "#plt.tight_layout()\n",
    "\n",
    "#plt.savefig(\"/Users/thomasathey/Documents/shavit-lab/fraenkel/papers/cvpr/figures/batch_effect/batch.svg\")"
   ]
  },
  {
   "cell_type": "code",
   "execution_count": null,
   "metadata": {},
   "outputs": [],
   "source": [
    "X = df[cols_X].values\n",
    "y = df[\"Metadata_Plate\"].values\n",
    "\n",
    "x_train, x_test, y_train, y_test = train_test_split(X, y, test_size=0.20, random_state=15, stratify=y)\n",
    "clf = LogisticRegression(random_state=0).fit(x_train, y_train)\n",
    "\n",
    "y_pred = clf.predict(x_test)\n",
    "\n",
    "accuracy = accuracy_score(y_test,y_pred)*100\n",
    "\n",
    "confusion_mat = confusion_matrix(y_test,y_pred)\n",
    "\n",
    "print(\"Accuracy is\",accuracy)\n",
    "print(\"Confusion Matrix\")\n",
    "print(confusion_mat)\n",
    "\n",
    "marginals = np.sum(confusion_mat, axis=1)\n",
    "k = len(marginals)\n",
    "pvals = [1/float(k)] * k\n",
    "\n",
    "accs = []\n",
    "for iter in range(10000):\n",
    "    rand_mat = []\n",
    "    for marginal in marginals:\n",
    "        row = np.random.multinomial(marginal, pvals = pvals)\n",
    "        rand_mat.append(row)\n",
    "\n",
    "    rand_mat = np.stack(rand_mat, axis=0)\n",
    "\n",
    "    acc = np.sum(rand_mat.diagonal())/np.sum(rand_mat)\n",
    "    accs.append(acc)\n",
    "\n",
    "accs = np.array(accs)\n",
    "\n",
    "print(f\"p-value: {np.sum(accs >= accuracy/100)/len(accs)}\")\n",
    "sns.scatterplot(df, x=\"UMAP1\", y=\"UMAP2\", hue=\"Plate\")"
   ]
  }
 ],
 "metadata": {
  "kernelspec": {
   "display_name": ".venv",
   "language": "python",
   "name": "python3"
  },
  "language_info": {
   "codemirror_mode": {
    "name": "ipython",
    "version": 3
   },
   "file_extension": ".py",
   "mimetype": "text/x-python",
   "name": "python",
   "nbconvert_exporter": "python",
   "pygments_lexer": "ipython3",
   "version": "3.9.5"
  }
 },
 "nbformat": 4,
 "nbformat_minor": 2
}
