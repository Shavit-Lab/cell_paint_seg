{
 "cells": [
  {
   "cell_type": "code",
   "execution_count": null,
   "metadata": {},
   "outputs": [],
   "source": [
    "import xgboost\n",
    "import shap \n",
    "\n",
    "import numpy as np\n",
    "from cell_paint_seg.utils import get_id_to_path, check_valid_labels, threat_score\n",
    "from cell_paint_seg.image_io import read_ims, read_seg\n",
    "from skimage import io, exposure, measure, transform\n",
    "from pathlib import Path\n",
    "import napari\n",
    "from tqdm.notebook import tqdm\n",
    "import pandas as pd\n",
    "import matplotlib.pyplot as plt\n",
    "import matplotlib.gridspec as gridspec\n",
    "import seaborn as sns\n",
    "import umap\n",
    "import umap.plot\n",
    "from sklearn.preprocessing import StandardScaler\n",
    "from sklearn.linear_model import LogisticRegression\n",
    "from sklearn.model_selection import train_test_split\n",
    "from sklearn.metrics import confusion_matrix, accuracy_score \n",
    "from PIL import Image"
   ]
  },
  {
   "cell_type": "markdown",
   "metadata": {},
   "source": [
    "# Universal"
   ]
  },
  {
   "cell_type": "code",
   "execution_count": null,
   "metadata": {},
   "outputs": [],
   "source": [
    "def id_from_name_dataset(name):\n",
    "    id = name[:-7]\n",
    "    return id \n",
    "\n",
    "def condition_from_id(id):\n",
    "    row_to_roid = {\"B\":0, \"C\":1, \"D\":2, \"E\":3, \"F\":4, \"G\":5}\n",
    "\n",
    "    well = id.split(\"_\")[1]\n",
    "    row = well[1]\n",
    "    row = row_to_roid[row]\n",
    "    col = int(well[2:])\n",
    "    col -= 2\n",
    "\n",
    "    conditions = [[1,1,2,2,5,1,1,4,5,5],\n",
    "                  [3,3,4,4,5,2,2,4,3,3],\n",
    "                  [5,2,2,1,1,2,2,3,3,5],\n",
    "                  [3,3,4,4,5,5,4,4,1,1],\n",
    "                  [4,4,1,1,3,2,2,1,3,3],\n",
    "                  [5,5,2,2,3,5,5,1,4,4]]\n",
    "    \n",
    "    return conditions[row][col] - 1\n",
    "\n",
    "def line_from_id(id):\n",
    "    row_to_roid = {\"B\":0, \"C\":1, \"D\":2, \"E\":3, \"F\":4, \"G\":5}\n",
    "\n",
    "    e = int(id[1])\n",
    "    well = id.split(\"_\")[1]\n",
    "    row = well[1]\n",
    "    row = row_to_roid[row]\n",
    "    col = int(well[2:])\n",
    "\n",
    "    if row < 2:\n",
    "        if col < 7:\n",
    "            e_to_line = {1:\"RFTiALS\", 2:\"AE8iCTR\", 3:\"ADKiCTR\", 4:\"EGMiALS\"}\n",
    "        else:\n",
    "            e_to_line = {1:\"AE8iCTR\", 2:\"BFUiALS\", 3:\"ZLMiALS\", 4:\"XH7iCTR\"}\n",
    "    elif row < 4:\n",
    "        if col < 7:\n",
    "            e_to_line = {1:\"ZKZiCTR\", 2:\"KRCiALS\", 3:\"BFUiALS\", 4:\"ADKiCTR\"}\n",
    "        else:\n",
    "            e_to_line = {1:\"TJViALS\", 2:\"XH7iCTR\", 3:\"NK3iCTR\", 4:\"LJXiALS\"}\n",
    "    else:\n",
    "        if col < 7:\n",
    "            e_to_line = {1:\"DG9iALS\", 2:\"ZKZiCTR\", 3:\"ZKZiCTR\", 4:\"NK3iCTR\"}\n",
    "        else:\n",
    "            e_to_line = {1:\"XH7iCTR\", 2:\"RJViALS\", 3:\"AFGiALS\", 4:\"AE8iCTR\"}\n",
    "    \n",
    "    \n",
    "    return e_to_line[e]\n",
    "\n",
    "path_dataset = \"/Users/thomasathey/Documents/shavit-lab/fraenkel/papers/cvpr/data/all/processed\"\n",
    "\n",
    "\n",
    "cond_to_cond = {1: \"KPT\", 2:\"H2O2\", 3:\"Tunicamycin\", 4:\"Autophagy\", 5:\"DMSO\"}\n",
    "channels = [\"ER\", \"DNA\", \"Mito\", \"Actin\", \"RNA\", \"Golgi/membrane\"]\n",
    "res = 6.9e-7\n",
    "\n",
    "id_to_path = get_id_to_path(path_dataset, tag=\".tif\", id_from_name=id_from_name_dataset)\n",
    "\n",
    "print(f\"{len(id_to_path.keys())} samples found\")"
   ]
  },
  {
   "cell_type": "markdown",
   "metadata": {},
   "source": [
    "# Make Dataset"
   ]
  },
  {
   "cell_type": "code",
   "execution_count": 95,
   "metadata": {},
   "outputs": [
    {
     "data": {
      "application/vnd.jupyter.widget-view+json": {
       "model_id": "584062fb35b341f186313bd91d63859d",
       "version_major": 2,
       "version_minor": 0
      },
      "text/plain": [
       "  0%|          | 0/720 [00:00<?, ?it/s]"
      ]
     },
     "metadata": {},
     "output_type": "display_data"
    },
    {
     "data": {
      "text/plain": [
       "(11520, 1539)"
      ]
     },
     "execution_count": 95,
     "metadata": {},
     "output_type": "execute_result"
    }
   ],
   "source": [
    "tile_test = True\n",
    "ds_size = 64\n",
    "data = []\n",
    "y = []\n",
    "for id, paths in tqdm(id_to_path.items()):\n",
    "    condition = condition_from_id(id)\n",
    "    line = line_from_id(id)\n",
    "    if \"ALS\" in line:\n",
    "        disease = 1\n",
    "    else:\n",
    "        disease = 0\n",
    "    exp = int(id[1])\n",
    "    ims = read_ims(paths)\n",
    "\n",
    "    if exp == 4:\n",
    "        ims = [transform.resize(im, (ds_size,ds_size), anti_aliasing=True) for im in ims]\n",
    "        if tile_test:\n",
    "            for x0 in range(0, ds_size, 16):\n",
    "                for y0 in range(0, ds_size, 16):\n",
    "                    ims_flat = [im[x0:x0+16,y0:y0+16].flatten() for im in ims]\n",
    "                    x = np.concatenate(ims_flat + [[disease, condition, exp]], axis=0)\n",
    "                    data.append(x)\n",
    "        else:\n",
    "            ims_flat = [im[8:24,8:24].flatten() for im in ims]\n",
    "            x = np.concatenate(ims_flat + [[disease, condition, exp]], axis=0)\n",
    "            data.append(x)\n",
    "    else:\n",
    "        ims = [transform.resize(im, (ds_size,ds_size), anti_aliasing=True) for im in ims]\n",
    "        for x0 in range(0, ds_size, 16):\n",
    "            for y0 in range(0, ds_size, 16):\n",
    "                ims_flat = [im[x0:x0+16,y0:y0+16].flatten() for im in ims]\n",
    "                x = np.concatenate(ims_flat + [[disease, condition, exp]], axis=0)\n",
    "                data.append(x)\n",
    "\n",
    "\n",
    "\n",
    "data = np.stack(data, axis=0)\n",
    "columns = [f\"{channel}_{i}\" for channel in channels for i in range(ims_flat[0].size)] + [\"Disease\", \"Condition\", \"Experiment\"]\n",
    "\n",
    "df = pd.DataFrame(data, columns=columns)\n",
    "df.shape  "
   ]
  },
  {
   "cell_type": "code",
   "execution_count": 115,
   "metadata": {},
   "outputs": [
    {
     "data": {
      "text/plain": [
       "(11520, 1539)"
      ]
     },
     "execution_count": 115,
     "metadata": {},
     "output_type": "execute_result"
    }
   ],
   "source": [
    "data = np.stack(data, axis=0)\n",
    "columns = [f\"{channel}_{i}\" for channel in channels for i in range(ims_flat[0].size)] + [\"Disease\", \"Condition\", \"Experiment\"]\n",
    "\n",
    "df = pd.DataFrame(data, columns=columns)\n",
    "df.shape  "
   ]
  },
  {
   "cell_type": "code",
   "execution_count": 116,
   "metadata": {},
   "outputs": [],
   "source": [
    "df = df[df[\"Condition\"] == 0]"
   ]
  },
  {
   "cell_type": "code",
   "execution_count": 117,
   "metadata": {},
   "outputs": [
    {
     "name": "stdout",
     "output_type": "stream",
     "text": [
      "Accuracy is 0.5520833333333334\n",
      "Confusion Matrix\n",
      "[[194  94]\n",
      " [164 124]]\n",
      "Accuracy is 0.5989583333333334\n",
      "Confusion Matrix\n",
      "[[226  62]\n",
      " [169 119]]\n",
      "Accuracy is 0.5538194444444444\n",
      "Confusion Matrix\n",
      "[[220  68]\n",
      " [189  99]]\n",
      "Accuracy is 0.6076388888888888\n",
      "Confusion Matrix\n",
      "[[177 207]\n",
      " [ 19 173]]\n"
     ]
    }
   ],
   "source": [
    "separate_plates = True \n",
    "\n",
    "dep_var = \"Disease\"\n",
    "\n",
    "for exclude in range(1,5):\n",
    "    if separate_plates:\n",
    "        df_train = df[df[\"Experiment\"] != exclude]\n",
    "        df_test = df[df[\"Experiment\"] == exclude]\n",
    "\n",
    "        x_train = df_train.drop(columns=[\"Condition\", \"Experiment\", \"Disease\"])\n",
    "        y_train = df_train[dep_var].values\n",
    "        x_test = df_test.drop(columns=[\"Condition\", \"Experiment\", \"Disease\"])\n",
    "        y_test = df_test[dep_var].values\n",
    "    else:\n",
    "        raise NotImplementedError()\n",
    "        x_train, x_test, y_train, y_test = train_test_split(X, y, test_size=0.20, random_state=15, stratify=y)\n",
    "\n",
    "    model = xgboost.XGBClassifier().fit(x_train, y_train)\n",
    "    y_pred = model.predict(x_test)\n",
    "    acc = accuracy_score(y_test, y_pred)\n",
    "\n",
    "    confusion_mat = confusion_matrix(y_test,y_pred)\n",
    "\n",
    "    print(\"Accuracy is\",acc)\n",
    "    print(\"Confusion Matrix\")\n",
    "    print(confusion_mat)"
   ]
  },
  {
   "cell_type": "markdown",
   "metadata": {},
   "source": [
    "# Predict"
   ]
  },
  {
   "cell_type": "code",
   "execution_count": 104,
   "metadata": {},
   "outputs": [
    {
     "name": "stdout",
     "output_type": "stream",
     "text": [
      "Accuracy is 0.6076388888888888\n",
      "Confusion Matrix\n",
      "[[177 207]\n",
      " [ 19 173]]\n"
     ]
    }
   ],
   "source": [
    "model = xgboost.XGBClassifier().fit(x_train, y_train)\n",
    "y_pred = model.predict(x_test)\n",
    "acc = accuracy_score(y_test, y_pred)\n",
    "\n",
    "confusion_mat = confusion_matrix(y_test,y_pred)\n",
    "\n",
    "print(\"Accuracy is\",acc)\n",
    "print(\"Confusion Matrix\")\n",
    "print(confusion_mat)"
   ]
  },
  {
   "cell_type": "code",
   "execution_count": 105,
   "metadata": {},
   "outputs": [],
   "source": [
    "# explain the model's predictions using SHAP\n",
    "# (same syntax works for LightGBM, CatBoost, scikit-learn, transformers, Spark, etc.)\n",
    "explainer = shap.Explainer(model)\n",
    "shap_values = explainer(x_test)\n"
   ]
  },
  {
   "cell_type": "code",
   "execution_count": 106,
   "metadata": {},
   "outputs": [
    {
     "name": "stdout",
     "output_type": "stream",
     "text": [
      "values: (576, 1536), base_values: (576,), data: (576, 1536)\n"
     ]
    }
   ],
   "source": [
    "print(f\"values: {shap_values.values.shape}, base_values: {shap_values.base_values.shape}, data: {shap_values.data.shape}\")\n",
    "# data is just data\n",
    "# base_values is the expected value of the model (one for each class - prior distribution?\n",
    "# values is the shapley values for each feature nxdxk where each entry is contribution of that sample's feature to that class"
   ]
  },
  {
   "cell_type": "code",
   "execution_count": null,
   "metadata": {},
   "outputs": [],
   "source": [
    "# # visualize the first prediction's explanation\n",
    "shap.plots.waterfall(shap_values[0,:,0])\n",
    "print(shap_values.values[0,5*256+60,0])\n",
    "print(shap_values.data[0,5*256+60])\n",
    "print(shap_values.base_values[0,0])\n",
    "print(np.sum(shap_values.values[0,:,0])+shap_values.base_values[0,0])"
   ]
  },
  {
   "cell_type": "code",
   "execution_count": null,
   "metadata": {},
   "outputs": [],
   "source": [
    "for condition in range(5):\n",
    "    channel_sums = np.zeros((shap_values.shape[0], len(channels)))\n",
    "\n",
    "    for sample in range(shap_values.shape[0]):\n",
    "        for channel in range(len(channels)):\n",
    "            channel_sums[sample, channel] = np.abs(np.sum(shap_values.values[sample,channel*256:(channel+1)*256,condition]))\n",
    "\n",
    "    df = pd.DataFrame(channel_sums, columns=channels)\n",
    "\n",
    "    sns.stripplot(df)\n",
    "    plt.title(f\"{cond_to_cond[condition+1]}\")\n",
    "    plt.show()"
   ]
  },
  {
   "cell_type": "code",
   "execution_count": 107,
   "metadata": {},
   "outputs": [
    {
     "data": {
      "image/png": "[encoded data removed]",
      "text/plain": [
       "<Figure size 640x480 with 1 Axes>"
      ]
     },
     "metadata": {},
     "output_type": "display_data"
    }
   ],
   "source": [
    "channel_sums = np.zeros((shap_values.shape[0], len(channels)))\n",
    "\n",
    "for sample in range(shap_values.shape[0]):\n",
    "    for channel in range(len(channels)):\n",
    "        channel_sums[sample, channel] = np.abs(np.sum(shap_values.values[sample,channel*256:(channel+1)*256]))\n",
    "\n",
    "df = pd.DataFrame(channel_sums, columns=channels)\n",
    "\n",
    "sns.stripplot(df)\n",
    "plt.title(f\"ALS Prediction\")\n",
    "plt.show()"
   ]
  },
  {
   "cell_type": "code",
   "execution_count": null,
   "metadata": {},
   "outputs": [],
   "source": []
  }
 ],
 "metadata": {
  "kernelspec": {
   "display_name": ".venv",
   "language": "python",
   "name": "python3"
  },
  "language_info": {
   "codemirror_mode": {
    "name": "ipython",
    "version": 3
   },
   "file_extension": ".py",
   "mimetype": "text/x-python",
   "name": "python",
   "nbconvert_exporter": "python",
   "pygments_lexer": "ipython3",
   "version": "3.9.5"
  }
 },
 "nbformat": 4,
 "nbformat_minor": 2
}
