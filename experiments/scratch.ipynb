{
 "cells": [
  {
   "cell_type": "markdown",
   "metadata": {},
   "source": [
    "# mus musculus"
   ]
  },
  {
   "cell_type": "code",
   "execution_count": 18,
   "metadata": {},
   "outputs": [
    {
     "name": "stdout",
     "output_type": "stream",
     "text": [
      "128 32\n",
      "11520.0 6144\n",
      "1.875\n",
      "0\n",
      "32\n",
      "64\n",
      "96\n"
     ]
    }
   ],
   "source": [
    "im_size = 1024 // 8\n",
    "num_tiles = 4\n",
    "\n",
    "tile_size = im_size//num_tiles\n",
    "\n",
    "num_samples = (im_size/tile_size)**2*180*4\n",
    "d = tile_size**2*6\n",
    "print(im_size, tile_size)\n",
    "print(num_samples, d)\n",
    "print(num_samples/d)\n",
    "for i in range(0,im_size,tile_size):\n",
    "    print(i)"
   ]
  },
  {
   "cell_type": "code",
   "execution_count": 9,
   "metadata": {},
   "outputs": [],
   "source": [
    "from skimage import io\n",
    "import napari\n",
    "import numpy as np"
   ]
  },
  {
   "cell_type": "code",
   "execution_count": 13,
   "metadata": {},
   "outputs": [
    {
     "data": {
      "text/plain": [
       "<Labels layer 'seg' at 0x1820130d0>"
      ]
     },
     "execution_count": 13,
     "metadata": {},
     "output_type": "execute_result"
    }
   ],
   "source": [
    "im_phall = io.imread(\"/Users/thomasathey/Documents/shavit-lab/fraenkel/data/mus_musculus/MP6843_img_full/F01_120w1.TIF\")\n",
    "im_dapi = io.imread(\"/Users/thomasathey/Documents/shavit-lab/fraenkel/data/mus_musculus/MP6843_img_full/F01_120w2.TIF\")\n",
    "im_rgb = np.stack([np.zeros_like(im_dapi), im_phall, np.zeros_like(im_dapi)], axis=-1)\n",
    "seg = io.imread(\"/Users/thomasathey/Documents/shavit-lab/fraenkel/data/mus_musculus/MP6843_seg/F01_120_GT_01.tif\")\n",
    "seg = np.amax(seg, axis=-1)\n",
    "\n",
    "viewer = napari.Viewer()\n",
    "viewer.add_image(im_rgb, scale=[0.31,0.31])\n",
    "viewer.add_labels(seg, scale=[0.62,0.62])"
   ]
  },
  {
   "cell_type": "code",
   "execution_count": 6,
   "metadata": {},
   "outputs": [
    {
     "data": {
      "text/plain": [
       "(520, 696, 3)"
      ]
     },
     "execution_count": 6,
     "metadata": {},
     "output_type": "execute_result"
    }
   ],
   "source": [
    "seg.shape"
   ]
  },
  {
   "cell_type": "code",
   "execution_count": 7,
   "metadata": {},
   "outputs": [
    {
     "data": {
      "text/plain": [
       "(1040, 1392)"
      ]
     },
     "execution_count": 7,
     "metadata": {},
     "output_type": "execute_result"
    }
   ],
   "source": [
    "im.shape"
   ]
  },
  {
   "cell_type": "markdown",
   "metadata": {},
   "source": [
    "# format ims"
   ]
  },
  {
   "cell_type": "code",
   "execution_count": 20,
   "metadata": {},
   "outputs": [],
   "source": [
    "from pathlib import Path\n",
    "import numpy as np\n",
    "from skimage import io"
   ]
  },
  {
   "cell_type": "code",
   "execution_count": 36,
   "metadata": {},
   "outputs": [],
   "source": [
    "def name_to_info_e1(name):\n",
    "    c = name[-1]\n",
    "    s = int(name[-5:-2])\n",
    "    f = (s-1) % 3 + 1\n",
    "\n",
    "    if s < 31:\n",
    "        row = 'B'\n",
    "    elif s < 61:\n",
    "        row = 'C'\n",
    "    elif s < 91:\n",
    "        row = 'D'\n",
    "    elif s < 118:\n",
    "        row = 'E'\n",
    "    elif s < 145:\n",
    "        row = 'F'\n",
    "    else:\n",
    "        row = 'G'\n",
    "\n",
    "    if s < 118:\n",
    "        if s >= 61 and s < 118:\n",
    "            s -= 60\n",
    "        ladder = list(np.arange(2, 12, 1)) + list(np.arange(11, 1, -1))\n",
    "        idx = (s - 1) // 3\n",
    "        col = ladder[idx]\n",
    "    else:\n",
    "        s -= 117\n",
    "        ladder = list(np.arange(3, 12, 1)) + list(np.arange(11, 2, -1))\n",
    "        idx = (s - 1) // 3\n",
    "        col = ladder[idx]\n",
    "\n",
    "    return row, col, f, c\n",
    "\n",
    "def name_to_info_e1b(name):\n",
    "    c = name[-1]\n",
    "    s = int(name[-3])\n",
    "    f = (s-1) % 3 + 1\n",
    "\n",
    "    if s < 4:\n",
    "        row = 'E'\n",
    "    elif s < 7:\n",
    "        row = 'F'\n",
    "    else:\n",
    "        row = 'G'\n",
    "\n",
    "    col = 2\n",
    "\n",
    "    return row, col, f, c\n",
    "\n",
    "def name_to_info_e2(name):\n",
    "    c = name[-1]\n",
    "    s = int(name[-5:-2])\n",
    "    f = (s-1) % 3 + 1\n",
    "\n",
    "    if s < 31:\n",
    "        row = 'B'\n",
    "    elif s < 61:\n",
    "        row = 'C'\n",
    "    elif s < 91:\n",
    "        row = 'D'\n",
    "    elif s < 121:\n",
    "        row = 'E'\n",
    "    elif s < 151:\n",
    "        row = 'F'\n",
    "    else:\n",
    "        row = 'G'\n",
    "\n",
    "    unit = s - ((s - 1) // 60) * 60\n",
    "    ladder = list(np.arange(2, 12, 1)) + list(np.arange(11, 1, -1))\n",
    "    idx = (unit - 1) // 3\n",
    "    col = ladder[idx]\n",
    "\n",
    "    return row, col, f, c\n"
   ]
  },
  {
   "cell_type": "code",
   "execution_count": 43,
   "metadata": {},
   "outputs": [
    {
     "name": "stderr",
     "output_type": "stream",
     "text": [
      "/var/folders/gy/jk_d3cx54vj18w9sm6x3sg_80000gn/T/ipykernel_58728/1671311751.py:18: UserWarning: /Users/thomasathey/Documents/shavit-lab/fraenkel/papers/cvpr/data/all/processed/e3_wF9_f2_c4.tif is a low contrast image\n",
      "  io.imsave(out_dir / fname, im)\n"
     ]
    }
   ],
   "source": [
    "dir = Path(\"/Users/thomasathey/Documents/shavit-lab/fraenkel/papers/cvpr/data/all/tifs/Experiment3_DB_AD_unmixed_zprojection\")\n",
    "out_dir = Path(\"/Users/thomasathey/Documents/shavit-lab/fraenkel/papers/cvpr/data/all/processed\")\n",
    "\n",
    "# list all tif files in dir\n",
    "tifs = list(dir.glob(\"*.tif\"))\n",
    "\n",
    "\n",
    "e = '3'\n",
    "\n",
    "for tif in tifs:\n",
    "    row, col, f, c = name_to_info_e2(tif.stem)\n",
    "\n",
    "    im = io.imread(tif)\n",
    "    im = np.amax(im, axis=-1)\n",
    "\n",
    "    fname = f\"e{e}_w{row}{col}_f{f}_c{c}.tif\"\n",
    "\n",
    "    io.imsave(out_dir / fname, im)\n"
   ]
  },
  {
   "cell_type": "code",
   "execution_count": 22,
   "metadata": {},
   "outputs": [],
   "source": [
    "import numpy as np \n",
    "from skimage import io\n",
    "im = np.load(\"/Users/thomasathey/Documents/shavit-lab/fraenkel/papers/cvpr/data/all/als_v_control_2/train/e1_wB2_f1.npy\") \n",
    "\n",
    "im = np.moveaxis(im, [0,1,2], [2,0,1])\n",
    "im.shape\n",
    "\n",
    "io.imsave(\"/Users/thomasathey/Documents/shavit-lab/fraenkel/papers/cvpr/data/all/als_v_control_2/test.tif\", im)"
   ]
  },
  {
   "cell_type": "code",
   "execution_count": 38,
   "metadata": {},
   "outputs": [
    {
     "name": "stdout",
     "output_type": "stream",
     "text": [
      "720\n"
     ]
    },
    {
     "name": "stderr",
     "output_type": "stream",
     "text": [
      "/var/folders/gy/jk_d3cx54vj18w9sm6x3sg_80000gn/T/ipykernel_87605/3632694419.py:18: UserWarning: /Users/thomasathey/Documents/shavit-lab/fraenkel/papers/cvpr/data/all/tifs_3channel/e4_wD6_f2.tif is a low contrast image\n",
      "  io.imsave(out_path, im)\n",
      "/var/folders/gy/jk_d3cx54vj18w9sm6x3sg_80000gn/T/ipykernel_87605/3632694419.py:18: UserWarning: /Users/thomasathey/Documents/shavit-lab/fraenkel/papers/cvpr/data/all/tifs_3channel/e1_wG4_f1.tif is a low contrast image\n",
      "  io.imsave(out_path, im)\n",
      "/var/folders/gy/jk_d3cx54vj18w9sm6x3sg_80000gn/T/ipykernel_87605/3632694419.py:18: UserWarning: /Users/thomasathey/Documents/shavit-lab/fraenkel/papers/cvpr/data/all/tifs_3channel/e1_wC6_f3.tif is a low contrast image\n",
      "  io.imsave(out_path, im)\n",
      "/var/folders/gy/jk_d3cx54vj18w9sm6x3sg_80000gn/T/ipykernel_87605/3632694419.py:18: UserWarning: /Users/thomasathey/Documents/shavit-lab/fraenkel/papers/cvpr/data/all/tifs_3channel/e1_wB11_f1.tif is a low contrast image\n",
      "  io.imsave(out_path, im)\n",
      "/var/folders/gy/jk_d3cx54vj18w9sm6x3sg_80000gn/T/ipykernel_87605/3632694419.py:18: UserWarning: /Users/thomasathey/Documents/shavit-lab/fraenkel/papers/cvpr/data/all/tifs_3channel/e1_wE7_f2.tif is a low contrast image\n",
      "  io.imsave(out_path, im)\n",
      "/var/folders/gy/jk_d3cx54vj18w9sm6x3sg_80000gn/T/ipykernel_87605/3632694419.py:18: UserWarning: /Users/thomasathey/Documents/shavit-lab/fraenkel/papers/cvpr/data/all/tifs_3channel/e1_wC6_f1.tif is a low contrast image\n",
      "  io.imsave(out_path, im)\n",
      "/var/folders/gy/jk_d3cx54vj18w9sm6x3sg_80000gn/T/ipykernel_87605/3632694419.py:18: UserWarning: /Users/thomasathey/Documents/shavit-lab/fraenkel/papers/cvpr/data/all/tifs_3channel/e1_wD5_f2.tif is a low contrast image\n",
      "  io.imsave(out_path, im)\n",
      "/var/folders/gy/jk_d3cx54vj18w9sm6x3sg_80000gn/T/ipykernel_87605/3632694419.py:18: UserWarning: /Users/thomasathey/Documents/shavit-lab/fraenkel/papers/cvpr/data/all/tifs_3channel/e1_wB9_f1.tif is a low contrast image\n",
      "  io.imsave(out_path, im)\n",
      "/var/folders/gy/jk_d3cx54vj18w9sm6x3sg_80000gn/T/ipykernel_87605/3632694419.py:18: UserWarning: /Users/thomasathey/Documents/shavit-lab/fraenkel/papers/cvpr/data/all/tifs_3channel/e1_wB10_f1.tif is a low contrast image\n",
      "  io.imsave(out_path, im)\n",
      "/var/folders/gy/jk_d3cx54vj18w9sm6x3sg_80000gn/T/ipykernel_87605/3632694419.py:18: UserWarning: /Users/thomasathey/Documents/shavit-lab/fraenkel/papers/cvpr/data/all/tifs_3channel/e1_wD11_f1.tif is a low contrast image\n",
      "  io.imsave(out_path, im)\n",
      "/var/folders/gy/jk_d3cx54vj18w9sm6x3sg_80000gn/T/ipykernel_87605/3632694419.py:18: UserWarning: /Users/thomasathey/Documents/shavit-lab/fraenkel/papers/cvpr/data/all/tifs_3channel/e1_wD9_f2.tif is a low contrast image\n",
      "  io.imsave(out_path, im)\n",
      "/var/folders/gy/jk_d3cx54vj18w9sm6x3sg_80000gn/T/ipykernel_87605/3632694419.py:18: UserWarning: /Users/thomasathey/Documents/shavit-lab/fraenkel/papers/cvpr/data/all/tifs_3channel/e1_wG3_f1.tif is a low contrast image\n",
      "  io.imsave(out_path, im)\n",
      "/var/folders/gy/jk_d3cx54vj18w9sm6x3sg_80000gn/T/ipykernel_87605/3632694419.py:18: UserWarning: /Users/thomasathey/Documents/shavit-lab/fraenkel/papers/cvpr/data/all/tifs_3channel/e1_wE4_f1.tif is a low contrast image\n",
      "  io.imsave(out_path, im)\n",
      "/var/folders/gy/jk_d3cx54vj18w9sm6x3sg_80000gn/T/ipykernel_87605/3632694419.py:18: UserWarning: /Users/thomasathey/Documents/shavit-lab/fraenkel/papers/cvpr/data/all/tifs_3channel/e4_wD5_f1.tif is a low contrast image\n",
      "  io.imsave(out_path, im)\n",
      "/var/folders/gy/jk_d3cx54vj18w9sm6x3sg_80000gn/T/ipykernel_87605/3632694419.py:18: UserWarning: /Users/thomasathey/Documents/shavit-lab/fraenkel/papers/cvpr/data/all/tifs_3channel/e1_wC9_f1.tif is a low contrast image\n",
      "  io.imsave(out_path, im)\n",
      "/var/folders/gy/jk_d3cx54vj18w9sm6x3sg_80000gn/T/ipykernel_87605/3632694419.py:18: UserWarning: /Users/thomasathey/Documents/shavit-lab/fraenkel/papers/cvpr/data/all/tifs_3channel/e2_wF4_f1.tif is a low contrast image\n",
      "  io.imsave(out_path, im)\n",
      "/var/folders/gy/jk_d3cx54vj18w9sm6x3sg_80000gn/T/ipykernel_87605/3632694419.py:18: UserWarning: /Users/thomasathey/Documents/shavit-lab/fraenkel/papers/cvpr/data/all/tifs_3channel/e1_wD5_f1.tif is a low contrast image\n",
      "  io.imsave(out_path, im)\n",
      "/var/folders/gy/jk_d3cx54vj18w9sm6x3sg_80000gn/T/ipykernel_87605/3632694419.py:18: UserWarning: /Users/thomasathey/Documents/shavit-lab/fraenkel/papers/cvpr/data/all/tifs_3channel/e1_wB11_f2.tif is a low contrast image\n",
      "  io.imsave(out_path, im)\n",
      "/var/folders/gy/jk_d3cx54vj18w9sm6x3sg_80000gn/T/ipykernel_87605/3632694419.py:18: UserWarning: /Users/thomasathey/Documents/shavit-lab/fraenkel/papers/cvpr/data/all/tifs_3channel/e1_wF11_f1.tif is a low contrast image\n",
      "  io.imsave(out_path, im)\n",
      "/var/folders/gy/jk_d3cx54vj18w9sm6x3sg_80000gn/T/ipykernel_87605/3632694419.py:18: UserWarning: /Users/thomasathey/Documents/shavit-lab/fraenkel/papers/cvpr/data/all/tifs_3channel/e1_wC6_f2.tif is a low contrast image\n",
      "  io.imsave(out_path, im)\n",
      "/var/folders/gy/jk_d3cx54vj18w9sm6x3sg_80000gn/T/ipykernel_87605/3632694419.py:18: UserWarning: /Users/thomasathey/Documents/shavit-lab/fraenkel/papers/cvpr/data/all/tifs_3channel/e1_wE7_f1.tif is a low contrast image\n",
      "  io.imsave(out_path, im)\n",
      "/var/folders/gy/jk_d3cx54vj18w9sm6x3sg_80000gn/T/ipykernel_87605/3632694419.py:18: UserWarning: /Users/thomasathey/Documents/shavit-lab/fraenkel/papers/cvpr/data/all/tifs_3channel/e1_wF4_f1.tif is a low contrast image\n",
      "  io.imsave(out_path, im)\n",
      "/var/folders/gy/jk_d3cx54vj18w9sm6x3sg_80000gn/T/ipykernel_87605/3632694419.py:18: UserWarning: /Users/thomasathey/Documents/shavit-lab/fraenkel/papers/cvpr/data/all/tifs_3channel/e1_wG6_f1.tif is a low contrast image\n",
      "  io.imsave(out_path, im)\n",
      "/var/folders/gy/jk_d3cx54vj18w9sm6x3sg_80000gn/T/ipykernel_87605/3632694419.py:18: UserWarning: /Users/thomasathey/Documents/shavit-lab/fraenkel/papers/cvpr/data/all/tifs_3channel/e4_wC10_f1.tif is a low contrast image\n",
      "  io.imsave(out_path, im)\n",
      "/var/folders/gy/jk_d3cx54vj18w9sm6x3sg_80000gn/T/ipykernel_87605/3632694419.py:18: UserWarning: /Users/thomasathey/Documents/shavit-lab/fraenkel/papers/cvpr/data/all/tifs_3channel/e1_wD9_f1.tif is a low contrast image\n",
      "  io.imsave(out_path, im)\n",
      "/var/folders/gy/jk_d3cx54vj18w9sm6x3sg_80000gn/T/ipykernel_87605/3632694419.py:18: UserWarning: /Users/thomasathey/Documents/shavit-lab/fraenkel/papers/cvpr/data/all/tifs_3channel/e1_wD4_f1.tif is a low contrast image\n",
      "  io.imsave(out_path, im)\n",
      "/var/folders/gy/jk_d3cx54vj18w9sm6x3sg_80000gn/T/ipykernel_87605/3632694419.py:18: UserWarning: /Users/thomasathey/Documents/shavit-lab/fraenkel/papers/cvpr/data/all/tifs_3channel/e1_wE6_f1.tif is a low contrast image\n",
      "  io.imsave(out_path, im)\n",
      "/var/folders/gy/jk_d3cx54vj18w9sm6x3sg_80000gn/T/ipykernel_87605/3632694419.py:18: UserWarning: /Users/thomasathey/Documents/shavit-lab/fraenkel/papers/cvpr/data/all/tifs_3channel/e1_wF10_f1.tif is a low contrast image\n",
      "  io.imsave(out_path, im)\n",
      "/var/folders/gy/jk_d3cx54vj18w9sm6x3sg_80000gn/T/ipykernel_87605/3632694419.py:18: UserWarning: /Users/thomasathey/Documents/shavit-lab/fraenkel/papers/cvpr/data/all/tifs_3channel/e1_wF5_f1.tif is a low contrast image\n",
      "  io.imsave(out_path, im)\n"
     ]
    }
   ],
   "source": [
    "from cell_paint_seg.utils import get_id_to_path\n",
    "from pathlib import Path\n",
    "\n",
    "def name_to_id(name):\n",
    "    id = \"_\".join(name.split(\"_\")[:3])\n",
    "    return id\n",
    "\n",
    "out_dir = Path(\"/Users/thomasathey/Documents/shavit-lab/fraenkel/papers/cvpr/data/all/tifs_3channel\")\n",
    "\n",
    "id_to_path = get_id_to_path(\"/Users/thomasathey/Documents/shavit-lab/fraenkel/papers/cvpr/data/all/processed\", id_from_name=name_to_id, tag=\".tif\")\n",
    "\n",
    "print(len(list(id_to_path.keys())))\n",
    "for id, paths in id_to_path.items():\n",
    "    out_path = out_dir / f\"{id}.tif\"\n",
    "    ims = [io.imread(p) for p in paths]\n",
    "    ims = [ims[3], ims[4], ims[1]]\n",
    "    im = np.stack(ims, axis=-1)\n",
    "    io.imsave(out_path, im) \n",
    "\n"
   ]
  },
  {
   "cell_type": "code",
   "execution_count": 34,
   "metadata": {},
   "outputs": [
    {
     "data": {
      "text/plain": [
       "720.0"
      ]
     },
     "execution_count": 34,
     "metadata": {},
     "output_type": "execute_result"
    }
   ],
   "source": [
    "4320/6"
   ]
  },
  {
   "cell_type": "code",
   "execution_count": 41,
   "metadata": {},
   "outputs": [
    {
     "data": {
      "text/plain": [
       "array([  0,   1,   2,   3,   4,   5,   6,   7,   8,   9,  10,  11,  12,\n",
       "        13,  14,  15,  16,  17,  18,  19,  20,  21,  22,  23,  24,  25,\n",
       "        26,  27,  28,  29,  30,  31,  32,  33,  34,  35,  36,  37,  38,\n",
       "        39,  40,  41,  42,  43,  44,  45,  46,  47,  48,  49,  50,  51,\n",
       "        52,  53,  54,  55,  56,  57,  58,  59,  60,  61,  62,  63,  64,\n",
       "        65,  66,  67,  68,  69,  70,  71,  72,  73,  74,  75,  76,  77,\n",
       "        78,  79,  80,  81,  82,  83,  84,  85,  86,  87,  88,  89,  90,\n",
       "        91,  92,  93,  94,  95,  96,  97,  98,  99, 100, 101, 102, 103,\n",
       "       104, 105, 106, 107, 108, 109, 110, 111, 112, 113, 114, 115, 116,\n",
       "       117, 118, 119, 120, 121, 122, 123, 124, 125, 126, 127, 128, 129,\n",
       "       130, 131, 132, 133, 134, 135, 136, 137, 138, 139, 140, 141, 142,\n",
       "       143, 144, 145, 146, 147, 148, 149, 150, 151, 152, 153, 154, 155,\n",
       "       156, 157, 158, 159, 160, 161, 162, 163, 164, 165, 166, 167, 168,\n",
       "       169, 170, 171, 172, 173, 174, 175, 176, 177, 178, 179, 180, 181,\n",
       "       182, 183, 184, 185, 186, 187, 188, 189, 190, 191, 192, 193, 194,\n",
       "       195, 196, 197, 198, 199, 200, 201, 202, 203, 204, 205, 206, 207,\n",
       "       208, 209, 210, 211, 212, 213, 214, 215, 216, 217, 218, 219, 220,\n",
       "       221, 222, 223, 224, 225, 226, 227, 228, 229, 230, 231, 232, 233,\n",
       "       234, 235, 236, 237, 238, 239, 240, 241, 242, 243, 244, 245, 246,\n",
       "       247, 248, 249, 250, 251, 252, 253, 254, 255, 256, 257, 258, 259,\n",
       "       260, 261, 262, 263, 264, 265, 266, 267, 268, 269, 270, 271, 272,\n",
       "       273, 274, 275, 276, 277, 278, 279, 280, 281, 282, 283, 284, 285,\n",
       "       286, 287, 288, 289, 290, 291, 292, 293, 294, 295, 296, 297, 298,\n",
       "       299, 300, 301, 302, 303, 304, 305, 306, 307, 308, 309, 310, 311,\n",
       "       312, 313, 314, 315, 316, 317, 318, 319, 320, 321, 322, 323, 324,\n",
       "       325, 326, 327, 328, 329, 330, 331, 332, 333, 334, 335, 336, 337,\n",
       "       338, 339, 340, 341, 342, 343, 344, 345, 346, 347, 348, 349, 350,\n",
       "       351, 352, 353, 354, 355, 356, 357, 358, 359, 360, 361, 362, 363,\n",
       "       364, 365, 366, 367, 368, 369, 370, 371, 372, 373, 374, 375, 376,\n",
       "       377, 378, 379, 380, 381, 382, 383, 384, 385, 386, 387, 388, 389,\n",
       "       390, 391, 392, 393, 394, 395, 396, 397, 398, 399, 400, 401, 402,\n",
       "       403, 404, 405, 406, 407, 408, 409, 410, 411, 412, 413, 414, 415,\n",
       "       416, 417, 418, 419, 420, 421, 422, 423, 424, 425, 426, 427, 428,\n",
       "       429, 430, 431, 432, 433, 434, 435, 436, 437, 438, 439, 440, 441,\n",
       "       442, 443, 444, 445, 446, 447, 448, 449, 450, 451, 452, 453, 454,\n",
       "       455, 456, 457, 458, 459, 460, 461, 462, 463, 464, 465, 466, 467,\n",
       "       468, 469, 470, 471, 472, 473, 474, 475, 476, 477, 478, 479, 480,\n",
       "       481, 482, 483, 484, 485, 486, 487, 488, 489, 490, 491, 492, 493,\n",
       "       494, 495, 496, 497, 498, 499, 500, 501, 502, 503, 504, 505, 506,\n",
       "       507, 508, 509, 510, 511, 512, 513, 514, 515, 516, 517, 518, 519,\n",
       "       520, 521, 522, 523, 524, 525, 526, 527, 528, 529, 530, 531, 532,\n",
       "       533, 534, 535, 536, 537, 538, 539, 540, 541, 542, 543, 544, 545,\n",
       "       546, 547, 548, 549, 550, 551, 552, 553, 554, 555, 556, 557, 558,\n",
       "       559, 560, 561, 562, 563, 564, 565, 566, 567, 568, 569, 570, 571,\n",
       "       572, 573, 574, 575, 576, 577, 578, 579, 580, 581, 582, 583, 584,\n",
       "       585, 586, 587, 588, 589, 590, 591, 592, 593, 594, 595, 596, 597,\n",
       "       598, 599, 600, 601, 602, 603, 604, 605, 606, 607, 608, 609, 610,\n",
       "       611, 612, 613, 614, 615, 616, 617], dtype=int32)"
      ]
     },
     "execution_count": 41,
     "metadata": {},
     "output_type": "execute_result"
    }
   ],
   "source": [
    "from PIL import Image \n",
    "\n",
    "im = np.array(Image.open(\"/Users/thomasathey/Documents/shavit-lab/fraenkel/papers/cvpr/data/all/tifs_3channel/e1_wB5_f1_cp_masks.png\"))\n",
    "np.unique(im)"
   ]
  },
  {
   "cell_type": "code",
   "execution_count": null,
   "metadata": {},
   "outputs": [
    {
     "name": "stdout",
     "output_type": "stream",
     "text": [
      "0.13803680981594368 2.6960314417177907e-06\n"
     ]
    },
    {
     "data": {
      "image/png": "[encoded data removed]",
      "text/plain": [
       "<Figure size 640x480 with 1 Axes>"
      ]
     },
     "metadata": {},
     "output_type": "display_data"
    }
   ],
   "source": [
    "data = {\"pixels\": [2048*1768, 3072*2048], \"peak mem\": [9.9, 17.1]}\n",
    "import pandas as pd\n",
    "import scipy\n",
    "df = pd.DataFrame(data)\n",
    "import seaborn as sns\n",
    "import matplotlib.pyplot as plt\n",
    "p = sns.regplot(x=\"pixels\", y=\"peak mem\", data=df)\n",
    "\n",
    "#calculate slope and intercept of regression equation\n",
    "slope, intercept, r, p, sterr = scipy.stats.linregress(x=p.get_lines()[0].get_xdata(),\n",
    "                                                       y=p.get_lines()[0].get_ydata())\n",
    "\n",
    "#display slope and intercept of regression equation\n",
    "intercept + slope*(4096*3536)"
   ]
  },
  {
   "cell_type": "code",
   "execution_count": 46,
   "metadata": {},
   "outputs": [
    {
     "data": {
      "text/plain": [
       "39.18588957055213"
      ]
     },
     "execution_count": 46,
     "metadata": {},
     "output_type": "execute_result"
    }
   ],
   "source": [
    "intercept + slope*(4096*3536)"
   ]
  },
  {
   "cell_type": "code",
   "execution_count": null,
   "metadata": {},
   "outputs": [],
   "source": []
  }
 ],
 "metadata": {
  "kernelspec": {
   "display_name": ".venv",
   "language": "python",
   "name": "python3"
  },
  "language_info": {
   "codemirror_mode": {
    "name": "ipython",
    "version": 3
   },
   "file_extension": ".py",
   "mimetype": "text/x-python",
   "name": "python",
   "nbconvert_exporter": "python",
   "pygments_lexer": "ipython3",
   "version": "3.9.5"
  }
 },
 "nbformat": 4,
 "nbformat_minor": 2
}
