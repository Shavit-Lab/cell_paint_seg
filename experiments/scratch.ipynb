{
 "cells": [
  {
   "cell_type": "code",
   "execution_count": 6,
   "metadata": {},
   "outputs": [],
   "source": [
    "import shutil \n",
    "from pathlib import Path \n",
    "import os\n",
    "from tqdm import tqdm"
   ]
  },
  {
   "cell_type": "code",
   "execution_count": 7,
   "metadata": {},
   "outputs": [],
   "source": [
    "in_dir = Path(\"D:\\Aneesh\\Assay Dev 20230329\\BR00142688__2024-03-29T19_57_13-Measurement 1\\segmentations_v1\")\n",
    "out_dir = Path(\"D:\\Aneesh\\Assay Dev 20230329\\BR00142688__2024-03-29T19_57_13-Measurement 1\\segmentations\")"
   ]
  },
  {
   "cell_type": "code",
   "execution_count": 8,
   "metadata": {},
   "outputs": [],
   "source": [
    "files = os.listdir(in_dir)\n",
    "files = [f for f in files if \"ch8\" in f]\n"
   ]
  },
  {
   "cell_type": "code",
   "execution_count": 9,
   "metadata": {},
   "outputs": [
    {
     "name": "stderr",
     "output_type": "stream",
     "text": [
      "100%|██████████| 3456/3456 [04:11<00:00, 13.76it/s]\n"
     ]
    }
   ],
   "source": [
    "for f in tqdm(files):\n",
    "    infile = in_dir / f \n",
    "    outfile = out_dir / f \n",
    "    shutil.copy(infile, outfile)"
   ]
  },
  {
   "cell_type": "code",
   "execution_count": null,
   "metadata": {},
   "outputs": [],
   "source": []
  }
 ],
 "metadata": {
  "kernelspec": {
   "display_name": "venv_als_395",
   "language": "python",
   "name": "python3"
  },
  "language_info": {
   "codemirror_mode": {
    "name": "ipython",
    "version": 3
   },
   "file_extension": ".py",
   "mimetype": "text/x-python",
   "name": "python",
   "nbconvert_exporter": "python",
   "pygments_lexer": "ipython3",
   "version": "3.9.5"
  }
 },
 "nbformat": 4,
 "nbformat_minor": 2
}
