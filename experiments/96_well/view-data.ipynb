{
 "cells": [
  {
   "cell_type": "code",
   "execution_count": 3,
   "metadata": {},
   "outputs": [],
   "source": [
    "from cell_paint_seg.utils import (\n",
    "    get_id_to_path,\n",
    "    get_id_from_name_96,\n",
    "    check_valid_labels,\n",
    "    label_celltype,\n",
    ")\n",
    "from cell_paint_seg.image_io import read_ims, convert_to_hdf5\n",
    "\n",
    "from tqdm import tqdm\n",
    "from skimage import io, exposure, filters, measure, segmentation\n",
    "import matplotlib.pyplot as plt\n",
    "import numpy as np\n",
    "import napari\n",
    "import random\n",
    "import os\n",
    "from pathlib import Path\n",
    "import time"
   ]
  },
  {
   "cell_type": "code",
   "execution_count": 4,
   "metadata": {},
   "outputs": [],
   "source": [
    "channels = [\"ER\", \"DNA\", \"Mito\", \"Actin\", \"RNA\", \"Golgi/membrane\"]\n",
    "\n",
    "dir_all = \"/Users/thomasathey/Documents/shavit-lab/fraenkel/96_well/exp2/Experiment2_DB_Zprojection_unmixed\"\n",
    "dir_test = \"/Users/thomasathey/Documents/shavit-lab/fraenkel/96_well/exp2/test_set/tifs\"\n",
    "\n",
    "dir_test = (\n",
    "    \"/Users/thomasathey/Documents/shavit-lab/fraenkel/96_well/exp2/train_set/tifs\"\n",
    ")"
   ]
  },
  {
   "cell_type": "code",
   "execution_count": 5,
   "metadata": {},
   "outputs": [],
   "source": [
    "id_to_path = get_id_to_path(\n",
    "    path_dir=dir_all, tag=\".tif\", id_from_name=get_id_from_name_96\n",
    ")"
   ]
  },
  {
   "cell_type": "markdown",
   "metadata": {},
   "source": [
    "# Sample"
   ]
  },
  {
   "cell_type": "code",
   "execution_count": null,
   "metadata": {},
   "outputs": [],
   "source": [
    "# print(random.sample(list(id_to_path.keys()), 3))"
   ]
  },
  {
   "cell_type": "markdown",
   "metadata": {},
   "source": [
    "test: ['s158', 's160', 's039']\n",
    "\n",
    "train: ['s001', 's167', 's143']"
   ]
  },
  {
   "cell_type": "markdown",
   "metadata": {},
   "source": [
    "# Convert"
   ]
  },
  {
   "cell_type": "code",
   "execution_count": null,
   "metadata": {},
   "outputs": [],
   "source": [
    "order = [-1, 0, 3, 2, 1, 4]\n",
    "\n",
    "parent_dir = \"/Users/thomasathey/Documents/shavit-lab/fraenkel/96_well/exp2/train_set/\"\n",
    "\n",
    "\n",
    "parent_dir = Path(parent_dir)\n",
    "tif_path = parent_dir / \"tifs\"\n",
    "hdf5_path = parent_dir / \"hdf5s\"\n",
    "\n",
    "id_to_path = get_id_to_path(tif_path, tag=\".tif\", id_from_name=get_id_from_name_96)\n",
    "image_ids = list(id_to_path.keys())\n",
    "n_files = len(image_ids)\n",
    "n_channels = len(id_to_path[image_ids[0]])\n",
    "\n",
    "im_shape = convert_to_hdf5(id_to_path, hdf5_path, order=order, preprocess=True)"
   ]
  },
  {
   "cell_type": "markdown",
   "metadata": {},
   "source": [
    "# view"
   ]
  },
  {
   "cell_type": "code",
   "execution_count": 10,
   "metadata": {},
   "outputs": [],
   "source": [
    "sample = \"s167\"\n",
    "\n",
    "id_to_path = get_id_to_path(\n",
    "    path_dir=dir_test, tag=\".tif\", id_from_name=get_id_from_name_96\n",
    ")\n",
    "\n",
    "ims = read_ims(id_to_path[sample])\n",
    "\n",
    "ims = [im.astype(\"float64\") for im in ims]\n",
    "ims = [np.linalg.norm(im, axis=-1) for im in ims]\n",
    "ims = [im / np.amax(im) for im in ims]\n",
    "ims = [exposure.equalize_adapthist(im, clip_limit=0.03) for im in ims]\n",
    "\n",
    "im_rgb = np.stack([ims[2], ims[4], ims[1]], axis=2)"
   ]
  },
  {
   "cell_type": "code",
   "execution_count": null,
   "metadata": {},
   "outputs": [],
   "source": [
    "plt.imshow(im_rgb)\n",
    "plt.gcf().set_dpi(300)\n",
    "plt.xticks([])\n",
    "plt.yticks([])\n",
    "# plt.colorbar()\n",
    "plt.show()"
   ]
  },
  {
   "cell_type": "code",
   "execution_count": null,
   "metadata": {},
   "outputs": [],
   "source": []
  },
  {
   "cell_type": "markdown",
   "metadata": {},
   "source": [
    "# napari segmentation"
   ]
  },
  {
   "cell_type": "code",
   "execution_count": 7,
   "metadata": {},
   "outputs": [],
   "source": [
    "seg_path_nuc = f\"/Users/thomasathey/Documents/shavit-lab/fraenkel/96_well/exp2/test_set/seg_gt_v3/{sample}-nuclei.tif\"\n",
    "seg_path_somas = f\"/Users/thomasathey/Documents/shavit-lab/fraenkel/96_well/exp2/test_set/seg_gt_v3/{sample}-somas.tif\"\n",
    "seg_path_cells = f\"/Users/thomasathey/Documents/shavit-lab/fraenkel/96_well/exp2/test_set/seg_gt_v3/{sample}-cells.tif\""
   ]
  },
  {
   "cell_type": "code",
   "execution_count": null,
   "metadata": {},
   "outputs": [],
   "source": [
    "if os.path.exists(seg_path_nuc):\n",
    "    print(f\"nucleus file found: {seg_path_nuc}\")\n",
    "    seg_init_nuc = io.imread(seg_path_nuc)\n",
    "else:\n",
    "    threshold = filters.threshold_otsu(ims[1])\n",
    "    seg_init = ims[1] > threshold\n",
    "    seg_init = measure.label(seg_init)\n",
    "    regprops = measure.regionprops(seg_init)\n",
    "\n",
    "    areas = []\n",
    "    seg_init_nuc = np.zeros_like(seg_init)\n",
    "    counter = 1\n",
    "    for props in regprops:\n",
    "        if props[\"area\"] >= 64:\n",
    "            seg_init_nuc[seg_init == props[\"label\"]] = counter\n",
    "            counter += 1\n",
    "\n",
    "# soma\n",
    "if os.path.exists(seg_path_somas):\n",
    "    print(f\"soma file found: {seg_path_somas}\")\n",
    "    seg_init_soma = io.imread(seg_path_somas)\n",
    "else:\n",
    "    threshold = filters.threshold_otsu(ims[4])\n",
    "    seg_init = ims[4] > threshold  # RNA channel\n",
    "    seg_init = np.logical_or(seg_init, seg_init_nuc > 0)  # add nucleus\n",
    "    seg_init = measure.label(seg_init)\n",
    "    regprops = measure.regionprops(seg_init)\n",
    "\n",
    "    areas = []\n",
    "    mask_init = np.zeros_like(seg_init)\n",
    "    for props in regprops:\n",
    "        if props[\"area\"] >= 81:\n",
    "            mask_init[seg_init == props[\"label\"]] = 1\n",
    "\n",
    "    seg_init_soma = segmentation.watershed(\n",
    "        mask_init, markers=seg_init_nuc, mask=mask_init\n",
    "    )\n",
    "\n",
    "\n",
    "# soma\n",
    "if os.path.exists(seg_path_cells):\n",
    "    print(f\"cell file found: {seg_path_cells}\")\n",
    "    seg_init_cells = io.imread(seg_path_cells)\n",
    "else:\n",
    "    seg_init_cells = seg_init_soma"
   ]
  },
  {
   "cell_type": "code",
   "execution_count": null,
   "metadata": {},
   "outputs": [],
   "source": [
    "viewer = napari.Viewer()\n",
    "for im, c in zip(ims, channels):\n",
    "    viewer.add_image(im, name=c, scale=(0.6, 0.6))\n",
    "\n",
    "\n",
    "viewer.add_image(im_rgb, name=\"rgb\", rgb=True, scale=(0.6, 0.6))\n",
    "\n",
    "print(\n",
    "    f\"max nuc: {np.amax(seg_init_nuc)}, max soma: {np.amax(seg_init_soma)}, max cell: {np.amax(seg_init_cells)}\"\n",
    ")\n",
    "viewer.add_labels(seg_init_nuc, name=\"nuclei\", scale=(0.6, 0.6))\n",
    "viewer.add_labels(seg_init_soma, name=\"somas\", scale=(0.6, 0.6))\n",
    "viewer.add_labels(seg_init_cells, name=\"cells\", scale=(0.6, 0.6))\n",
    "\n",
    "viewer.scale_bar.visible = True\n",
    "viewer.scale_bar.unit = \"um\""
   ]
  },
  {
   "cell_type": "markdown",
   "metadata": {},
   "source": [
    "# Clean up labels"
   ]
  },
  {
   "cell_type": "code",
   "execution_count": null,
   "metadata": {},
   "outputs": [],
   "source": [
    "dir_seg = (\n",
    "    \"/Users/thomasathey/Documents/shavit-lab/fraenkel/96_well/exp2/test_set/seg_gt_v3/\"\n",
    ")\n",
    "\n",
    "id_to_path_seg = get_id_to_path(dir_seg, tag=\".tif\", id_from_name=get_id_from_name_96)\n",
    "\n",
    "for id, paths in id_to_path_seg.items():\n",
    "    for path in paths:\n",
    "        if \"nuclei\" in str(path):\n",
    "            seg_nuc = io.imread(path)\n",
    "        elif \"somas\" in str(path):\n",
    "            seg_soma = io.imread(path)\n",
    "        elif \"cells\" in str(path):\n",
    "            seg_cell = io.imread(path)\n",
    "\n",
    "    print(\"Separating components...\")\n",
    "    for comp, seg in zip([\"Nuc\", \"Soma\", \"Cell\"], [seg_nuc, seg_soma, seg_cell]):\n",
    "        new_label = np.amax(seg) + 1\n",
    "        for label in np.unique(seg):\n",
    "            # background\n",
    "            if label == 0:\n",
    "                continue\n",
    "\n",
    "            lbl = measure.label(seg == label)\n",
    "            if not np.amax(lbl) == 1:\n",
    "                regprops = measure.regionprops(lbl)\n",
    "                print(\n",
    "                    f\"{comp} {label} has {np.amax(lbl)} disconnected components - renaming {[np.multiply(props.centroid, 0.6) for props in regprops]}...\"\n",
    "                )\n",
    "                for props in regprops[1:]:\n",
    "                    mask = lbl == props[\"label\"]\n",
    "                    seg[mask] = new_label\n",
    "                    new_label += 1\n",
    "\n",
    "    print(\"Matching somas to nuclei...\")\n",
    "    soma_to_nuc = {}\n",
    "    for nuc_label in tqdm(np.unique(seg_nuc)):\n",
    "        if nuc_label == 0:\n",
    "            continue\n",
    "        found = False\n",
    "        for soma_label in np.unique(seg_soma):\n",
    "            if soma_label == 0:\n",
    "                continue\n",
    "            recall = np.sum((seg_nuc == nuc_label) & (seg_soma == soma_label)) / np.sum(\n",
    "                (seg_nuc == nuc_label)\n",
    "            )\n",
    "            if recall > 0.9:\n",
    "                assert soma_label not in soma_to_nuc.keys()\n",
    "                soma_to_nuc[soma_label] = nuc_label\n",
    "                found = True\n",
    "        if not found:\n",
    "            wher = np.where(seg_nuc == nuc_label)\n",
    "            print(\n",
    "                f\"nuc {nuc_label} not found in soma {(wher[0][0]*0.6, wher[1][0]*0.6)}\"\n",
    "            )\n",
    "\n",
    "    seg_soma_relabel = np.zeros_like(seg_soma)\n",
    "    for soma_label, nuc_label in soma_to_nuc.items():\n",
    "        seg_soma_relabel[seg_soma == soma_label] = nuc_label\n",
    "    seg_soma = seg_soma_relabel\n",
    "\n",
    "    print(\"Matching somas to cells...\")\n",
    "    cell_to_soma = {}\n",
    "    for soma_label in tqdm(np.unique(seg_soma)):\n",
    "        if soma_label == 0:\n",
    "            continue\n",
    "        found = False\n",
    "        for cell_label in np.unique(seg_cell):\n",
    "            if cell_label == 0:\n",
    "                continue\n",
    "            recall = np.sum(\n",
    "                (seg_soma == soma_label) & (seg_cell == cell_label)\n",
    "            ) / np.sum((seg_soma == soma_label))\n",
    "            if recall > 0.9:\n",
    "                if cell_label in cell_to_soma.keys():\n",
    "                    print(f\"cell {cell_label} already matched to soma\")\n",
    "                # assert cell_label not in cell_to_soma.keys()\n",
    "                cell_to_soma[cell_label] = soma_label\n",
    "                found = True\n",
    "        if not found:\n",
    "            wher = np.where(seg_soma == soma_label)\n",
    "            print(\n",
    "                f\"soma {soma_label} not found in cells {(wher[0][0]*0.6, wher[1][0]*0.6)}\"\n",
    "            )\n",
    "\n",
    "    seg_cell_relabel = np.zeros_like(seg_cell)\n",
    "    for cell_label, soma_label in cell_to_soma.items():\n",
    "        seg_cell_relabel[seg_cell == cell_label] = soma_label\n",
    "    seg_cell = seg_cell_relabel\n",
    "\n",
    "    print(\"Subsetting...\")\n",
    "    for label in np.unique(seg_nuc):\n",
    "        if label == 0:\n",
    "            continue\n",
    "        seg_soma[seg_nuc == label] = label\n",
    "        seg_cell[seg_soma == label] = label\n",
    "\n",
    "    print(\"Relabelling consecutively...\")\n",
    "    seg_nuc_relabeled = np.zeros_like(seg_nuc)\n",
    "    seg_soma_relabeled = np.zeros_like(seg_soma)\n",
    "    seg_cell_relabeled = np.zeros_like(seg_cell)\n",
    "    counter = 1\n",
    "    for label in np.unique(seg_nuc):\n",
    "        if label == 0:\n",
    "            continue\n",
    "        seg_nuc_relabeled[seg_nuc == label] = counter\n",
    "        seg_soma_relabeled[seg_soma == label] = counter\n",
    "        seg_cell_relabeled[seg_cell == label] = counter\n",
    "        counter += 1\n",
    "\n",
    "    seg_nuc = seg_nuc_relabeled\n",
    "    seg_soma = seg_soma_relabeled\n",
    "    seg_cell = seg_cell_relabeled"
   ]
  },
  {
   "cell_type": "code",
   "execution_count": null,
   "metadata": {},
   "outputs": [],
   "source": [
    "viewer = napari.Viewer()\n",
    "for im, c in zip(ims, channels):\n",
    "    viewer.add_image(im, name=c, scale=(0.6, 0.6))\n",
    "\n",
    "viewer.add_image(im_rgb, name=\"rgb\", rgb=True, scale=(0.6, 0.6))\n",
    "\n",
    "print(\n",
    "    f\"max nuc: {np.amax(seg_nuc)}, max soma: {np.amax(seg_soma)}, max cell: {np.amax(seg_cell)}\"\n",
    ")\n",
    "viewer.add_labels(seg_nuc, name=\"nuclei\", scale=(0.6, 0.6))\n",
    "viewer.add_labels(seg_soma, name=\"somas\", scale=(0.6, 0.6))\n",
    "viewer.add_labels(seg_cell, name=\"cells\", scale=(0.6, 0.6))\n",
    "\n",
    "viewer.scale_bar.visible = True\n",
    "viewer.scale_bar.unit = \"um\""
   ]
  },
  {
   "cell_type": "markdown",
   "metadata": {},
   "source": [
    "# Check labels"
   ]
  },
  {
   "cell_type": "code",
   "execution_count": null,
   "metadata": {},
   "outputs": [],
   "source": [
    "dir_seg = (\n",
    "    \"/Users/thomasathey/Documents/shavit-lab/fraenkel/96_well/exp2/test_set/seg_gt_v3/\"\n",
    ")\n",
    "\n",
    "id_to_path = get_id_to_path(\n",
    "    path_dir=dir_test, tag=\".tif\", id_from_name=get_id_from_name_96\n",
    ")\n",
    "id_to_path_seg = get_id_to_path(dir_seg, tag=\".tif\", id_from_name=get_id_from_name_96)\n",
    "\n",
    "for sample in id_to_path.keys():\n",
    "    ims = read_ims(id_to_path[sample])\n",
    "    segs = read_ims(id_to_path_seg[sample])\n",
    "\n",
    "    ims = [im.astype(\"float64\") for im in ims]\n",
    "    ims = [np.linalg.norm(im, axis=-1) for im in ims]\n",
    "    ims = [im / np.amax(im) for im in ims]\n",
    "    ims = [exposure.equalize_adapthist(im, clip_limit=0.03) for im in ims]\n",
    "    # im_rgb = np.stack([ims[3], ims[4], ims[1]], axis=2)\n",
    "\n",
    "    viewer = napari.Viewer()\n",
    "    viewer.add_image(ims[1], scale=(0.6, 0.6), name=\"DNA\")\n",
    "    viewer.add_labels(segs[1], scale=(0.6, 0.6), name=\"nuclei\")\n",
    "\n",
    "    viewer.add_image(ims[4], scale=(0.6, 0.6), name=\"RNA\")\n",
    "    viewer.add_labels(segs[2], scale=(0.6, 0.6), name=\"soma\")\n",
    "\n",
    "    viewer.add_image(ims[3], scale=(0.6, 0.6), name=\"Actin\")\n",
    "    viewer.add_labels(segs[0], scale=(0.6, 0.6), name=\"cell\")\n",
    "\n",
    "    check_valid_labels(segs[1], segs[2], segs[0])\n",
    "    print(f\"{len(np.unique(segs[0]))-1} cells\")"
   ]
  },
  {
   "cell_type": "markdown",
   "metadata": {},
   "source": [
    "# Classify cell type"
   ]
  },
  {
   "cell_type": "code",
   "execution_count": null,
   "metadata": {},
   "outputs": [],
   "source": [
    "import napari\n",
    "import numpy as np\n",
    "\n",
    "viewer = napari.Viewer()\n",
    "viewer.add_image(np.ones((10, 10, 10)))\n",
    "\n",
    "\n",
    "@viewer.bind_key(\"a\")\n",
    "def get_input(viewer):\n",
    "    from magicgui.widgets import request_values\n",
    "\n",
    "    viewer.add_points(np.array([[1, 1]]), size=np.array([1]))\n",
    "\n",
    "\n",
    "napari.run()"
   ]
  },
  {
   "cell_type": "code",
   "execution_count": null,
   "metadata": {},
   "outputs": [],
   "source": [
    "dir_im = \"/Users/thomasathey/Documents/shavit-lab/fraenkel/96_well/exp2/test_set/tifs\"\n",
    "dir_seg = (\n",
    "    \"/Users/thomasathey/Documents/shavit-lab/fraenkel/96_well/exp2/test_set/seg_gt_v3/\"\n",
    ")\n",
    "outdir = \"/Users/thomasathey/Documents/shavit-lab/fraenkel/96_well/exp2/test_set/seg_gt_v3/celltypes\"\n",
    "\n",
    "label_celltype(\n",
    "    path_dir_im=dir_im, channels=[3, 4, 1], path_dir_gt=dir_seg, out_dir=outdir\n",
    ")"
   ]
  },
  {
   "cell_type": "code",
   "execution_count": null,
   "metadata": {},
   "outputs": [],
   "source": []
  }
 ],
 "metadata": {
  "kernelspec": {
   "display_name": ".venv",
   "language": "python",
   "name": "python3"
  },
  "language_info": {
   "codemirror_mode": {
    "name": "ipython",
    "version": 3
   },
   "file_extension": ".py",
   "mimetype": "text/x-python",
   "name": "python",
   "nbconvert_exporter": "python",
   "pygments_lexer": "ipython3",
   "version": "3.9.5"
  }
 },
 "nbformat": 4,
 "nbformat_minor": 2
}
