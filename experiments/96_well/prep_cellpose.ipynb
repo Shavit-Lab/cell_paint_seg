{
 "cells": [
  {
   "cell_type": "code",
   "execution_count": 2,
   "metadata": {},
   "outputs": [],
   "source": [
    "import numpy as np\n",
    "import matplotlib.pyplot as plt\n",
    "from skimage import io\n",
    "from pathlib import Path\n",
    "\n",
    "from cell_paint_seg.utils import get_id_to_path, get_id_from_name_96\n",
    "from cell_paint_seg.image_io import read_ims, read_seg"
   ]
  },
  {
   "cell_type": "code",
   "execution_count": null,
   "metadata": {},
   "outputs": [],
   "source": [
    "dir_tif = \"/Users/thomasathey/Documents/shavit-lab/fraenkel/96_well/exp2/train_set/tifs\"\n",
    "out_dir = \"/Users/thomasathey/Documents/shavit-lab/fraenkel/96_well/exp2/train_set/cellpose_2channel\"\n",
    "\n",
    "dir_tif = Path(dir_tif)\n",
    "out_dir = Path(out_dir)\n",
    "channels = [\"ER\", \"DNA\", \"Mito\", \"Actin\", \"RNA\", \"Golgi/membrane\"]\n",
    "\n",
    "id_to_path = get_id_to_path(dir_tif, tag=\".tif\", id_from_name=get_id_from_name_96)\n",
    "\n",
    "for id in id_to_path.keys():\n",
    "    ims = read_ims(id_to_path[id])\n",
    "    ims = [np.linalg.norm(ims[i], axis=-1) for i in [4, 1]]\n",
    "    ims = [im / np.amax(im) * (2**16 - 1) for im in ims]\n",
    "    ims = [im.astype(np.uint16) for im in ims]\n",
    "    im_2channel = np.stack(ims, axis=-1)\n",
    "\n",
    "    fname = out_dir / f\"{id}.tif\"\n",
    "    print(fname)\n",
    "    io.imsave(fname, im_2channel)"
   ]
  },
  {
   "cell_type": "code",
   "execution_count": 3,
   "metadata": {},
   "outputs": [],
   "source": [
    "seg = read_seg(\n",
    "    \"/Users/thomasathey/Documents/shavit-lab/fraenkel/96_well/exp2/test_set/tifs_cellpose/s039_cp_masks.png\"\n",
    ")"
   ]
  },
  {
   "cell_type": "code",
   "execution_count": null,
   "metadata": {},
   "outputs": [],
   "source": [
    "plt.imshow(seg)"
   ]
  },
  {
   "cell_type": "code",
   "execution_count": null,
   "metadata": {},
   "outputs": [],
   "source": []
  }
 ],
 "metadata": {
  "kernelspec": {
   "display_name": ".venv",
   "language": "python",
   "name": "python3"
  },
  "language_info": {
   "codemirror_mode": {
    "name": "ipython",
    "version": 3
   },
   "file_extension": ".py",
   "mimetype": "text/x-python",
   "name": "python",
   "nbconvert_exporter": "python",
   "pygments_lexer": "ipython3",
   "version": "3.9.5"
  }
 },
 "nbformat": 4,
 "nbformat_minor": 2
}
