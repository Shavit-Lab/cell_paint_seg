{
 "cells": [
  {
   "cell_type": "code",
   "execution_count": 2,
   "metadata": {},
   "outputs": [],
   "source": [
    "import numpy as np\n",
    "import matplotlib.pyplot as plt\n",
    "from skimage import io\n",
    "from pathlib import Path\n",
    "\n",
    "from cell_paint_seg.utils import get_id_to_path, get_id_from_name_96\n",
    "from cell_paint_seg.image_io import read_ims, read_seg"
   ]
  },
  {
   "cell_type": "code",
   "execution_count": null,
   "metadata": {},
   "outputs": [],
   "source": [
    "dir_tif = \"/Users/thomasathey/Documents/shavit-lab/fraenkel/96_well/exp2/train_set/tifs\"\n",
    "out_dir = \"/Users/thomasathey/Documents/shavit-lab/fraenkel/96_well/exp2/train_set/cellpose_2channel\"\n",
    "\n",
    "dir_tif = Path(dir_tif)\n",
    "out_dir = Path(out_dir)\n",
    "channels = [\"ER\", \"DNA\", \"Mito\", \"Actin\", \"RNA\", \"Golgi/membrane\"]\n",
    "\n",
    "id_to_path = get_id_to_path(dir_tif, tag=\".tif\", id_from_name=get_id_from_name_96)\n",
    "\n",
    "for id in id_to_path.keys():\n",
    "    ims = read_ims(id_to_path[id])\n",
    "    ims = [np.linalg.norm(ims[i], axis=-1) for i in [4, 1]]\n",
    "    ims = [im / np.amax(im) * (2**16 - 1) for im in ims]\n",
    "    ims = [im.astype(np.uint16) for im in ims]\n",
    "    im_2channel = np.stack(ims, axis=-1)\n",
    "\n",
    "    fname = out_dir / f\"{id}.tif\"\n",
    "    print(fname)\n",
    "    io.imsave(fname, im_2channel)"
   ]
  },
  {
   "cell_type": "code",
   "execution_count": 3,
   "metadata": {},
   "outputs": [],
   "source": [
    "seg = read_seg(\n",
    "    \"/Users/thomasathey/Documents/shavit-lab/fraenkel/96_well/exp2/test_set/tifs_cellpose/s039_cp_masks.png\"\n",
    ")"
   ]
  },
  {
   "cell_type": "code",
   "execution_count": null,
   "metadata": {},
   "outputs": [],
   "source": [
    "plt.imshow(seg)"
   ]
  },
  {
   "cell_type": "code",
   "execution_count": 12,
   "metadata": {},
   "outputs": [],
   "source": [
    "from cell_paint_seg.utils import get_id_to_path\n",
    "from PIL import Image\n",
    "import numpy as np \n",
    "from tqdm import t"
   ]
  },
  {
   "cell_type": "code",
   "execution_count": 23,
   "metadata": {},
   "outputs": [],
   "source": [
    "def id_from_name(name):\n",
    "    name = name.split(\".\")[0]\n",
    "    id = \"_\".join(name.split(\"_\")[:3])\n",
    "    return id\n",
    "\n",
    "blank_seg = np.array(Image.open(\"/Users/thomasathey/Documents/shavit-lab/fraenkel/papers/cvpr/data/all/tifs_3channel/e4_wG11_f3_cp_masks.png\")) \n",
    "blank_seg = np.zeros_like(blank_seg)"
   ]
  },
  {
   "cell_type": "code",
   "execution_count": 22,
   "metadata": {},
   "outputs": [
    {
     "data": {
      "text/plain": [
       "713"
      ]
     },
     "execution_count": 22,
     "metadata": {},
     "output_type": "execute_result"
    }
   ],
   "source": [
    "len(list(id_to_path_mask.keys()))"
   ]
  },
  {
   "cell_type": "code",
   "execution_count": 24,
   "metadata": {},
   "outputs": [
    {
     "name": "stdout",
     "output_type": "stream",
     "text": [
      "e1_wD5_f1\n",
      "e1_wD5_f2\n",
      "e1_wB11_f1\n",
      "e1_wC6_f1\n",
      "e1_wC9_f1\n",
      "e1_wE6_f1\n",
      "e1_wB9_f1\n"
     ]
    }
   ],
   "source": [
    "id_to_path_mask = get_id_to_path(\"/Users/thomasathey/Documents/shavit-lab/fraenkel/papers/cvpr/data/all/tifs_3channel_remove\", id_from_name=id_from_name, tag=\"mask\")\n",
    "id_to_path_im = get_id_to_path(\"/Users/thomasathey/Documents/shavit-lab/fraenkel/papers/cvpr/data/all/tifs_3channel_remove\", id_from_name=id_from_name, tag=\".tif\")\n",
    "\n",
    "for id_im in id_to_path_im.keys():\n",
    "    if id_im not in list(id_to_path_mask.keys()):\n",
    "        print(id_im)"
   ]
  },
  {
   "cell_type": "code",
   "execution_count": null,
   "metadata": {},
   "outputs": [],
   "source": []
  }
 ],
 "metadata": {
  "kernelspec": {
   "display_name": ".venv",
   "language": "python",
   "name": "python3"
  },
  "language_info": {
   "codemirror_mode": {
    "name": "ipython",
    "version": 3
   },
   "file_extension": ".py",
   "mimetype": "text/x-python",
   "name": "python",
   "nbconvert_exporter": "python",
   "pygments_lexer": "ipython3",
   "version": "3.9.5"
  }
 },
 "nbformat": 4,
 "nbformat_minor": 2
}
