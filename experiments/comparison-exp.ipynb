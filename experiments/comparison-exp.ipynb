{
 "cells": [
  {
   "cell_type": "code",
   "execution_count": null,
   "metadata": {},
   "outputs": [],
   "source": [
    "import pandas as pd\n",
    "import numpy as np\n",
    "from sklearn.metrics import pairwise_distances\n",
    "import matplotlib.pyplot as plt\n",
    "import seaborn as sns\n",
    "from scipy.stats import mannwhitneyu\n",
    "from tqdm import tqdm\n",
    "from cell_paint_seg.utils import get_id_to_path\n",
    "from cell_paint_seg.image_io import read_ims, read_seg\n",
    "from skimage import exposure\n",
    "import umap\n",
    "import umap.plot\n",
    "from graspologic.plot import heatmap\n",
    "import pickle"
   ]
  },
  {
   "cell_type": "code",
   "execution_count": null,
   "metadata": {},
   "outputs": [],
   "source": [
    "data_paths = [\"/Users/thomasathey/Documents/shavit-lab/fraenkel/first-sample/Assay Dev 20230329/BR00142687__2024-03-29T18_18_57-Measurement 1/stats/Image.csv\",\n",
    "\"/Users/thomasathey/Documents/shavit-lab/fraenkel/first-sample/Assay Dev 20230329/BR00142688__2024-03-29T19_57_13-Measurement 1/stats/Image.csv\"]\n",
    "\n",
    "channels = [\"Brightfield\", \"ER\", \"AGP\", \"Mito\", \"DNA\", \"RNA\"]"
   ]
  },
  {
   "cell_type": "markdown",
   "metadata": {},
   "source": [
    "# Get data"
   ]
  },
  {
   "cell_type": "code",
   "execution_count": null,
   "metadata": {},
   "outputs": [],
   "source": [
    "feats_to_exclude = ['Metadata_Series','Metadata_Site','Metadata_Well','Metadata_WellColumn','Metadata_WellRow',\n",
    "                   'AreaShape_Orientation', 'AreaShape_BoundingBoxMaximum_X','AreaShape_BoundingBoxMaximum_Y','AreaShape_BoundingBoxMinimum_X',\n",
    "                  'AreaShape_BoundingBoxMinimum_Y','AreaShape_Center_X','AreaShape_Center_Y',\n",
    "                  'Children_Cytoplasm_Count',\n",
    "                  'Location_CenterMassIntensity_X_scaled_AGP','Location_CenterMassIntensity_Y_scaled_AGP','Location_CenterMassIntensity_Z_scaled_AGP',\n",
    "                  'Location_CenterMassIntensity_X_scaled_DNA','Location_CenterMassIntensity_Y_scaled_DNA','Location_CenterMassIntensity_Z_scaled_DNA','Location_CenterMassIntensity_X_scaled_ER',\n",
    "                  'Location_CenterMassIntensity_Y_scaled_ER','Location_CenterMassIntensity_Z_scaled_ER','Location_CenterMassIntensity_X_scaled_mito','Location_CenterMassIntensity_Y_scaled_mito',\n",
    "                  'Location_CenterMassIntensity_Z_scaled_mito','Location_CenterMassIntensity_X_scaled_RNA','Location_CenterMassIntensity_Y_scaled_RNA','Location_CenterMassIntensity_Z_scaled_RNA',\n",
    "                  'Location_MaxIntensity_X_scaled_DNA','Location_MaxIntensity_X_scaled_AGP','Location_MaxIntensity_X_scaled_mito','Location_MaxIntensity_X_scaled_ER','Location_Center_X','Location_Center_Y',\n",
    "                  'Location_MaxIntensity_X_scaled_RNA','Location_MaxIntensity_Y_scaled_DNA','Location_MaxIntensity_Y_scaled_AGP','Location_MaxIntensity_Y_scaled_mito','Location_MaxIntensity_Y_scaled_ER',\n",
    "                  'Location_MaxIntensity_Y_scaled_RNA','Location_MaxIntensity_Z_scaled_DNA','Location_MaxIntensity_Z_scaled_AGP','Location_MaxIntensity_Z_scaled_mito','Location_MaxIntensity_Z_scaled_ER',\n",
    "                  'Location_MaxIntensity_Z_scaled_RNA',\n",
    "                  'Neighbors_AngleBetweenNeighbors_Adjacent','Neighbors_AngleBetweenNeighbors_25','Neighbors_FirstClosestObjectNumber_Adjacent','Neighbors_SecondClosestObjectNumber_Adjacent','Number_Object_Number',\n",
    "                  'Parent_EdgeNuclei','Parent_Nuclei','Neighbors_FirstClosestObjectNumber_25','Neighbors_SecondClosestObjectNumber_25']\n",
    "\n",
    "def include_feat(feat_name):\n",
    "    for feat_to_exclude in feats_to_exclude:\n",
    "        if feat_to_exclude in feat_name:\n",
    "            return False\n",
    "    return True\n",
    "\n",
    "dfs = []\n",
    "for i, data_path in enumerate(data_paths):\n",
    "    df = pd.read_csv(data_path)\n",
    "\n",
    "    row = [int(fname[1:3]) for fname in list(df[\"FileName_AGP\"])]\n",
    "    col = [int(fname[4:6]) for fname in list(df[\"FileName_AGP\"])]\n",
    "    well = [(i, r, c) for r, c in zip(row, col)]\n",
    "    field = [int(fname[7:9]) for fname in list(df[\"FileName_AGP\"])]\n",
    "    id = [fname[:12] for fname in list(df[\"FileName_AGP\"])]\n",
    "\n",
    "    df[\"Row\"] = row \n",
    "    df[\"Column\"] = col \n",
    "    df[\"Well\"] = well\n",
    "    df[\"Field\"] = field \n",
    "    df[\"ID\"] = id\n",
    "\n",
    "    col_names = list(df.columns)\n",
    "    col_names = [col_name for col_name in col_names if \"Mean_\" in col_name]\n",
    "    col_names = [col_name for col_name in col_names if include_feat(col_name)]\n",
    "    col_names += [\"Plate\", \"Row\", \"Column\", \"Well\", \"Field\", \"ID\"]\n",
    "    print(f\"{len(col_names)} different features\")\n",
    "    df[\"Plate\"] = i\n",
    "    dfs.append(df[col_names])\n",
    "df_means = pd.concat(dfs, axis=\"rows\")\n"
   ]
  },
  {
   "cell_type": "code",
   "execution_count": null,
   "metadata": {},
   "outputs": [],
   "source": [
    "df_conditions = pd.read_excel(\"/Users/thomasathey/Documents/shavit-lab/fraenkel/first-sample/Assay Dev 20230329/Answer ALS_Pilot2_March2024.xlsx\")\n",
    "df_conditions = df_conditions.iloc[:16, 2:]\n",
    "\n",
    "data_dmso = []\n",
    "data_autophagy = []\n",
    "data_verdinexor = []\n",
    "data_h2o2 = []\n",
    "data_tunicamycin = []\n",
    "data_importazole = []\n",
    "data_celltype = []\n",
    "\n",
    "for i, row in df_means.iterrows():\n",
    "    r = row['Row']-1\n",
    "    c = row['Column']-1\n",
    "    p = row['Plate']\n",
    "\n",
    "    condition = df_conditions.iloc[r, c]\n",
    "\n",
    "    if c % 6 == 0:\n",
    "        data_dmso.append(1)\n",
    "        data_autophagy.append(0)\n",
    "        data_verdinexor.append(0)\n",
    "        data_h2o2.append(0)\n",
    "        data_tunicamycin.append(0)\n",
    "        data_importazole.append(0)\n",
    "    elif c % 6 == 1:\n",
    "        data_dmso.append(0)\n",
    "        data_autophagy.append(1)\n",
    "        data_verdinexor.append(0)\n",
    "        data_h2o2.append(0)\n",
    "        data_tunicamycin.append(0)\n",
    "        data_importazole.append(0)\n",
    "    elif c % 6 == 2:\n",
    "        data_dmso.append(0)\n",
    "        data_autophagy.append(0)\n",
    "        data_verdinexor.append(float(condition))\n",
    "        data_h2o2.append(0)\n",
    "        data_tunicamycin.append(0)\n",
    "        data_importazole.append(0)\n",
    "    elif c % 6 == 3:\n",
    "        data_dmso.append(0)\n",
    "        data_autophagy.append(0)\n",
    "        data_verdinexor.append(0)\n",
    "        data_h2o2.append(float(condition))\n",
    "        data_tunicamycin.append(0)\n",
    "        data_importazole.append(0)\n",
    "    elif c % 6 == 4:\n",
    "        data_dmso.append(0)\n",
    "        data_autophagy.append(0)\n",
    "        data_verdinexor.append(0)\n",
    "        data_h2o2.append(0)\n",
    "        data_tunicamycin.append(float(condition))\n",
    "        data_importazole.append(0)\n",
    "    elif c % 6 == 5:\n",
    "        data_dmso.append(0)\n",
    "        data_autophagy.append(0)\n",
    "        data_verdinexor.append(0)\n",
    "        data_h2o2.append(0)\n",
    "        data_tunicamycin.append(0)\n",
    "        data_importazole.append(float(condition))\n",
    "\n",
    "\n",
    "    if p == 0:\n",
    "        if (r < 8 and c < 6) or (r >= 8 and c >= 18):\n",
    "            data_celltype.append(\"Control 1\")\n",
    "        elif (r < 8 and c >= 6 and c < 12) or (r >= 8 and c < 6):\n",
    "            data_celltype.append(\"ALS 1\")\n",
    "        elif (r < 8 and c >= 18) or (r >= 8 and c < 18 and c >= 12):\n",
    "            data_celltype.append(\"Control 2\")\n",
    "        else:\n",
    "            data_celltype.append(\"ALS 2\")\n",
    "    elif p == 1:\n",
    "        if (r < 8 and c < 6) or (r >= 8 and c >= 18):\n",
    "            data_celltype.append(\"ALS 2\")\n",
    "        elif (r < 8 and c >= 6 and c < 12) or (r >= 8 and c < 6):\n",
    "            data_celltype.append(\"Control 2\")\n",
    "        elif (r < 8 and r >= 6 and c >= 18) or (r >= 8 and r < 10 and c < 18 and c >= 12):\n",
    "            data_celltype.append(\"ALS 1\")\n",
    "        elif (r < 8 and c >= 12 and c < 18) or (r >= 8 and c < 12 and c >= 6):\n",
    "            data_celltype.append(\"Control 1\")\n",
    "        else:\n",
    "            data_celltype.append(\"EMPTY\")\n",
    "\n",
    "\n",
    "data = {\"DMSO\": data_dmso, \"Autophagy\": data_autophagy, \"Verdinexor\": data_verdinexor, \"H2O2\": data_h2o2, \"Tunicamysin\": data_tunicamycin, \"Importazole\": data_importazole, \"Cell Type\": data_celltype}\n",
    "df_covariates = pd.DataFrame(data)"
   ]
  },
  {
   "cell_type": "code",
   "execution_count": null,
   "metadata": {},
   "outputs": [],
   "source": [
    "# why do we need this?\n",
    "df_covariates.reset_index(drop=True, inplace=True)\n",
    "df_means.reset_index(drop=True, inplace=True)"
   ]
  },
  {
   "cell_type": "code",
   "execution_count": null,
   "metadata": {},
   "outputs": [],
   "source": [
    "df = pd.concat((df_means, df_covariates), axis=\"columns\")"
   ]
  },
  {
   "cell_type": "markdown",
   "metadata": {},
   "source": [
    "# Compute distance matrix"
   ]
  },
  {
   "cell_type": "code",
   "execution_count": null,
   "metadata": {},
   "outputs": [],
   "source": [
    "aggregation_functions = {k: 'median' for k in list(df.columns) if \"Mean_\" in k}\n",
    "aggregation_functions_2 = {k: 'first' for k in list(df.columns) if \"Mean_\" not in k}\n",
    "aggregation_functions.update(aggregation_functions_2)\n",
    "df_agg = df.groupby(df[\"Well\"]).aggregate(aggregation_functions)\n",
    "\n",
    "df_agg.sort_values(by=['Cell Type'], inplace=True)\n",
    "\n",
    "col_names = list(df.columns)\n",
    "col_names = [col_name for col_name in col_names if \"Mean_\" in col_name]\n",
    "print(len(col_names))\n",
    "df_feats_agg = df_agg[col_names]"
   ]
  },
  {
   "cell_type": "code",
   "execution_count": null,
   "metadata": {},
   "outputs": [],
   "source": [
    "feats = df_feats_agg.to_numpy()\n",
    "print(f\"Fraction of finite feature values: {np.sum(np.isfinite(feats))/feats.size}\")\n",
    "feats = np.nan_to_num(feats)\n",
    "D = pairwise_distances(feats, metric='cosine')"
   ]
  },
  {
   "cell_type": "markdown",
   "metadata": {},
   "source": [
    "# Plot distance matrix"
   ]
  },
  {
   "cell_type": "code",
   "execution_count": null,
   "metadata": {},
   "outputs": [],
   "source": [
    "heatmap(D, inner_hier_labels=df_agg[\"Cell Type\"])"
   ]
  },
  {
   "cell_type": "code",
   "execution_count": null,
   "metadata": {},
   "outputs": [],
   "source": [
    "data_dist = []\n",
    "data_type = []\n",
    "data_ids = []\n",
    "cell_types = df_agg[\"Cell Type\"]\n",
    "\n",
    "for i in range(D.shape[0]):\n",
    "    type1 = cell_types[i]\n",
    "    for j in range(i):\n",
    "        type2 = cell_types[j]\n",
    "        data_dist.append(D[i,j])\n",
    "        data_ids.append((id[i], id[j]))\n",
    "        if type1 == type2:\n",
    "            data_type.append(\"Same\")\n",
    "        else:\n",
    "            data_type.append(\"Different\")\n",
    "\n",
    "df_types = pd.DataFrame(data = {\"Distance\": data_dist, \"Cell Type Relationship\": data_type, \"ID Pair\": data_ids})\n",
    "sns.boxplot(df_types, x=\"Distance\", y=\"Cell Type Relationship\")\n",
    "\n",
    "x = df_types[df_types[\"Cell Type Relationship\"] == \"Same\"][\"Distance\"].to_numpy()\n",
    "y = df_types[df_types[\"Cell Type Relationship\"] == \"Different\"][\"Distance\"].to_numpy()\n",
    "res = mannwhitneyu(x,y, alternative=\"less\")\n",
    "plt.title(f\"Inter vs. Intra Cell Type Feature Distances (Mann-Whitney p-val: {res.pvalue :.2E})\")"
   ]
  },
  {
   "cell_type": "markdown",
   "metadata": {},
   "source": [
    "## Search for features"
   ]
  },
  {
   "cell_type": "code",
   "execution_count": null,
   "metadata": {},
   "outputs": [],
   "source": [
    "data_feats = []\n",
    "data_pvals = []\n",
    "\n",
    "for col in tqdm(list(df_feats_agg.columns)):\n",
    "    x = df_agg[(df_agg[\"Cell Type\"] == \"ALS 1\") | (df_agg[\"Cell Type\"] == \"ALS 2\")][col].to_numpy()\n",
    "    y = df_agg[(df_agg[\"Cell Type\"] == \"Control 1\") | (df_agg[\"Cell Type\"] == \"Control 2\")][col].to_numpy()\n",
    "\n",
    "    \n",
    "    x = np.nan_to_num(x).reshape(-1,1)\n",
    "    y = np.nan_to_num(y).reshape(-1,1)\n",
    "    res = mannwhitneyu(x,y)\n",
    "\n",
    "    data_feats.append(col)\n",
    "    data_pvals.append(res.pvalue[0])\n",
    "\n",
    "df_pvals = pd.DataFrame(data={\"P-value\": data_pvals, \"Feature\": data_feats})\n",
    "# sns.histplot(df_pvals, x=\"P-value\")"
   ]
  },
  {
   "cell_type": "code",
   "execution_count": null,
   "metadata": {},
   "outputs": [],
   "source": [
    "df_pvals.sort_values(\"P-value\", inplace=True)\n",
    "df_pvals.to_csv(\"/Users/thomasathey/Documents/shavit-lab/fraenkel/cell_paint_seg/experiments/pvals-0.csv\")"
   ]
  },
  {
   "cell_type": "markdown",
   "metadata": {},
   "source": [
    "# UMAP"
   ]
  },
  {
   "cell_type": "code",
   "execution_count": null,
   "metadata": {},
   "outputs": [],
   "source": [
    "np.save(\"/Users/thomasathey/Documents/shavit-lab/fraenkel/cell_paint_seg/experiments/D.npy\", D)\n",
    "\n",
    "df_agg.to_csv(\"/Users/thomasathey/Documents/shavit-lab/fraenkel/cell_paint_seg/experiments/df_agg.csv\")\n",
    "\n",
    "with open('/Users/thomasathey/Documents/shavit-lab/fraenkel/cell_paint_seg/experiments/mapper.pickle', 'rb') as file:\n",
    "    mapper = pickle.load(file)\n",
    "\n",
    "#mapper = umap.UMAP().fit(D)"
   ]
  },
  {
   "cell_type": "code",
   "execution_count": null,
   "metadata": {},
   "outputs": [],
   "source": [
    "umap.plot.points(mapper, labels=df_agg[\"Cell Type\"])\n"
   ]
  },
  {
   "cell_type": "code",
   "execution_count": null,
   "metadata": {},
   "outputs": [],
   "source": [
    "vert = np.argsort(mapper.embedding_[:,1])\n",
    "horiz = np.argsort(mapper.embedding_[:,0])\n",
    "\n",
    "bottom, top = vert[0], vert[-1]\n",
    "left, right = horiz[0], horiz[-1]\n",
    "\n",
    "ax = umap.plot.points(mapper, labels=df_agg[\"Cell Type\"])\n",
    "for extreme in [bottom, top, left, right]:\n",
    "    ax.scatter(mapper.embedding_[extreme,0], mapper.embedding_[extreme,1], c=\"blue\")\n",
    "print(df_agg.iloc[top,:][\"ID\"])\n",
    "plt.show()"
   ]
  },
  {
   "cell_type": "markdown",
   "metadata": {},
   "source": [
    "# Get remote info"
   ]
  },
  {
   "cell_type": "code",
   "execution_count": null,
   "metadata": {},
   "outputs": [],
   "source": [
    "id_to_path_im_0 = get_id_to_path(\"/imagestore/Aneesh/Assay Dev 20230329/BR00142687__2024-03-29T18_18_57-Measurement 1/Images/\", tag=\".tif\", remote=True)\n",
    "id_to_path_seg_0 = get_id_to_path(\"/imagestore/Aneesh/Assay Dev 20230329/BR00142687__2024-03-29T18_18_57-Measurement 1/segmentations/\", tag=\".tif\", remote=True)\n",
    "\n",
    "id_to_path_im_1 = get_id_to_path(\"/imagestore/Aneesh/Assay Dev 20230329/BR00142688__2024-03-29T19_57_13-Measurement 1/Images/\", tag=\".tif\", remote=True)\n",
    "id_to_path_seg_1 = get_id_to_path(\"/imagestore/Aneesh/Assay Dev 20230329/BR00142688__2024-03-29T19_57_13-Measurement 1/segmentations/\", tag=\".tif\", remote=True)"
   ]
  },
  {
   "cell_type": "code",
   "execution_count": null,
   "metadata": {},
   "outputs": [],
   "source": [
    "def plot(id, id_to_path_im, id_to_path_seg):\n",
    "    paths_ims = id_to_path_im[0][id]\n",
    "    paths_segs = id_to_path_seg[0][id]\n",
    "\n",
    "    images = read_ims(paths_ims, sftp_client=id_to_path_im[1])\n",
    "    segs = read_ims(paths_segs, sftp_client=id_to_path_seg[1])\n",
    "\n",
    "    image_dna = images[channels.index(\"DNA\")].astype('float') / (2**16-1)\n",
    "    image_dna_adj = exposure.equalize_adapthist(image_dna, clip_limit=0.03, kernel_size = [s // 64 for s in image_dna.shape])\n",
    "    image_rna = images[channels.index(\"RNA\")].astype('float') / (2**16-1)\n",
    "    image_rna_adj = exposure.equalize_adapthist(image_rna, clip_limit=0.03)\n",
    "    image_agp = images[channels.index(\"AGP\")].astype('float') / (2**16-1)\n",
    "    image_agp_adj = exposure.equalize_adapthist(image_agp, clip_limit=0.03)\n",
    "    image_rgb = np.stack([image_agp, image_rna, image_dna], axis=2)\n",
    "    image_rgb_adj = np.stack([image_agp_adj, image_rna_adj, image_dna_adj], axis=2)\n",
    "\n",
    "    seg_cell, seg_soma, seg_nuc = segs\n",
    "    seg_cyto = np.logical_and(seg_soma > 0, seg_nuc == 0)\n",
    "\n",
    "    seg_cell_masked = np.ma.masked_array(seg_cell, mask=seg_cell == 0)\n",
    "    seg_soma_masked = np.ma.masked_array(seg_soma, mask=seg_soma == 0)\n",
    "    seg_nuc_masked = np.ma.masked_array(seg_nuc, mask=seg_nuc == 0)\n",
    "    seg_cyto_masked = np.ma.masked_array(seg_cyto, mask=seg_cyto == 0)\n",
    "\n",
    "\n",
    "    f, axs = plt.subplots(nrows=1, ncols=3, dpi=300)\n",
    "\n",
    "    axs[0].imshow(image_rgb, cmap=\"gray\")\n",
    "    axs[0].set_title(f\"Image {id}\")\n",
    "    axs[1].imshow(image_rgb_adj, cmap=\"gray\")\n",
    "    axs[2].imshow(image_dna, cmap=\"gray\")\n",
    "    axs[2].imshow(seg_cell_masked % 20, cmap=\"tab20\", alpha=0.5)\n",
    "    axs[2].imshow(seg_cyto_masked, cmap=\"Accent\", alpha=0.7)\n",
    "    axs[2].imshow(seg_nuc_masked > 0, cmap=\"Set1\", alpha=0.7)\n",
    "\n",
    "    for ax in axs.flatten():\n",
    "        ax.axis(\"off\")\n"
   ]
  },
  {
   "cell_type": "markdown",
   "metadata": {},
   "source": [
    "# Plot extremes"
   ]
  },
  {
   "cell_type": "code",
   "execution_count": null,
   "metadata": {},
   "outputs": [],
   "source": [
    "for extreme in vert[-5:]:\n",
    "    well = df_agg.iloc[extreme,:][\"Well\"]\n",
    "    id = df_agg.iloc[extreme,:][\"ID\"]\n",
    "    print(df_agg.iloc[extreme,:][\"Cell Type\"])\n",
    "    print(well)\n",
    "    if well[0] == 0:\n",
    "        plot(id, id_to_path_im_0, id_to_path_seg_0)\n",
    "    elif well[0] == 1:\n",
    "        plot(id, id_to_path_im_1, id_to_path_seg_1)"
   ]
  },
  {
   "cell_type": "code",
   "execution_count": null,
   "metadata": {},
   "outputs": [],
   "source": [
    "for extreme in vert[:5]:\n",
    "    well = df_agg.iloc[extreme,:][\"Well\"]\n",
    "    id = df_agg.iloc[extreme,:][\"ID\"]\n",
    "    print(df_agg.iloc[extreme,:][\"Cell Type\"])\n",
    "    print(well)\n",
    "    if well[0] == 0:\n",
    "        plot(id, id_to_path_im_0, id_to_path_seg_0)\n",
    "    elif well[0] == 1:\n",
    "        plot(id, id_to_path_im_1, id_to_path_seg_1)"
   ]
  },
  {
   "cell_type": "code",
   "execution_count": null,
   "metadata": {},
   "outputs": [],
   "source": [
    "\n",
    "for extreme in [bottom, top, left, right]:\n",
    "    well = df_agg.iloc[extreme,:][\"Well\"]\n",
    "    id = df_agg.iloc[extreme,:][\"ID\"]\n",
    "    if well[0] == 0:\n",
    "        plot(id, id_to_path_im_0, id_to_path_seg_0)\n",
    "    elif well[0] == 1:\n",
    "        plot(id, id_to_path_im_1, id_to_path_seg_1)"
   ]
  },
  {
   "cell_type": "markdown",
   "metadata": {},
   "source": [
    "# Plot results"
   ]
  },
  {
   "cell_type": "code",
   "execution_count": null,
   "metadata": {},
   "outputs": [],
   "source": [
    "data_mean = df_means.to_numpy()\n",
    "data_mean = np.nan_to_num(data_mean)\n",
    "#data_mean = [row for row, f in zip(data_mean, field) if f != 5]\n",
    "D = pairwise_distances(data_mean, metric='cosine')\n",
    "\n",
    "lim = 9*10\n",
    "plt.imshow(D[:lim,:lim])\n",
    "plt.colorbar()\n",
    "\n",
    "for i in np.arange(0, lim, 9):\n",
    "    plt.plot([0, lim], [i-0.5, i-0.5], 'r--', linewidth=0.5)\n",
    "    plt.plot([i-0.5, i-0.5], [0, lim], 'r--', linewidth=0.5)\n",
    "\n",
    "plt.title(\"Feature Cosine Distances between Images (First 90)\")\n",
    "plt.xticks([])\n",
    "plt.yticks([])"
   ]
  },
  {
   "cell_type": "code",
   "execution_count": null,
   "metadata": {},
   "outputs": [],
   "source": [
    "data_dist = []\n",
    "data_type = []\n",
    "data_ids = []\n",
    "for i in range(D.shape[0]):\n",
    "    tile1 = i // 9\n",
    "    for j in range(i):\n",
    "        tile2 = j // 9\n",
    "        data_dist.append(D[i,j])\n",
    "        data_ids.append((id[i], id[j]))\n",
    "        if tile1 == tile2:\n",
    "            data_type.append(\"Same\")\n",
    "        else:\n",
    "            data_type.append(\"Different\")\n",
    "\n",
    "df_types = pd.DataFrame(data = {\"Distance\": data_dist, \"Well Relationship\": data_type, \"ID Pair\": data_ids})\n",
    "sns.boxplot(df_types, x=\"Distance\", y=\"Well Relationship\")\n",
    "\n",
    "x = df_types[df_types[\"Well Relationship\"] == \"Same\"][\"Distance\"].to_numpy()\n",
    "y = df_types[df_types[\"Well Relationship\"] == \"Different\"][\"Distance\"].to_numpy()\n",
    "res = mannwhitneyu(x,y, alternative=\"less\")\n",
    "plt.title(f\"Inter vs. Intrawell Feature Distances (Mann-Whitney p-val: {res.pvalue :.2E})\")"
   ]
  },
  {
   "cell_type": "code",
   "execution_count": null,
   "metadata": {},
   "outputs": [],
   "source": [
    "df_outliers = df_types[(df_types[\"Well Relationship\"] == \"Same\") & (df_types[\"Distance\"] > 0.5)]\n",
    "for pair in df_outliers[\"ID Pair\"]:\n",
    "    plot(pair[0], id_to_path_im, id_to_path_seg)\n",
    "    plt.show()\n",
    "    plot(pair[1], id_to_path_im, id_to_path_seg)\n",
    "    plt.show()\n",
    "    print(\"**\")\n",
    "    "
   ]
  },
  {
   "cell_type": "markdown",
   "metadata": {},
   "source": [
    "# Cell Type Distances"
   ]
  },
  {
   "cell_type": "code",
   "execution_count": null,
   "metadata": {},
   "outputs": [],
   "source": [
    "data_dist = []\n",
    "data_type = []\n",
    "data_ids = []\n",
    "for i in range(D.shape[0]):\n",
    "    type1 = cell_types[i]\n",
    "    for j in range(i):\n",
    "        type2 = cell_types[j]\n",
    "        data_dist.append(D[i,j])\n",
    "        data_ids.append((id[i], id[j]))\n",
    "        if type1 == type2:\n",
    "            data_type.append(\"Same\")\n",
    "        else:\n",
    "            data_type.append(\"Different\")\n",
    "\n",
    "df_types = pd.DataFrame(data = {\"Distance\": data_dist, \"Cell Type Relationship\": data_type, \"ID Pair\": data_ids})\n",
    "sns.boxplot(df_types, x=\"Distance\", y=\"Cell Type Relationship\")\n",
    "\n",
    "x = df_types[df_types[\"Cell Type Relationship\"] == \"Same\"][\"Distance\"].to_numpy()\n",
    "y = df_types[df_types[\"Cell Type Relationship\"] == \"Different\"][\"Distance\"].to_numpy()\n",
    "res = mannwhitneyu(x,y, alternative=\"less\")\n",
    "plt.title(f\"Inter vs. Intrawell Feature Distances (Mann-Whitney p-val: {res.pvalue :.2E})\")"
   ]
  },
  {
   "cell_type": "markdown",
   "metadata": {},
   "source": [
    "# Intrawell distances"
   ]
  },
  {
   "cell_type": "code",
   "execution_count": null,
   "metadata": {},
   "outputs": [],
   "source": [
    "data_dist = []\n",
    "data_type = []\n",
    "\n",
    "D_tile = np.zeros((9,9,D.shape[0] // 9))\n",
    "for i in range(D.shape[0]):\n",
    "    tile1 = i // 9\n",
    "    for j in range(i):\n",
    "        tile2 = j // 9\n",
    "        if tile1 == tile2:\n",
    "            f1 = i % 9\n",
    "            f2 = j % 9\n",
    "            D_tile[f1, f2, tile1] = D[i,j]\n",
    "\n",
    "\n",
    "D_tile2 = np.zeros((9,(D.shape[0] // 9)*8))\n",
    "for field in range(D_tile2.shape[0]):\n",
    "    distances = []\n",
    "    for i in range(1,D_tile.shape[0]):\n",
    "        for j in range(i):\n",
    "            if i == field or j == field:\n",
    "                distances += list(D_tile[i,j,:])\n",
    "\n",
    "    D_tile2[field,:] = distances\n",
    "\n",
    "dfs = []\n",
    "for field in range(D_tile2.shape[0]):\n",
    "    df = pd.DataFrame({\"Distance\": D_tile2[field,:]})\n",
    "    df[\"Field\"] = str(field)\n",
    "    dfs.append(df)\n",
    "df = pd.concat(dfs)\n",
    "\n",
    "sns.boxplot(df, x=\"Distance\", y=\"Field\")\n",
    "plt.title(\"Distances from Other Fields of Same Well\")\n",
    "\n",
    "# # f, axs = plt.subplots(nrows=9, ncols=9)\n",
    "# # for i, row in enumerate(axs):\n",
    "# #     for j, ax in enumerate(row):\n",
    "# #         sns.histplot(D_tile[i,j,:], ax=ax)\n",
    "# #         ax.set_xlim(left=0, right=1)\n",
    "\n",
    "# # f.set_size_inches(20,20)\n",
    "\n",
    "# f, axs = plt.subplots(ncols=9)\n",
    "# for i, ax in enumerate(axs):\n",
    "#     sns.histplot(D_tile2[i,:], ax=ax)\n",
    "#     ax.set_xlim(left=0, right=1)\n",
    "# f.set_size_inches(15,5)\n"
   ]
  },
  {
   "cell_type": "code",
   "execution_count": null,
   "metadata": {},
   "outputs": [],
   "source": []
  }
 ],
 "metadata": {
  "language_info": {
   "name": "python"
  }
 },
 "nbformat": 4,
 "nbformat_minor": 2
}
